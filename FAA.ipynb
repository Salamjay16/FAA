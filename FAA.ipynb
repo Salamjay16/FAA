{
 "cells": [
  {
   "cell_type": "markdown",
   "id": "20cf6a7e",
   "metadata": {},
   "source": [
    "# List comprehension"
   ]
  },
  {
   "cell_type": "markdown",
   "id": "5503d14f",
   "metadata": {},
   "source": [
    "for number in range(0,1000):\n",
    "    if number % 2 == 1:\n",
    "        mylist.append(number)\n",
    "print(mylist)"
   ]
  },
  {
   "cell_type": "code",
   "execution_count": 1,
   "id": "42d7f2db",
   "metadata": {},
   "outputs": [
    {
     "data": {
      "text/plain": [
       "[0,\n",
       " 2,\n",
       " 4,\n",
       " 6,\n",
       " 8,\n",
       " 10,\n",
       " 12,\n",
       " 14,\n",
       " 16,\n",
       " 18,\n",
       " 20,\n",
       " 22,\n",
       " 24,\n",
       " 26,\n",
       " 28,\n",
       " 30,\n",
       " 32,\n",
       " 34,\n",
       " 36,\n",
       " 38,\n",
       " 40,\n",
       " 42,\n",
       " 44,\n",
       " 46,\n",
       " 48,\n",
       " 50,\n",
       " 52,\n",
       " 54,\n",
       " 56,\n",
       " 58,\n",
       " 60,\n",
       " 62,\n",
       " 64,\n",
       " 66,\n",
       " 68,\n",
       " 70,\n",
       " 72,\n",
       " 74,\n",
       " 76,\n",
       " 78,\n",
       " 80,\n",
       " 82,\n",
       " 84,\n",
       " 86,\n",
       " 88,\n",
       " 90,\n",
       " 92,\n",
       " 94,\n",
       " 96,\n",
       " 98,\n",
       " 100,\n",
       " 102,\n",
       " 104,\n",
       " 106,\n",
       " 108,\n",
       " 110,\n",
       " 112,\n",
       " 114,\n",
       " 116,\n",
       " 118,\n",
       " 120,\n",
       " 122,\n",
       " 124,\n",
       " 126,\n",
       " 128,\n",
       " 130,\n",
       " 132,\n",
       " 134,\n",
       " 136,\n",
       " 138,\n",
       " 140,\n",
       " 142,\n",
       " 144,\n",
       " 146,\n",
       " 148,\n",
       " 150,\n",
       " 152,\n",
       " 154,\n",
       " 156,\n",
       " 158,\n",
       " 160,\n",
       " 162,\n",
       " 164,\n",
       " 166,\n",
       " 168,\n",
       " 170,\n",
       " 172,\n",
       " 174,\n",
       " 176,\n",
       " 178,\n",
       " 180,\n",
       " 182,\n",
       " 184,\n",
       " 186,\n",
       " 188,\n",
       " 190,\n",
       " 192,\n",
       " 194,\n",
       " 196,\n",
       " 198,\n",
       " 200,\n",
       " 202,\n",
       " 204,\n",
       " 206,\n",
       " 208,\n",
       " 210,\n",
       " 212,\n",
       " 214,\n",
       " 216,\n",
       " 218,\n",
       " 220,\n",
       " 222,\n",
       " 224,\n",
       " 226,\n",
       " 228,\n",
       " 230,\n",
       " 232,\n",
       " 234,\n",
       " 236,\n",
       " 238,\n",
       " 240,\n",
       " 242,\n",
       " 244,\n",
       " 246,\n",
       " 248,\n",
       " 250,\n",
       " 252,\n",
       " 254,\n",
       " 256,\n",
       " 258,\n",
       " 260,\n",
       " 262,\n",
       " 264,\n",
       " 266,\n",
       " 268,\n",
       " 270,\n",
       " 272,\n",
       " 274,\n",
       " 276,\n",
       " 278,\n",
       " 280,\n",
       " 282,\n",
       " 284,\n",
       " 286,\n",
       " 288,\n",
       " 290,\n",
       " 292,\n",
       " 294,\n",
       " 296,\n",
       " 298,\n",
       " 300,\n",
       " 302,\n",
       " 304,\n",
       " 306,\n",
       " 308,\n",
       " 310,\n",
       " 312,\n",
       " 314,\n",
       " 316,\n",
       " 318,\n",
       " 320,\n",
       " 322,\n",
       " 324,\n",
       " 326,\n",
       " 328,\n",
       " 330,\n",
       " 332,\n",
       " 334,\n",
       " 336,\n",
       " 338,\n",
       " 340,\n",
       " 342,\n",
       " 344,\n",
       " 346,\n",
       " 348,\n",
       " 350,\n",
       " 352,\n",
       " 354,\n",
       " 356,\n",
       " 358,\n",
       " 360,\n",
       " 362,\n",
       " 364,\n",
       " 366,\n",
       " 368,\n",
       " 370,\n",
       " 372,\n",
       " 374,\n",
       " 376,\n",
       " 378,\n",
       " 380,\n",
       " 382,\n",
       " 384,\n",
       " 386,\n",
       " 388,\n",
       " 390,\n",
       " 392,\n",
       " 394,\n",
       " 396,\n",
       " 398,\n",
       " 400,\n",
       " 402,\n",
       " 404,\n",
       " 406,\n",
       " 408,\n",
       " 410,\n",
       " 412,\n",
       " 414,\n",
       " 416,\n",
       " 418,\n",
       " 420,\n",
       " 422,\n",
       " 424,\n",
       " 426,\n",
       " 428,\n",
       " 430,\n",
       " 432,\n",
       " 434,\n",
       " 436,\n",
       " 438,\n",
       " 440,\n",
       " 442,\n",
       " 444,\n",
       " 446,\n",
       " 448,\n",
       " 450,\n",
       " 452,\n",
       " 454,\n",
       " 456,\n",
       " 458,\n",
       " 460,\n",
       " 462,\n",
       " 464,\n",
       " 466,\n",
       " 468,\n",
       " 470,\n",
       " 472,\n",
       " 474,\n",
       " 476,\n",
       " 478,\n",
       " 480,\n",
       " 482,\n",
       " 484,\n",
       " 486,\n",
       " 488,\n",
       " 490,\n",
       " 492,\n",
       " 494,\n",
       " 496,\n",
       " 498,\n",
       " 500,\n",
       " 502,\n",
       " 504,\n",
       " 506,\n",
       " 508,\n",
       " 510,\n",
       " 512,\n",
       " 514,\n",
       " 516,\n",
       " 518,\n",
       " 520,\n",
       " 522,\n",
       " 524,\n",
       " 526,\n",
       " 528,\n",
       " 530,\n",
       " 532,\n",
       " 534,\n",
       " 536,\n",
       " 538,\n",
       " 540,\n",
       " 542,\n",
       " 544,\n",
       " 546,\n",
       " 548,\n",
       " 550,\n",
       " 552,\n",
       " 554,\n",
       " 556,\n",
       " 558,\n",
       " 560,\n",
       " 562,\n",
       " 564,\n",
       " 566,\n",
       " 568,\n",
       " 570,\n",
       " 572,\n",
       " 574,\n",
       " 576,\n",
       " 578,\n",
       " 580,\n",
       " 582,\n",
       " 584,\n",
       " 586,\n",
       " 588,\n",
       " 590,\n",
       " 592,\n",
       " 594,\n",
       " 596,\n",
       " 598,\n",
       " 600,\n",
       " 602,\n",
       " 604,\n",
       " 606,\n",
       " 608,\n",
       " 610,\n",
       " 612,\n",
       " 614,\n",
       " 616,\n",
       " 618,\n",
       " 620,\n",
       " 622,\n",
       " 624,\n",
       " 626,\n",
       " 628,\n",
       " 630,\n",
       " 632,\n",
       " 634,\n",
       " 636,\n",
       " 638,\n",
       " 640,\n",
       " 642,\n",
       " 644,\n",
       " 646,\n",
       " 648,\n",
       " 650,\n",
       " 652,\n",
       " 654,\n",
       " 656,\n",
       " 658,\n",
       " 660,\n",
       " 662,\n",
       " 664,\n",
       " 666,\n",
       " 668,\n",
       " 670,\n",
       " 672,\n",
       " 674,\n",
       " 676,\n",
       " 678,\n",
       " 680,\n",
       " 682,\n",
       " 684,\n",
       " 686,\n",
       " 688,\n",
       " 690,\n",
       " 692,\n",
       " 694,\n",
       " 696,\n",
       " 698,\n",
       " 700,\n",
       " 702,\n",
       " 704,\n",
       " 706,\n",
       " 708,\n",
       " 710,\n",
       " 712,\n",
       " 714,\n",
       " 716,\n",
       " 718,\n",
       " 720,\n",
       " 722,\n",
       " 724,\n",
       " 726,\n",
       " 728,\n",
       " 730,\n",
       " 732,\n",
       " 734,\n",
       " 736,\n",
       " 738,\n",
       " 740,\n",
       " 742,\n",
       " 744,\n",
       " 746,\n",
       " 748,\n",
       " 750,\n",
       " 752,\n",
       " 754,\n",
       " 756,\n",
       " 758,\n",
       " 760,\n",
       " 762,\n",
       " 764,\n",
       " 766,\n",
       " 768,\n",
       " 770,\n",
       " 772,\n",
       " 774,\n",
       " 776,\n",
       " 778,\n",
       " 780,\n",
       " 782,\n",
       " 784,\n",
       " 786,\n",
       " 788,\n",
       " 790,\n",
       " 792,\n",
       " 794,\n",
       " 796,\n",
       " 798,\n",
       " 800,\n",
       " 802,\n",
       " 804,\n",
       " 806,\n",
       " 808,\n",
       " 810,\n",
       " 812,\n",
       " 814,\n",
       " 816,\n",
       " 818,\n",
       " 820,\n",
       " 822,\n",
       " 824,\n",
       " 826,\n",
       " 828,\n",
       " 830,\n",
       " 832,\n",
       " 834,\n",
       " 836,\n",
       " 838,\n",
       " 840,\n",
       " 842,\n",
       " 844,\n",
       " 846,\n",
       " 848,\n",
       " 850,\n",
       " 852,\n",
       " 854,\n",
       " 856,\n",
       " 858,\n",
       " 860,\n",
       " 862,\n",
       " 864,\n",
       " 866,\n",
       " 868,\n",
       " 870,\n",
       " 872,\n",
       " 874,\n",
       " 876,\n",
       " 878,\n",
       " 880,\n",
       " 882,\n",
       " 884,\n",
       " 886,\n",
       " 888,\n",
       " 890,\n",
       " 892,\n",
       " 894,\n",
       " 896,\n",
       " 898,\n",
       " 900,\n",
       " 902,\n",
       " 904,\n",
       " 906,\n",
       " 908,\n",
       " 910,\n",
       " 912,\n",
       " 914,\n",
       " 916,\n",
       " 918,\n",
       " 920,\n",
       " 922,\n",
       " 924,\n",
       " 926,\n",
       " 928,\n",
       " 930,\n",
       " 932,\n",
       " 934,\n",
       " 936,\n",
       " 938,\n",
       " 940,\n",
       " 942,\n",
       " 944,\n",
       " 946,\n",
       " 948,\n",
       " 950,\n",
       " 952,\n",
       " 954,\n",
       " 956,\n",
       " 958,\n",
       " 960,\n",
       " 962,\n",
       " 964,\n",
       " 966,\n",
       " 968,\n",
       " 970,\n",
       " 972,\n",
       " 974,\n",
       " 976,\n",
       " 978,\n",
       " 980,\n",
       " 982,\n",
       " 984,\n",
       " 986,\n",
       " 988,\n",
       " 990,\n",
       " 992,\n",
       " 994,\n",
       " 996,\n",
       " 998]"
      ]
     },
     "execution_count": 1,
     "metadata": {},
     "output_type": "execute_result"
    }
   ],
   "source": [
    "mylist = [number for number in range(0, 1000) if number % 2 == 0]\n",
    "mylist"
   ]
  },
  {
   "cell_type": "code",
   "execution_count": 1,
   "id": "8fcd1716",
   "metadata": {},
   "outputs": [
    {
     "name": "stdout",
     "output_type": "stream",
     "text": [
      "[0, 5, 10, 15, 20, 25, 30, 35, 40, 45, 50, 55, 60, 65, 70, 75, 80, 85, 90, 95, 100, 105, 110, 115, 120, 125, 130, 135, 140, 145, 150, 155, 160, 165, 170, 175, 180, 185, 190, 195, 200, 205, 210, 215, 220, 225, 230, 235, 240, 245, 250, 255, 260, 265, 270, 275, 280, 285, 290, 295, 300, 305, 310, 315, 320, 325, 330, 335, 340, 345, 350, 355, 360, 365, 370, 375, 380, 385, 390, 395, 400, 405, 410, 415, 420, 425, 430, 435, 440, 445, 450, 455, 460, 465, 470, 475, 480, 485, 490, 495, 500, 505, 510, 515, 520, 525, 530, 535, 540, 545, 550, 555, 560, 565, 570, 575, 580, 585, 590, 595, 600, 605, 610, 615, 620, 625, 630, 635, 640, 645, 650, 655, 660, 665, 670, 675, 680, 685, 690, 695, 700, 705, 710, 715, 720, 725, 730, 735, 740, 745, 750, 755, 760, 765, 770, 775, 780, 785, 790, 795, 800, 805, 810, 815, 820, 825, 830, 835, 840, 845, 850, 855, 860, 865, 870, 875, 880, 885, 890, 895, 900, 905, 910, 915, 920, 925, 930, 935, 940, 945, 950, 955, 960, 965, 970, 975, 980, 985, 990, 995]\n"
     ]
    }
   ],
   "source": [
    "mylist = []\n",
    "for number in range(0,1000):\n",
    "    if number % 5 == 0:\n",
    "        mylist.append(number)\n",
    "print(mylist)"
   ]
  },
  {
   "cell_type": "code",
   "execution_count": null,
   "id": "8df18f7a",
   "metadata": {},
   "outputs": [],
   "source": []
  },
  {
   "cell_type": "code",
   "execution_count": null,
   "id": "873e4ab1",
   "metadata": {},
   "outputs": [],
   "source": []
  },
  {
   "cell_type": "markdown",
   "id": "a5cbce83",
   "metadata": {},
   "source": [
    "# Numpy [Numerical Python]"
   ]
  },
  {
   "cell_type": "markdown",
   "id": "0458bba5",
   "metadata": {},
   "source": [
    " is an open source source python which stands for Numerical Python;has it's application in \n",
    " -Matrices\n",
    " -Linear Algebra\n",
    " -Fourier Transform"
   ]
  },
  {
   "cell_type": "code",
   "execution_count": 3,
   "id": "f9b259fa",
   "metadata": {},
   "outputs": [],
   "source": [
    "import numpy as np"
   ]
  },
  {
   "cell_type": "markdown",
   "id": "91063591",
   "metadata": {},
   "source": [
    "creating Arrays(Single Array also called VECTOR)"
   ]
  },
  {
   "cell_type": "code",
   "execution_count": 4,
   "id": "d6deac7f",
   "metadata": {},
   "outputs": [
    {
     "data": {
      "text/plain": [
       "array([4, 5, 6])"
      ]
     },
     "execution_count": 4,
     "metadata": {},
     "output_type": "execute_result"
    }
   ],
   "source": [
    "y = np.array([4, 5, 6])\n",
    "y"
   ]
  },
  {
   "cell_type": "code",
   "execution_count": 5,
   "id": "ac725677",
   "metadata": {},
   "outputs": [
    {
     "data": {
      "text/plain": [
       "[1, 2, 3]"
      ]
     },
     "execution_count": 5,
     "metadata": {},
     "output_type": "execute_result"
    }
   ],
   "source": [
    "mylist = [1, 2, 3]\n",
    "x = np.array(mylist)\n",
    "mylist"
   ]
  },
  {
   "cell_type": "markdown",
   "id": "5e9a96d7",
   "metadata": {},
   "source": [
    "Multi-Dimensional Arrays"
   ]
  },
  {
   "cell_type": "code",
   "execution_count": 6,
   "id": "6609eae9",
   "metadata": {},
   "outputs": [
    {
     "data": {
      "text/plain": [
       "array([[1, 2, 3],\n",
       "       [4, 5, 6],\n",
       "       [7, 8, 9]])"
      ]
     },
     "execution_count": 6,
     "metadata": {},
     "output_type": "execute_result"
    }
   ],
   "source": [
    "m = np.array([[1,2,3], [4,5,6], [7,8,9]])\n",
    "m"
   ]
  },
  {
   "cell_type": "code",
   "execution_count": 7,
   "id": "0f6e4ca6",
   "metadata": {},
   "outputs": [
    {
     "data": {
      "text/plain": [
       "array([[9, 1, 8, 4],\n",
       "       [3, 5, 6, 2]])"
      ]
     },
     "execution_count": 7,
     "metadata": {},
     "output_type": "execute_result"
    }
   ],
   "source": [
    "w = np.array([[9,1,8,4], [3,5,6,2]])\n",
    "w"
   ]
  },
  {
   "cell_type": "markdown",
   "id": "8dedbed1",
   "metadata": {},
   "source": [
    "Shaping (Array Dimension)"
   ]
  },
  {
   "cell_type": "code",
   "execution_count": 8,
   "id": "6861b717",
   "metadata": {},
   "outputs": [
    {
     "data": {
      "text/plain": [
       "(3, 3)"
      ]
     },
     "execution_count": 8,
     "metadata": {},
     "output_type": "execute_result"
    }
   ],
   "source": [
    "np.shape(m)"
   ]
  },
  {
   "cell_type": "code",
   "execution_count": 9,
   "id": "e885b31f",
   "metadata": {},
   "outputs": [
    {
     "data": {
      "text/plain": [
       "(2, 4)"
      ]
     },
     "execution_count": 9,
     "metadata": {},
     "output_type": "execute_result"
    }
   ],
   "source": [
    "np.shape(w)"
   ]
  },
  {
   "cell_type": "code",
   "execution_count": 10,
   "id": "6b5ed437",
   "metadata": {},
   "outputs": [
    {
     "data": {
      "text/plain": [
       "array([ 0,  2,  4,  6,  8, 10, 12, 14, 16, 18, 20, 22, 24, 26, 28, 30])"
      ]
     },
     "execution_count": 10,
     "metadata": {},
     "output_type": "execute_result"
    }
   ],
   "source": [
    "r = np.arange(0, 31, 2) #start at, stop before, step over\n",
    "r"
   ]
  },
  {
   "cell_type": "code",
   "execution_count": 11,
   "id": "0e3d1905",
   "metadata": {},
   "outputs": [
    {
     "data": {
      "text/plain": [
       "(16,)"
      ]
     },
     "execution_count": 11,
     "metadata": {},
     "output_type": "execute_result"
    }
   ],
   "source": [
    "np.shape(r)"
   ]
  },
  {
   "cell_type": "code",
   "execution_count": 12,
   "id": "f90972ff",
   "metadata": {},
   "outputs": [
    {
     "data": {
      "text/plain": [
       "(2, 3)"
      ]
     },
     "execution_count": 12,
     "metadata": {},
     "output_type": "execute_result"
    }
   ],
   "source": [
    "n1=np.array([[1,2,3],[4,5,6]])\n",
    "n1.shape"
   ]
  },
  {
   "cell_type": "code",
   "execution_count": 13,
   "id": "222d5354",
   "metadata": {},
   "outputs": [
    {
     "data": {
      "text/plain": [
       "(3, 2)"
      ]
     },
     "execution_count": 13,
     "metadata": {},
     "output_type": "execute_result"
    }
   ],
   "source": [
    "n1.shape = (3,2)\n",
    "n1.shape"
   ]
  },
  {
   "cell_type": "markdown",
   "id": "4bc95838",
   "metadata": {},
   "source": [
    "Reshape: returns an array with the same data with a new shape"
   ]
  },
  {
   "cell_type": "code",
   "execution_count": 14,
   "id": "bf7be971",
   "metadata": {},
   "outputs": [
    {
     "data": {
      "text/plain": [
       "array([1, 2, 3, 4, 5, 6, 7, 8, 9])"
      ]
     },
     "execution_count": 14,
     "metadata": {},
     "output_type": "execute_result"
    }
   ],
   "source": [
    "x = np.arange(1, 10)\n",
    "x"
   ]
  },
  {
   "cell_type": "code",
   "execution_count": 15,
   "id": "d30412f8",
   "metadata": {},
   "outputs": [
    {
     "data": {
      "text/plain": [
       "array([ 1,  4,  9, 16, 25, 36, 49, 64, 81], dtype=int32)"
      ]
     },
     "execution_count": 15,
     "metadata": {},
     "output_type": "execute_result"
    }
   ],
   "source": [
    "x = x ** 2 \n",
    "x"
   ]
  },
  {
   "cell_type": "code",
   "execution_count": 16,
   "id": "11e1e192",
   "metadata": {},
   "outputs": [
    {
     "data": {
      "text/plain": [
       "array([[ 1,  4,  9],\n",
       "       [16, 25, 36],\n",
       "       [49, 64, 81]], dtype=int32)"
      ]
     },
     "execution_count": 16,
     "metadata": {},
     "output_type": "execute_result"
    }
   ],
   "source": [
    "x = x.reshape(3,3)\n",
    "x"
   ]
  },
  {
   "cell_type": "code",
   "execution_count": 17,
   "id": "84f5f395",
   "metadata": {},
   "outputs": [
    {
     "data": {
      "text/plain": [
       "array([[ 1, 16, 49],\n",
       "       [ 4, 25, 64],\n",
       "       [ 9, 36, 81]], dtype=int32)"
      ]
     },
     "execution_count": 17,
     "metadata": {},
     "output_type": "execute_result"
    }
   ],
   "source": [
    "x.T"
   ]
  },
  {
   "cell_type": "code",
   "execution_count": 18,
   "id": "5803a49b",
   "metadata": {},
   "outputs": [
    {
     "data": {
      "text/plain": [
       "array([180, 246, 324])"
      ]
     },
     "execution_count": 18,
     "metadata": {},
     "output_type": "execute_result"
    }
   ],
   "source": [
    "np.dot(x.T, [1,2,3])"
   ]
  },
  {
   "cell_type": "code",
   "execution_count": 19,
   "id": "2bba1a99",
   "metadata": {},
   "outputs": [
    {
     "data": {
      "text/plain": [
       "(3, 3)"
      ]
     },
     "execution_count": 19,
     "metadata": {},
     "output_type": "execute_result"
    }
   ],
   "source": [
    "x.shape"
   ]
  },
  {
   "cell_type": "code",
   "execution_count": 20,
   "id": "02861487",
   "metadata": {},
   "outputs": [
    {
     "data": {
      "text/plain": [
       "numpy.ndarray"
      ]
     },
     "execution_count": 20,
     "metadata": {},
     "output_type": "execute_result"
    }
   ],
   "source": [
    "type(x) "
   ]
  },
  {
   "cell_type": "code",
   "execution_count": 21,
   "id": "a469ec60",
   "metadata": {},
   "outputs": [
    {
     "data": {
      "text/plain": [
       "array([ 1,  2,  3,  4,  5,  6,  7,  8,  9, 10, 11, 12, 13, 14])"
      ]
     },
     "execution_count": 21,
     "metadata": {},
     "output_type": "execute_result"
    }
   ],
   "source": [
    "y = np.arange(1, 15)\n",
    "y"
   ]
  },
  {
   "cell_type": "code",
   "execution_count": 22,
   "id": "7c7eb0da",
   "metadata": {},
   "outputs": [
    {
     "data": {
      "text/plain": [
       "array([2, 3])"
      ]
     },
     "execution_count": 22,
     "metadata": {},
     "output_type": "execute_result"
    }
   ],
   "source": [
    "y[1:3]"
   ]
  },
  {
   "cell_type": "markdown",
   "id": "88bcd1f0",
   "metadata": {},
   "source": [
    "np.zeros"
   ]
  },
  {
   "cell_type": "code",
   "execution_count": 23,
   "id": "de977a9e",
   "metadata": {},
   "outputs": [
    {
     "data": {
      "text/plain": [
       "array([[0., 0.]])"
      ]
     },
     "execution_count": 23,
     "metadata": {},
     "output_type": "execute_result"
    }
   ],
   "source": [
    "n1=np.zeros((1,2))\n",
    "n1"
   ]
  },
  {
   "cell_type": "code",
   "execution_count": 24,
   "id": "059faa1e",
   "metadata": {},
   "outputs": [
    {
     "data": {
      "text/plain": [
       "array([[0., 0., 0., 0., 0.],\n",
       "       [0., 0., 0., 0., 0.],\n",
       "       [0., 0., 0., 0., 0.],\n",
       "       [0., 0., 0., 0., 0.],\n",
       "       [0., 0., 0., 0., 0.]])"
      ]
     },
     "execution_count": 24,
     "metadata": {},
     "output_type": "execute_result"
    }
   ],
   "source": [
    "n1=np.zeros((5,5))\n",
    "n1"
   ]
  },
  {
   "cell_type": "code",
   "execution_count": 25,
   "id": "a15d1d41",
   "metadata": {},
   "outputs": [
    {
     "data": {
      "text/plain": [
       "array([[1., 1., 1.],\n",
       "       [1., 1., 1.],\n",
       "       [1., 1., 1.]])"
      ]
     },
     "execution_count": 25,
     "metadata": {},
     "output_type": "execute_result"
    }
   ],
   "source": [
    "p = np.ones((3,3))\n",
    "p"
   ]
  },
  {
   "cell_type": "markdown",
   "id": "91351ee3",
   "metadata": {},
   "source": [
    "unit Matrix"
   ]
  },
  {
   "cell_type": "code",
   "execution_count": 26,
   "id": "f2085d91",
   "metadata": {},
   "outputs": [
    {
     "data": {
      "text/plain": [
       "array([[1., 0., 0.],\n",
       "       [0., 1., 0.],\n",
       "       [0., 0., 1.]])"
      ]
     },
     "execution_count": 26,
     "metadata": {},
     "output_type": "execute_result"
    }
   ],
   "source": [
    "np.eye(3) "
   ]
  },
  {
   "cell_type": "code",
   "execution_count": 27,
   "id": "17ba3c52",
   "metadata": {},
   "outputs": [
    {
     "data": {
      "text/plain": [
       "array([[1., 0.],\n",
       "       [0., 1.]])"
      ]
     },
     "execution_count": 27,
     "metadata": {},
     "output_type": "execute_result"
    }
   ],
   "source": [
    "np.eye(2)"
   ]
  },
  {
   "cell_type": "code",
   "execution_count": 28,
   "id": "3a14e9b3",
   "metadata": {},
   "outputs": [
    {
     "data": {
      "text/plain": [
       "array([[1., 0., 0., 0.],\n",
       "       [0., 1., 0., 0.],\n",
       "       [0., 0., 1., 0.],\n",
       "       [0., 0., 0., 1.]])"
      ]
     },
     "execution_count": 28,
     "metadata": {},
     "output_type": "execute_result"
    }
   ],
   "source": [
    "np.eye(4)"
   ]
  },
  {
   "cell_type": "code",
   "execution_count": 29,
   "id": "1850eb2d",
   "metadata": {},
   "outputs": [
    {
     "data": {
      "text/plain": [
       "array([[10, 10],\n",
       "       [10, 10]])"
      ]
     },
     "execution_count": 29,
     "metadata": {},
     "output_type": "execute_result"
    }
   ],
   "source": [
    "y = np.full((2,2),10)\n",
    "y"
   ]
  },
  {
   "cell_type": "code",
   "execution_count": 30,
   "id": "0d2a12dd",
   "metadata": {},
   "outputs": [
    {
     "data": {
      "text/plain": [
       "array([[1, 0, 0],\n",
       "       [0, 1, 0],\n",
       "       [0, 0, 1]])"
      ]
     },
     "execution_count": 30,
     "metadata": {},
     "output_type": "execute_result"
    }
   ],
   "source": [
    "u = np.array([[1,0,0], [0,1,0], [0,0,1]])\n",
    "u"
   ]
  },
  {
   "cell_type": "code",
   "execution_count": 31,
   "id": "5a8d02bf",
   "metadata": {},
   "outputs": [
    {
     "data": {
      "text/plain": [
       "array([[1, 0, 0],\n",
       "       [0, 1, 0],\n",
       "       [0, 0, 1]])"
      ]
     },
     "execution_count": 31,
     "metadata": {},
     "output_type": "execute_result"
    }
   ],
   "source": [
    "a = u.T  #Transpose\n",
    "a"
   ]
  },
  {
   "cell_type": "code",
   "execution_count": 32,
   "id": "a8f9095d",
   "metadata": {},
   "outputs": [
    {
     "data": {
      "text/plain": [
       "array([1, 0, 0, 0, 1, 0, 0, 0, 1, 4, 5, 6])"
      ]
     },
     "execution_count": 32,
     "metadata": {},
     "output_type": "execute_result"
    }
   ],
   "source": [
    "b = np.append(a, [4,5,6])\n",
    "b"
   ]
  },
  {
   "cell_type": "code",
   "execution_count": 33,
   "id": "ea675773",
   "metadata": {},
   "outputs": [
    {
     "data": {
      "text/plain": [
       "array([[1, 0, 0],\n",
       "       [0, 1, 0],\n",
       "       [0, 0, 1],\n",
       "       [4, 5, 6]])"
      ]
     },
     "execution_count": 33,
     "metadata": {},
     "output_type": "execute_result"
    }
   ],
   "source": [
    "c = b.reshape(4,3)\n",
    "c"
   ]
  },
  {
   "cell_type": "markdown",
   "id": "f42f5d9a",
   "metadata": {},
   "source": [
    "np.full"
   ]
  },
  {
   "cell_type": "code",
   "execution_count": 34,
   "id": "0347d07e",
   "metadata": {},
   "outputs": [
    {
     "data": {
      "text/plain": [
       "array([[10, 10],\n",
       "       [10, 10]])"
      ]
     },
     "execution_count": 34,
     "metadata": {},
     "output_type": "execute_result"
    }
   ],
   "source": [
    "f =np.full((2,2),10)\n",
    "f"
   ]
  },
  {
   "cell_type": "code",
   "execution_count": 35,
   "id": "7df45b48",
   "metadata": {},
   "outputs": [
    {
     "data": {
      "text/plain": [
       "array([[1, 0, 0, 1],\n",
       "       [1, 0, 0, 1],\n",
       "       [1, 0, 0, 1],\n",
       "       [1, 0, 0, 1]])"
      ]
     },
     "execution_count": 35,
     "metadata": {},
     "output_type": "execute_result"
    }
   ],
   "source": [
    "n1=np.full((4,4),(1,0,0,1))\n",
    "n1"
   ]
  },
  {
   "cell_type": "code",
   "execution_count": 36,
   "id": "a035c3ed",
   "metadata": {},
   "outputs": [
    {
     "data": {
      "text/plain": [
       "array([[1, 1],\n",
       "       [1, 1]])"
      ]
     },
     "execution_count": 36,
     "metadata": {},
     "output_type": "execute_result"
    }
   ],
   "source": [
    "n1=np.full((2,2),1)\n",
    "n1"
   ]
  },
  {
   "cell_type": "markdown",
   "id": "982a43f7",
   "metadata": {},
   "source": [
    "np.randit"
   ]
  },
  {
   "cell_type": "code",
   "execution_count": 37,
   "id": "5573c809",
   "metadata": {},
   "outputs": [
    {
     "data": {
      "text/plain": [
       "array([96, 82, 84,  7,  5])"
      ]
     },
     "execution_count": 37,
     "metadata": {},
     "output_type": "execute_result"
    }
   ],
   "source": [
    "r =np.random.randint(1,100,5)\n",
    "r"
   ]
  },
  {
   "cell_type": "code",
   "execution_count": 38,
   "id": "44fdef53",
   "metadata": {},
   "outputs": [
    {
     "data": {
      "text/plain": [
       "array([33, 34, 69, 89, 39])"
      ]
     },
     "execution_count": 38,
     "metadata": {},
     "output_type": "execute_result"
    }
   ],
   "source": [
    "n1=np.random.randint(1,100,5) #start at, stop before, showing 5 results\n",
    "n1"
   ]
  },
  {
   "cell_type": "code",
   "execution_count": 39,
   "id": "e7d74bf2",
   "metadata": {},
   "outputs": [
    {
     "data": {
      "text/plain": [
       "array([29,  7, 79,  4, 72, 92, 58, 95, 74, 40])"
      ]
     },
     "execution_count": 39,
     "metadata": {},
     "output_type": "execute_result"
    }
   ],
   "source": [
    "r=np.random.randint(1,100,10)\n",
    "r"
   ]
  },
  {
   "cell_type": "markdown",
   "id": "6b649367",
   "metadata": {},
   "source": [
    "r.shape"
   ]
  },
  {
   "cell_type": "markdown",
   "id": "e4f7abb1",
   "metadata": {},
   "source": [
    "Suming [np.sum]"
   ]
  },
  {
   "cell_type": "code",
   "execution_count": 40,
   "id": "66ae1d2b",
   "metadata": {},
   "outputs": [
    {
     "data": {
      "text/plain": [
       "100"
      ]
     },
     "execution_count": 40,
     "metadata": {},
     "output_type": "execute_result"
    }
   ],
   "source": [
    "n1=np.array([10,20])\n",
    "n2=np.array([30,40])\n",
    "\n",
    "np.sum([n1,n2])"
   ]
  },
  {
   "cell_type": "code",
   "execution_count": 41,
   "id": "42f9bf2e",
   "metadata": {},
   "outputs": [
    {
     "data": {
      "text/plain": [
       "45"
      ]
     },
     "execution_count": 41,
     "metadata": {},
     "output_type": "execute_result"
    }
   ],
   "source": [
    "s = np.arange(1,10) #adding the list of numbers from 1-9\n",
    "s\n",
    "np.sum([s])"
   ]
  },
  {
   "cell_type": "code",
   "execution_count": 42,
   "id": "0b7760bd",
   "metadata": {},
   "outputs": [
    {
     "data": {
      "text/plain": [
       "100"
      ]
     },
     "execution_count": 42,
     "metadata": {},
     "output_type": "execute_result"
    }
   ],
   "source": [
    "a =np.array([10,20])\n",
    "d =np.array([30,40])\n",
    "s =np.array([50,60])\n",
    "\n",
    "np.sum([a,d])"
   ]
  },
  {
   "cell_type": "code",
   "execution_count": 43,
   "id": "b789daf6",
   "metadata": {},
   "outputs": [
    {
     "data": {
      "text/plain": [
       "140"
      ]
     },
     "execution_count": 43,
     "metadata": {},
     "output_type": "execute_result"
    }
   ],
   "source": [
    "np.sum([a,s])"
   ]
  },
  {
   "cell_type": "code",
   "execution_count": 44,
   "id": "e2fe37bd",
   "metadata": {},
   "outputs": [
    {
     "data": {
      "text/plain": [
       "180"
      ]
     },
     "execution_count": 44,
     "metadata": {},
     "output_type": "execute_result"
    }
   ],
   "source": [
    "np.sum([d,s])"
   ]
  },
  {
   "cell_type": "code",
   "execution_count": 45,
   "id": "b38a468e",
   "metadata": {},
   "outputs": [
    {
     "data": {
      "text/plain": [
       "210"
      ]
     },
     "execution_count": 45,
     "metadata": {},
     "output_type": "execute_result"
    }
   ],
   "source": [
    "np.sum([a,d,s])"
   ]
  },
  {
   "cell_type": "code",
   "execution_count": 46,
   "id": "c73b81ae",
   "metadata": {},
   "outputs": [
    {
     "data": {
      "text/plain": [
       "array([ 80, 100])"
      ]
     },
     "execution_count": 46,
     "metadata": {},
     "output_type": "execute_result"
    }
   ],
   "source": [
    "np.sum([d,s],axis=0)"
   ]
  },
  {
   "cell_type": "code",
   "execution_count": 47,
   "id": "899274fe",
   "metadata": {},
   "outputs": [
    {
     "data": {
      "text/plain": [
       "array([ 70, 110])"
      ]
     },
     "execution_count": 47,
     "metadata": {},
     "output_type": "execute_result"
    }
   ],
   "source": [
    "np.sum([d,s],axis=1)"
   ]
  },
  {
   "cell_type": "code",
   "execution_count": 48,
   "id": "ff83d4c5",
   "metadata": {},
   "outputs": [
    {
     "data": {
      "text/plain": [
       "array([ 90, 120])"
      ]
     },
     "execution_count": 48,
     "metadata": {},
     "output_type": "execute_result"
    }
   ],
   "source": [
    "np.sum([a,d,s],axis=0)"
   ]
  },
  {
   "cell_type": "code",
   "execution_count": 49,
   "id": "cdafccd4",
   "metadata": {},
   "outputs": [
    {
     "data": {
      "text/plain": [
       "array([ 30,  70, 110])"
      ]
     },
     "execution_count": 49,
     "metadata": {},
     "output_type": "execute_result"
    }
   ],
   "source": [
    "np.sum([a,d,s],axis=1)"
   ]
  },
  {
   "cell_type": "markdown",
   "id": "cb97cd7b",
   "metadata": {},
   "source": [
    "NumPy comparison"
   ]
  },
  {
   "cell_type": "code",
   "execution_count": 50,
   "id": "c119adfe",
   "metadata": {},
   "outputs": [
    {
     "data": {
      "text/plain": [
       "array([ True, False, False])"
      ]
     },
     "execution_count": 50,
     "metadata": {},
     "output_type": "execute_result"
    }
   ],
   "source": [
    "n1=np.array([10,20,30])\n",
    "n2=np.array([10,30,20])\n",
    "\n",
    "np.equal(n1,n2)"
   ]
  },
  {
   "cell_type": "code",
   "execution_count": 51,
   "id": "bee3ef0d",
   "metadata": {},
   "outputs": [
    {
     "data": {
      "text/plain": [
       "array([False, False,  True])"
      ]
     },
     "execution_count": 51,
     "metadata": {},
     "output_type": "execute_result"
    }
   ],
   "source": [
    "c = np.array([1,2,3])\n",
    "p = np.array([5,4,3])\n",
    "n = np.array([5,6,7])\n",
    "\n",
    "np.equal(c,p)"
   ]
  },
  {
   "cell_type": "code",
   "execution_count": 52,
   "id": "eaf00fe5",
   "metadata": {},
   "outputs": [
    {
     "data": {
      "text/plain": [
       "array([ True, False, False])"
      ]
     },
     "execution_count": 52,
     "metadata": {},
     "output_type": "execute_result"
    }
   ],
   "source": [
    "np.equal(p,n)"
   ]
  },
  {
   "cell_type": "code",
   "execution_count": 53,
   "id": "5b0d253b",
   "metadata": {},
   "outputs": [
    {
     "data": {
      "text/plain": [
       "array([False, False, False])"
      ]
     },
     "execution_count": 53,
     "metadata": {},
     "output_type": "execute_result"
    }
   ],
   "source": [
    "np.equal(c,n)"
   ]
  },
  {
   "cell_type": "code",
   "execution_count": 54,
   "id": "ff946b14",
   "metadata": {},
   "outputs": [],
   "source": [
    "#np.equal(c,p,n)"
   ]
  },
  {
   "cell_type": "code",
   "execution_count": 55,
   "id": "7f3bcd7b",
   "metadata": {},
   "outputs": [
    {
     "data": {
      "text/plain": [
       "False"
      ]
     },
     "execution_count": 55,
     "metadata": {},
     "output_type": "execute_result"
    }
   ],
   "source": [
    "np.array_equal(c,p)"
   ]
  },
  {
   "cell_type": "code",
   "execution_count": 56,
   "id": "582ec88f",
   "metadata": {},
   "outputs": [
    {
     "data": {
      "text/plain": [
       "False"
      ]
     },
     "execution_count": 56,
     "metadata": {},
     "output_type": "execute_result"
    }
   ],
   "source": [
    "np.array_equal(p,n)"
   ]
  },
  {
   "cell_type": "markdown",
   "id": "d59d9844",
   "metadata": {},
   "source": [
    "Joining Arrays"
   ]
  },
  {
   "cell_type": "code",
   "execution_count": 57,
   "id": "fa29e042",
   "metadata": {},
   "outputs": [
    {
     "data": {
      "text/plain": [
       "array([[10, 20, 30],\n",
       "       [40, 50, 60]])"
      ]
     },
     "execution_count": 57,
     "metadata": {},
     "output_type": "execute_result"
    }
   ],
   "source": [
    "n1=np.array([10,20,30])\n",
    "n2=np.array([40,50,60])\n",
    "\n",
    "np.vstack((n1,n2))      #vertical stack(joining)"
   ]
  },
  {
   "cell_type": "code",
   "execution_count": 58,
   "id": "c136fb73",
   "metadata": {},
   "outputs": [
    {
     "data": {
      "text/plain": [
       "array([[1, 2, 3],\n",
       "       [5, 4, 3]])"
      ]
     },
     "execution_count": 58,
     "metadata": {},
     "output_type": "execute_result"
    }
   ],
   "source": [
    "np.vstack((c,p)) #vertical stack(joining)"
   ]
  },
  {
   "cell_type": "code",
   "execution_count": 59,
   "id": "51b100e5",
   "metadata": {},
   "outputs": [
    {
     "data": {
      "text/plain": [
       "array([[5, 4, 3],\n",
       "       [5, 6, 7]])"
      ]
     },
     "execution_count": 59,
     "metadata": {},
     "output_type": "execute_result"
    }
   ],
   "source": [
    "np.vstack((p,n)) #vertical stack(joining)"
   ]
  },
  {
   "cell_type": "code",
   "execution_count": 60,
   "id": "8c3918f1",
   "metadata": {},
   "outputs": [
    {
     "data": {
      "text/plain": [
       "array([[1, 2, 3],\n",
       "       [5, 4, 3],\n",
       "       [5, 6, 7]])"
      ]
     },
     "execution_count": 60,
     "metadata": {},
     "output_type": "execute_result"
    }
   ],
   "source": [
    "np.vstack((c,p,n))"
   ]
  },
  {
   "cell_type": "code",
   "execution_count": null,
   "id": "99ee8c02",
   "metadata": {},
   "outputs": [],
   "source": []
  },
  {
   "cell_type": "code",
   "execution_count": 61,
   "id": "6d3da2bc",
   "metadata": {},
   "outputs": [
    {
     "data": {
      "text/plain": [
       "array([10, 20, 30, 40, 50, 60])"
      ]
     },
     "execution_count": 61,
     "metadata": {},
     "output_type": "execute_result"
    }
   ],
   "source": [
    "n1=np.array([10,20,30])\n",
    "n2=np.array([40,50,60])\n",
    "\n",
    "np.hstack((n1,n2))      #horizontal stack(joining)"
   ]
  },
  {
   "cell_type": "code",
   "execution_count": 62,
   "id": "70915698",
   "metadata": {},
   "outputs": [
    {
     "data": {
      "text/plain": [
       "array([1, 2, 3, 5, 6, 7])"
      ]
     },
     "execution_count": 62,
     "metadata": {},
     "output_type": "execute_result"
    }
   ],
   "source": [
    "np.hstack((c,n))"
   ]
  },
  {
   "cell_type": "code",
   "execution_count": 63,
   "id": "e0bf9a80",
   "metadata": {},
   "outputs": [
    {
     "data": {
      "text/plain": [
       "array([1, 2, 3, 5, 4, 3])"
      ]
     },
     "execution_count": 63,
     "metadata": {},
     "output_type": "execute_result"
    }
   ],
   "source": [
    "np.hstack((c,p))"
   ]
  },
  {
   "cell_type": "code",
   "execution_count": 64,
   "id": "8d291f5c",
   "metadata": {},
   "outputs": [
    {
     "data": {
      "text/plain": [
       "array([5, 4, 3, 5, 6, 7])"
      ]
     },
     "execution_count": 64,
     "metadata": {},
     "output_type": "execute_result"
    }
   ],
   "source": [
    "np.hstack((p,n))"
   ]
  },
  {
   "cell_type": "code",
   "execution_count": 65,
   "id": "2a9bcd02",
   "metadata": {},
   "outputs": [
    {
     "data": {
      "text/plain": [
       "array([1, 2, 3, 5, 4, 3, 5, 6, 7])"
      ]
     },
     "execution_count": 65,
     "metadata": {},
     "output_type": "execute_result"
    }
   ],
   "source": [
    "np.hstack((c,p,n))"
   ]
  },
  {
   "cell_type": "code",
   "execution_count": null,
   "id": "12ad310a",
   "metadata": {},
   "outputs": [],
   "source": []
  },
  {
   "cell_type": "code",
   "execution_count": 66,
   "id": "698e2fb0",
   "metadata": {},
   "outputs": [
    {
     "data": {
      "text/plain": [
       "array([[10, 40],\n",
       "       [20, 50],\n",
       "       [30, 60]])"
      ]
     },
     "execution_count": 66,
     "metadata": {},
     "output_type": "execute_result"
    }
   ],
   "source": [
    "n1=np.array([10,20,30])\n",
    "n2=np.array([40,50,60])\n",
    "\n",
    "np.column_stack((n1,n2))  #Column stack(joining)"
   ]
  },
  {
   "cell_type": "code",
   "execution_count": 67,
   "id": "76c162d0",
   "metadata": {},
   "outputs": [
    {
     "data": {
      "text/plain": [
       "array([[1, 5, 5],\n",
       "       [2, 4, 6],\n",
       "       [3, 3, 7]])"
      ]
     },
     "execution_count": 67,
     "metadata": {},
     "output_type": "execute_result"
    }
   ],
   "source": [
    "t = np.column_stack((c,p,n))\n",
    "t"
   ]
  },
  {
   "cell_type": "code",
   "execution_count": 68,
   "id": "f0d8684a",
   "metadata": {},
   "outputs": [],
   "source": [
    "# Column stack is the Transpose of Vertical stack"
   ]
  },
  {
   "cell_type": "markdown",
   "id": "31607cf0",
   "metadata": {},
   "source": [
    "Basic Arithmetics"
   ]
  },
  {
   "cell_type": "code",
   "execution_count": 69,
   "id": "af868dbe",
   "metadata": {},
   "outputs": [
    {
     "data": {
      "text/plain": [
       "array([ 5., 10., 15.])"
      ]
     },
     "execution_count": 69,
     "metadata": {},
     "output_type": "execute_result"
    }
   ],
   "source": [
    "n1=np.array([10,20,30])\n",
    "n1=n1/2\n",
    "n1                      #Division"
   ]
  },
  {
   "cell_type": "code",
   "execution_count": 70,
   "id": "c9cd3b7a",
   "metadata": {},
   "outputs": [
    {
     "data": {
      "text/plain": [
       "array([2.5, 2. , 1.5, 2.5, 3. , 3.5])"
      ]
     },
     "execution_count": 70,
     "metadata": {},
     "output_type": "execute_result"
    }
   ],
   "source": [
    "d = np.hstack((p,n))\n",
    "d1 = d/2\n",
    "d1"
   ]
  },
  {
   "cell_type": "code",
   "execution_count": 71,
   "id": "a5fc44f3",
   "metadata": {},
   "outputs": [
    {
     "data": {
      "text/plain": [
       "array([0.5, 1. , 1.5, 2.5, 2. , 1.5, 2.5, 3. , 3.5])"
      ]
     },
     "execution_count": 71,
     "metadata": {},
     "output_type": "execute_result"
    }
   ],
   "source": [
    "v= np.hstack((c,p,n))\n",
    "v1 = v/2\n",
    "v1"
   ]
  },
  {
   "cell_type": "code",
   "execution_count": null,
   "id": "7cf09dbf",
   "metadata": {},
   "outputs": [],
   "source": []
  },
  {
   "cell_type": "code",
   "execution_count": 72,
   "id": "4c684800",
   "metadata": {},
   "outputs": [
    {
     "data": {
      "text/plain": [
       "array([ 8, 18, 28])"
      ]
     },
     "execution_count": 72,
     "metadata": {},
     "output_type": "execute_result"
    }
   ],
   "source": [
    "n1=np.array([10,20,30])\n",
    "n1=n1-2\n",
    "n1                      #Subtraction"
   ]
  },
  {
   "cell_type": "code",
   "execution_count": 73,
   "id": "9c77a8a4",
   "metadata": {},
   "outputs": [
    {
     "data": {
      "text/plain": [
       "array([[-1,  3,  3],\n",
       "       [ 0,  2,  4],\n",
       "       [ 1,  1,  5]])"
      ]
     },
     "execution_count": 73,
     "metadata": {},
     "output_type": "execute_result"
    }
   ],
   "source": [
    "t-2"
   ]
  },
  {
   "cell_type": "code",
   "execution_count": 74,
   "id": "37622ae7",
   "metadata": {},
   "outputs": [
    {
     "data": {
      "text/plain": [
       "array([[-2, -6, -6],\n",
       "       [-3, -5, -7],\n",
       "       [-4, -4, -8]], dtype=int32)"
      ]
     },
     "execution_count": 74,
     "metadata": {},
     "output_type": "execute_result"
    }
   ],
   "source": [
    "t^-1 #inverse"
   ]
  },
  {
   "cell_type": "code",
   "execution_count": 75,
   "id": "97a838ec",
   "metadata": {},
   "outputs": [
    {
     "data": {
      "text/plain": [
       "array([[2, 6, 6],\n",
       "       [3, 5, 7],\n",
       "       [4, 4, 8]])"
      ]
     },
     "execution_count": 75,
     "metadata": {},
     "output_type": "execute_result"
    }
   ],
   "source": [
    "t+1  #Addition"
   ]
  },
  {
   "cell_type": "code",
   "execution_count": 76,
   "id": "77e7510e",
   "metadata": {},
   "outputs": [
    {
     "data": {
      "text/plain": [
       "array([[ 2, 10, 10],\n",
       "       [ 4,  8, 12],\n",
       "       [ 6,  6, 14]])"
      ]
     },
     "execution_count": 76,
     "metadata": {},
     "output_type": "execute_result"
    }
   ],
   "source": [
    "t*2 #Multiplication"
   ]
  },
  {
   "cell_type": "code",
   "execution_count": 77,
   "id": "cf67144b",
   "metadata": {},
   "outputs": [
    {
     "data": {
      "text/plain": [
       "array([[ 1, 25, 25],\n",
       "       [ 4, 16, 36],\n",
       "       [ 9,  9, 49]], dtype=int32)"
      ]
     },
     "execution_count": 77,
     "metadata": {},
     "output_type": "execute_result"
    }
   ],
   "source": [
    "t**2  #Square"
   ]
  },
  {
   "cell_type": "code",
   "execution_count": 78,
   "id": "cba271ee",
   "metadata": {},
   "outputs": [
    {
     "data": {
      "text/plain": [
       "array([[1, 1, 1],\n",
       "       [0, 0, 0],\n",
       "       [1, 1, 1]], dtype=int32)"
      ]
     },
     "execution_count": 78,
     "metadata": {},
     "output_type": "execute_result"
    }
   ],
   "source": [
    "t%2  #Modulus; shows the result without it's remainder"
   ]
  },
  {
   "cell_type": "code",
   "execution_count": 79,
   "id": "22be7afd",
   "metadata": {},
   "outputs": [
    {
     "data": {
      "text/plain": [
       "array([[0, 2, 2],\n",
       "       [1, 2, 3],\n",
       "       [1, 1, 3]], dtype=int32)"
      ]
     },
     "execution_count": 79,
     "metadata": {},
     "output_type": "execute_result"
    }
   ],
   "source": [
    "t//2 #Remainder; shows only the remainder"
   ]
  },
  {
   "cell_type": "code",
   "execution_count": null,
   "id": "70684eca",
   "metadata": {},
   "outputs": [],
   "source": []
  },
  {
   "cell_type": "markdown",
   "id": "673dd399",
   "metadata": {},
   "source": [
    "Sets"
   ]
  },
  {
   "cell_type": "code",
   "execution_count": 80,
   "id": "b29618f9",
   "metadata": {},
   "outputs": [
    {
     "data": {
      "text/plain": [
       "array([50, 60])"
      ]
     },
     "execution_count": 80,
     "metadata": {},
     "output_type": "execute_result"
    }
   ],
   "source": [
    "n1=np.array([10,20,30,40,50,60])\n",
    "n2=np.array([50,60,70,80,90])\n",
    "\n",
    "np.intersect1d(n1, n2)"
   ]
  },
  {
   "cell_type": "code",
   "execution_count": 81,
   "id": "1e9c773d",
   "metadata": {},
   "outputs": [
    {
     "data": {
      "text/plain": [
       "array([10, 20, 30, 40, 50, 60, 70, 80, 90])"
      ]
     },
     "execution_count": 81,
     "metadata": {},
     "output_type": "execute_result"
    }
   ],
   "source": [
    "np.union1d(n1, n2)"
   ]
  },
  {
   "cell_type": "code",
   "execution_count": 82,
   "id": "c796efad",
   "metadata": {},
   "outputs": [
    {
     "data": {
      "text/plain": [
       "array([3, 4, 5, 6, 7])"
      ]
     },
     "execution_count": 82,
     "metadata": {},
     "output_type": "execute_result"
    }
   ],
   "source": [
    "np.union1d(p, n)"
   ]
  },
  {
   "cell_type": "code",
   "execution_count": 83,
   "id": "222ce311",
   "metadata": {},
   "outputs": [
    {
     "data": {
      "text/plain": [
       "array([5])"
      ]
     },
     "execution_count": 83,
     "metadata": {},
     "output_type": "execute_result"
    }
   ],
   "source": [
    "np.intersect1d(p, n)"
   ]
  },
  {
   "cell_type": "code",
   "execution_count": 84,
   "id": "cf56faf3",
   "metadata": {},
   "outputs": [
    {
     "data": {
      "text/plain": [
       "array([10, 20, 30, 40])"
      ]
     },
     "execution_count": 84,
     "metadata": {},
     "output_type": "execute_result"
    }
   ],
   "source": [
    "np.setdiff1d(n1,n2)"
   ]
  },
  {
   "cell_type": "code",
   "execution_count": 85,
   "id": "af7db521",
   "metadata": {},
   "outputs": [
    {
     "data": {
      "text/plain": [
       "array([6, 7])"
      ]
     },
     "execution_count": 85,
     "metadata": {},
     "output_type": "execute_result"
    }
   ],
   "source": [
    "np.setdiff1d(n,p)"
   ]
  },
  {
   "cell_type": "markdown",
   "id": "ac80f206",
   "metadata": {},
   "source": [
    "Math Function"
   ]
  },
  {
   "cell_type": "code",
   "execution_count": 86,
   "id": "6c740032",
   "metadata": {},
   "outputs": [
    {
     "data": {
      "text/plain": [
       "36.59424666377065"
      ]
     },
     "execution_count": 86,
     "metadata": {},
     "output_type": "execute_result"
    }
   ],
   "source": [
    "n1=np.array([1,5,3,100,4,48])\n",
    "np.std(n1)"
   ]
  },
  {
   "cell_type": "code",
   "execution_count": 87,
   "id": "ae08701d",
   "metadata": {},
   "outputs": [
    {
     "data": {
      "text/plain": [
       "35.0"
      ]
     },
     "execution_count": 87,
     "metadata": {},
     "output_type": "execute_result"
    }
   ],
   "source": [
    "y = np.array([10,20,30,40,50,60])\n",
    "np.mean(y)"
   ]
  },
  {
   "cell_type": "code",
   "execution_count": 88,
   "id": "beef0279",
   "metadata": {},
   "outputs": [
    {
     "data": {
      "text/plain": [
       "35.0"
      ]
     },
     "execution_count": 88,
     "metadata": {},
     "output_type": "execute_result"
    }
   ],
   "source": [
    "y = np.array([10,20,30,40,50,60])\n",
    "np.median(y)"
   ]
  },
  {
   "cell_type": "code",
   "execution_count": 89,
   "id": "cc1a8625",
   "metadata": {},
   "outputs": [
    {
     "data": {
      "text/plain": [
       "26.833333333333332"
      ]
     },
     "execution_count": 89,
     "metadata": {},
     "output_type": "execute_result"
    }
   ],
   "source": [
    "n1=np.array([1,5,3,100,4,48])\n",
    "np.mean(n1)"
   ]
  },
  {
   "cell_type": "code",
   "execution_count": 90,
   "id": "15b2d53a",
   "metadata": {},
   "outputs": [
    {
     "data": {
      "text/plain": [
       "4.5"
      ]
     },
     "execution_count": 90,
     "metadata": {},
     "output_type": "execute_result"
    }
   ],
   "source": [
    "n1=np.array([1,5,3,100,4,48])\n",
    "np.median(n1)"
   ]
  },
  {
   "cell_type": "code",
   "execution_count": 91,
   "id": "5a2a7e6b",
   "metadata": {},
   "outputs": [
    {
     "data": {
      "text/plain": [
       "161"
      ]
     },
     "execution_count": 91,
     "metadata": {},
     "output_type": "execute_result"
    }
   ],
   "source": [
    "n1.sum()"
   ]
  },
  {
   "cell_type": "code",
   "execution_count": 92,
   "id": "eb58df9e",
   "metadata": {},
   "outputs": [
    {
     "data": {
      "text/plain": [
       "161"
      ]
     },
     "execution_count": 92,
     "metadata": {},
     "output_type": "execute_result"
    }
   ],
   "source": [
    "b = 0\n",
    "for x in n1:\n",
    "    b += x\n",
    "b"
   ]
  },
  {
   "cell_type": "code",
   "execution_count": 93,
   "id": "77dd2bd1",
   "metadata": {},
   "outputs": [
    {
     "data": {
      "text/plain": [
       "100"
      ]
     },
     "execution_count": 93,
     "metadata": {},
     "output_type": "execute_result"
    }
   ],
   "source": [
    "n1.max()"
   ]
  },
  {
   "cell_type": "code",
   "execution_count": 94,
   "id": "ae3afbaf",
   "metadata": {},
   "outputs": [
    {
     "data": {
      "text/plain": [
       "1"
      ]
     },
     "execution_count": 94,
     "metadata": {},
     "output_type": "execute_result"
    }
   ],
   "source": [
    "n1.min()"
   ]
  },
  {
   "cell_type": "markdown",
   "id": "e3870190",
   "metadata": {},
   "source": [
    "Argmax and Argmin; returns the index of the max. & min. values in the arrays"
   ]
  },
  {
   "cell_type": "code",
   "execution_count": 95,
   "id": "9ce80127",
   "metadata": {},
   "outputs": [
    {
     "data": {
      "text/plain": [
       "3"
      ]
     },
     "execution_count": 95,
     "metadata": {},
     "output_type": "execute_result"
    }
   ],
   "source": [
    "n1.argmax()"
   ]
  },
  {
   "cell_type": "code",
   "execution_count": 96,
   "id": "6c384540",
   "metadata": {},
   "outputs": [
    {
     "data": {
      "text/plain": [
       "1"
      ]
     },
     "execution_count": 96,
     "metadata": {},
     "output_type": "execute_result"
    }
   ],
   "source": [
    "n1.min()"
   ]
  },
  {
   "cell_type": "markdown",
   "id": "94bcc73f",
   "metadata": {},
   "source": [
    "Indexing/Slicing"
   ]
  },
  {
   "cell_type": "code",
   "execution_count": 97,
   "id": "5d707b97",
   "metadata": {},
   "outputs": [
    {
     "data": {
      "text/plain": [
       "array([  0,   1,   4,   9,  16,  25,  36,  49,  64,  81, 100, 121, 144],\n",
       "      dtype=int32)"
      ]
     },
     "execution_count": 97,
     "metadata": {},
     "output_type": "execute_result"
    }
   ],
   "source": [
    "s = np.arange(0,13,1)**2\n",
    "s"
   ]
  },
  {
   "cell_type": "code",
   "execution_count": 98,
   "id": "5cab287d",
   "metadata": {},
   "outputs": [
    {
     "data": {
      "text/plain": [
       "(0, 16, 121)"
      ]
     },
     "execution_count": 98,
     "metadata": {},
     "output_type": "execute_result"
    }
   ],
   "source": [
    "s[0], s[4], s[-2]"
   ]
  },
  {
   "cell_type": "code",
   "execution_count": 99,
   "id": "d58b989d",
   "metadata": {},
   "outputs": [
    {
     "data": {
      "text/plain": [
       "array([ 0,  4, 16, 36, 64], dtype=int32)"
      ]
     },
     "execution_count": 99,
     "metadata": {},
     "output_type": "execute_result"
    }
   ],
   "source": [
    "s[0:9:2]"
   ]
  },
  {
   "cell_type": "code",
   "execution_count": 100,
   "id": "24d6237f",
   "metadata": {},
   "outputs": [
    {
     "data": {
      "text/plain": [
       "array([[ 0,  1,  2,  3,  4,  5],\n",
       "       [ 6,  7,  8,  9, 10, 11],\n",
       "       [12, 13, 14, 15, 16, 17],\n",
       "       [18, 19, 20, 21, 22, 23],\n",
       "       [24, 25, 26, 27, 28, 29],\n",
       "       [30, 31, 32, 33, 34, 35]])"
      ]
     },
     "execution_count": 100,
     "metadata": {},
     "output_type": "execute_result"
    }
   ],
   "source": [
    "h = np.arange(36)\n",
    "h.resize([6,6])\n",
    "h"
   ]
  },
  {
   "cell_type": "code",
   "execution_count": 101,
   "id": "e809f613",
   "metadata": {},
   "outputs": [
    {
     "data": {
      "text/plain": [
       "14"
      ]
     },
     "execution_count": 101,
     "metadata": {},
     "output_type": "execute_result"
    }
   ],
   "source": [
    "h[2, 2]"
   ]
  },
  {
   "cell_type": "code",
   "execution_count": 102,
   "id": "66e3605b",
   "metadata": {},
   "outputs": [
    {
     "data": {
      "text/plain": [
       "array([21, 22, 23])"
      ]
     },
     "execution_count": 102,
     "metadata": {},
     "output_type": "execute_result"
    }
   ],
   "source": [
    "h[3, 3:7]"
   ]
  },
  {
   "cell_type": "code",
   "execution_count": 103,
   "id": "f4fe9e14",
   "metadata": {},
   "outputs": [
    {
     "data": {
      "text/plain": [
       "array([31, 32, 33, 34, 35])"
      ]
     },
     "execution_count": 103,
     "metadata": {},
     "output_type": "execute_result"
    }
   ],
   "source": [
    "h[h > 30]"
   ]
  },
  {
   "cell_type": "markdown",
   "id": "34eefeee",
   "metadata": {},
   "source": [
    "Numpy Save & Load"
   ]
  },
  {
   "cell_type": "code",
   "execution_count": 104,
   "id": "e66c45c0",
   "metadata": {},
   "outputs": [],
   "source": [
    "y = np.array([10,20,30,40,50,60])\n",
    "np.save('partly_sunny', y)"
   ]
  },
  {
   "cell_type": "code",
   "execution_count": 105,
   "id": "f3bcf8a9",
   "metadata": {},
   "outputs": [
    {
     "data": {
      "text/plain": [
       "array([10, 20, 30, 40, 50, 60])"
      ]
     },
     "execution_count": 105,
     "metadata": {},
     "output_type": "execute_result"
    }
   ],
   "source": [
    "x = np.load('partly_sunny.npy')\n",
    "x"
   ]
  },
  {
   "cell_type": "code",
   "execution_count": null,
   "id": "470af9bf",
   "metadata": {},
   "outputs": [],
   "source": []
  },
  {
   "cell_type": "code",
   "execution_count": null,
   "id": "183f199a",
   "metadata": {},
   "outputs": [],
   "source": []
  },
  {
   "cell_type": "markdown",
   "id": "ceb68590",
   "metadata": {},
   "source": [
    "# Pandas [Panel Data]: Labeled Column-oriented Data \n",
    "used for working with different form of Dataset"
   ]
  },
  {
   "cell_type": "markdown",
   "id": "a8e30e61",
   "metadata": {},
   "source": [
    "Pandas is a much newer package than NumPy, and is in fact built on top of it.\n",
    "What Pandas provides is a labeled interface to multi-dimensional data, in the form of a DataFrame object that will feel very familiar to users of R and related languages.\n",
    "DataFrames in Pandas look something like this:"
   ]
  },
  {
   "cell_type": "code",
   "execution_count": 106,
   "id": "fd7c35cb",
   "metadata": {},
   "outputs": [],
   "source": [
    "import pandas as pd"
   ]
  },
  {
   "cell_type": "markdown",
   "id": "6b9ba971",
   "metadata": {},
   "source": [
    "Series Data Structure; Series object which is a one-dimensional labeled array"
   ]
  },
  {
   "cell_type": "code",
   "execution_count": 107,
   "id": "520a221f",
   "metadata": {},
   "outputs": [
    {
     "data": {
      "text/plain": [
       "0    1\n",
       "1    2\n",
       "2    3\n",
       "dtype: int64"
      ]
     },
     "execution_count": 107,
     "metadata": {},
     "output_type": "execute_result"
    }
   ],
   "source": [
    "number = [1,2,3]\n",
    "pd.Series(number)"
   ]
  },
  {
   "cell_type": "code",
   "execution_count": 108,
   "id": "d82d9225",
   "metadata": {},
   "outputs": [
    {
     "data": {
      "text/plain": [
       "0    Orange\n",
       "1         3\n",
       "2      True\n",
       "3    Banana\n",
       "4       5.5\n",
       "5      None\n",
       "dtype: object"
      ]
     },
     "execution_count": 108,
     "metadata": {},
     "output_type": "execute_result"
    }
   ],
   "source": [
    "val = ['Orange', 3, True, 'Banana', 5.5, None]\n",
    "pd.Series(val)"
   ]
  },
  {
   "cell_type": "code",
   "execution_count": 109,
   "id": "55578558",
   "metadata": {},
   "outputs": [
    {
     "data": {
      "text/plain": [
       "0    1.0\n",
       "1    2.0\n",
       "2    5.5\n",
       "3    NaN\n",
       "dtype: float64"
      ]
     },
     "execution_count": 109,
     "metadata": {},
     "output_type": "execute_result"
    }
   ],
   "source": [
    "numbers = [1, 2, 5.5, None]\n",
    "pd.Series(numbers)"
   ]
  },
  {
   "cell_type": "markdown",
   "id": "91e22028",
   "metadata": {},
   "source": [
    "NaN means Not a Number[Null]"
   ]
  },
  {
   "cell_type": "code",
   "execution_count": 110,
   "id": "c05a3678",
   "metadata": {},
   "outputs": [
    {
     "data": {
      "text/plain": [
       "Archery                Jumong\n",
       "Lawn-Tennis    Roger-Fedeerer\n",
       "Kungfu            Jackie-Chan\n",
       "Taekwando           Bruce-Lee\n",
       "dtype: object"
      ]
     },
     "execution_count": 110,
     "metadata": {},
     "output_type": "execute_result"
    }
   ],
   "source": [
    "sports = {'Archery': 'Jumong',\n",
    "          'Lawn-Tennis': 'Roger-Fedeerer' ,\n",
    "          'Kungfu': 'Jackie-Chan',\n",
    "          'Taekwando': 'Bruce-Lee'}\n",
    "p = pd.Series(sports)\n",
    "p"
   ]
  },
  {
   "cell_type": "markdown",
   "id": "49748b06",
   "metadata": {},
   "source": [
    "since a Dict contains a Key and a Value"
   ]
  },
  {
   "cell_type": "code",
   "execution_count": 111,
   "id": "fc0e000d",
   "metadata": {},
   "outputs": [
    {
     "data": {
      "text/plain": [
       "Index(['Archery', 'Lawn-Tennis', 'Kungfu', 'Taekwando'], dtype='object')"
      ]
     },
     "execution_count": 111,
     "metadata": {},
     "output_type": "execute_result"
    }
   ],
   "source": [
    "p.index"
   ]
  },
  {
   "cell_type": "code",
   "execution_count": 112,
   "id": "f0f1dbe6",
   "metadata": {},
   "outputs": [
    {
     "data": {
      "text/plain": [
       "array(['Jumong', 'Roger-Fedeerer', 'Jackie-Chan', 'Bruce-Lee'],\n",
       "      dtype=object)"
      ]
     },
     "execution_count": 112,
     "metadata": {},
     "output_type": "execute_result"
    }
   ],
   "source": [
    "p.values"
   ]
  },
  {
   "cell_type": "code",
   "execution_count": 113,
   "id": "5212e769",
   "metadata": {},
   "outputs": [
    {
     "data": {
      "text/plain": [
       "<bound method Series.keys of Archery                Jumong\n",
       "Lawn-Tennis    Roger-Fedeerer\n",
       "Kungfu            Jackie-Chan\n",
       "Taekwando           Bruce-Lee\n",
       "dtype: object>"
      ]
     },
     "execution_count": 113,
     "metadata": {},
     "output_type": "execute_result"
    }
   ],
   "source": [
    "p.keys"
   ]
  },
  {
   "cell_type": "markdown",
   "id": "92f3a4c1",
   "metadata": {},
   "source": [
    "Changing Index"
   ]
  },
  {
   "cell_type": "code",
   "execution_count": 114,
   "id": "732691c5",
   "metadata": {},
   "outputs": [
    {
     "data": {
      "text/plain": [
       "India      Tiger\n",
       "America     Bear\n",
       "Canada     Mouse\n",
       "dtype: object"
      ]
     },
     "execution_count": 114,
     "metadata": {},
     "output_type": "execute_result"
    }
   ],
   "source": [
    "s = pd.Series(['Tiger', 'Bear', 'Mouse'], index=['India', 'America', 'Canada'])\n",
    "s"
   ]
  },
  {
   "cell_type": "code",
   "execution_count": 115,
   "id": "a830563d",
   "metadata": {},
   "outputs": [
    {
     "data": {
      "text/plain": [
       "Archery           Lee Bang-Won\n",
       "Lawn-Tennis    Serena Williams\n",
       "Kungfu                  Jet-Li\n",
       "Taekwando                Onbak\n",
       "dtype: object"
      ]
     },
     "execution_count": 115,
     "metadata": {},
     "output_type": "execute_result"
    }
   ],
   "source": [
    "r = pd.Series(['Lee Bang-Won', 'Serena Williams', 'Jet-Li', 'Onbak'], index=['Archery', 'Lawn-Tennis', 'Kungfu', 'Taekwando'])\n",
    "r"
   ]
  },
  {
   "cell_type": "markdown",
   "id": "4875696f",
   "metadata": {},
   "source": [
    "Creating a Series Object from Dictionary"
   ]
  },
  {
   "cell_type": "code",
   "execution_count": 116,
   "id": "0e360636",
   "metadata": {},
   "outputs": [
    {
     "data": {
      "text/plain": [
       "a    10\n",
       "b    20\n",
       "c    30\n",
       "dtype: int64"
      ]
     },
     "execution_count": 116,
     "metadata": {},
     "output_type": "execute_result"
    }
   ],
   "source": [
    "pd.Series({'a':10, 'b':20, 'c':30})"
   ]
  },
  {
   "cell_type": "code",
   "execution_count": null,
   "id": "f148125b",
   "metadata": {},
   "outputs": [],
   "source": []
  },
  {
   "cell_type": "markdown",
   "id": "b2299105",
   "metadata": {},
   "source": [
    "# Querying a Series"
   ]
  },
  {
   "cell_type": "code",
   "execution_count": 117,
   "id": "ec1513a8",
   "metadata": {},
   "outputs": [
    {
     "data": {
      "text/plain": [
       "Nigeria      Naira\n",
       "Ghana        Cedis\n",
       "Cyprus        Euro\n",
       "USA        Dollars\n",
       "dtype: object"
      ]
     },
     "execution_count": 117,
     "metadata": {},
     "output_type": "execute_result"
    }
   ],
   "source": [
    "currency = {'Nigeria': 'Naira',\n",
    "            'Ghana': 'Cedis',\n",
    "            'Cyprus': 'Euro',\n",
    "            'USA': 'Dollars'}\n",
    "c = pd.Series(currency)\n",
    "c"
   ]
  },
  {
   "cell_type": "markdown",
   "id": "05b8090f",
   "metadata": {},
   "source": [
    "we can query a panda series using the .loc and .iloc[integer loc] alonside the index position"
   ]
  },
  {
   "cell_type": "code",
   "execution_count": 118,
   "id": "aec7eee7",
   "metadata": {},
   "outputs": [
    {
     "data": {
      "text/plain": [
       "'Euro'"
      ]
     },
     "execution_count": 118,
     "metadata": {},
     "output_type": "execute_result"
    }
   ],
   "source": [
    "c.iloc[2]"
   ]
  },
  {
   "cell_type": "code",
   "execution_count": 119,
   "id": "3b3c2058",
   "metadata": {},
   "outputs": [
    {
     "data": {
      "text/plain": [
       "'Naira'"
      ]
     },
     "execution_count": 119,
     "metadata": {},
     "output_type": "execute_result"
    }
   ],
   "source": [
    "c.iloc[0]"
   ]
  },
  {
   "cell_type": "code",
   "execution_count": 120,
   "id": "8286b34d",
   "metadata": {},
   "outputs": [
    {
     "data": {
      "text/plain": [
       "'Naira'"
      ]
     },
     "execution_count": 120,
     "metadata": {},
     "output_type": "execute_result"
    }
   ],
   "source": [
    "c.loc['Nigeria']"
   ]
  },
  {
   "cell_type": "code",
   "execution_count": 121,
   "id": "8e2de06a",
   "metadata": {},
   "outputs": [
    {
     "data": {
      "text/plain": [
       "0     5.5\n",
       "1     3.0\n",
       "2    10.5\n",
       "3     8.0\n",
       "4    13.0\n",
       "dtype: float64"
      ]
     },
     "execution_count": 121,
     "metadata": {},
     "output_type": "execute_result"
    }
   ],
   "source": [
    "e = pd.Series([5.5, 3, 10.5, 8, 13])\n",
    "e"
   ]
  },
  {
   "cell_type": "code",
   "execution_count": 122,
   "id": "36507c3d",
   "metadata": {},
   "outputs": [
    {
     "data": {
      "text/plain": [
       "40.0"
      ]
     },
     "execution_count": 122,
     "metadata": {},
     "output_type": "execute_result"
    }
   ],
   "source": [
    "total = 0\n",
    "for item in e:\n",
    "    total += item\n",
    "total"
   ]
  },
  {
   "cell_type": "code",
   "execution_count": 123,
   "id": "0c9fe661",
   "metadata": {},
   "outputs": [
    {
     "data": {
      "text/plain": [
       "40.0"
      ]
     },
     "execution_count": 123,
     "metadata": {},
     "output_type": "execute_result"
    }
   ],
   "source": [
    "import numpy as np\n",
    "np.sum(e)"
   ]
  },
  {
   "cell_type": "code",
   "execution_count": 124,
   "id": "9a297508",
   "metadata": {},
   "outputs": [
    {
     "data": {
      "text/plain": [
       "5"
      ]
     },
     "execution_count": 124,
     "metadata": {},
     "output_type": "execute_result"
    }
   ],
   "source": [
    "len(e)  #shows the length "
   ]
  },
  {
   "cell_type": "markdown",
   "id": "05455542",
   "metadata": {},
   "source": [
    ".loc is also used to add[append] a variable to an existing list"
   ]
  },
  {
   "cell_type": "code",
   "execution_count": 125,
   "id": "14eb2e01",
   "metadata": {},
   "outputs": [
    {
     "data": {
      "text/plain": [
       "0           5.5\n",
       "1           3.0\n",
       "2          10.5\n",
       "3           8.0\n",
       "4          13.0\n",
       "Fruits    Apple\n",
       "dtype: object"
      ]
     },
     "execution_count": 125,
     "metadata": {},
     "output_type": "execute_result"
    }
   ],
   "source": [
    "e.loc['Fruits'] = 'Apple'\n",
    "e"
   ]
  },
  {
   "cell_type": "code",
   "execution_count": 126,
   "id": "09cd3ff0",
   "metadata": {},
   "outputs": [
    {
     "data": {
      "text/plain": [
       "6"
      ]
     },
     "execution_count": 126,
     "metadata": {},
     "output_type": "execute_result"
    }
   ],
   "source": [
    "len(e)"
   ]
  },
  {
   "cell_type": "markdown",
   "id": "f715ed04",
   "metadata": {},
   "source": [
    "# Pandas DataFrame"
   ]
  },
  {
   "cell_type": "markdown",
   "id": "17624999",
   "metadata": {},
   "source": [
    "It's a multi-dimensional array with the axis label"
   ]
  },
  {
   "cell_type": "code",
   "execution_count": 127,
   "id": "3d119473",
   "metadata": {},
   "outputs": [
    {
     "data": {
      "text/html": [
       "<div>\n",
       "<style scoped>\n",
       "    .dataframe tbody tr th:only-of-type {\n",
       "        vertical-align: middle;\n",
       "    }\n",
       "\n",
       "    .dataframe tbody tr th {\n",
       "        vertical-align: top;\n",
       "    }\n",
       "\n",
       "    .dataframe thead th {\n",
       "        text-align: right;\n",
       "    }\n",
       "</style>\n",
       "<table border=\"1\" class=\"dataframe\">\n",
       "  <thead>\n",
       "    <tr style=\"text-align: right;\">\n",
       "      <th></th>\n",
       "      <th>label</th>\n",
       "      <th>value</th>\n",
       "    </tr>\n",
       "  </thead>\n",
       "  <tbody>\n",
       "    <tr>\n",
       "      <th>0</th>\n",
       "      <td>A</td>\n",
       "      <td>1</td>\n",
       "    </tr>\n",
       "    <tr>\n",
       "      <th>1</th>\n",
       "      <td>B</td>\n",
       "      <td>2</td>\n",
       "    </tr>\n",
       "    <tr>\n",
       "      <th>2</th>\n",
       "      <td>C</td>\n",
       "      <td>3</td>\n",
       "    </tr>\n",
       "    <tr>\n",
       "      <th>3</th>\n",
       "      <td>A</td>\n",
       "      <td>4</td>\n",
       "    </tr>\n",
       "    <tr>\n",
       "      <th>4</th>\n",
       "      <td>B</td>\n",
       "      <td>5</td>\n",
       "    </tr>\n",
       "    <tr>\n",
       "      <th>5</th>\n",
       "      <td>C</td>\n",
       "      <td>6</td>\n",
       "    </tr>\n",
       "  </tbody>\n",
       "</table>\n",
       "</div>"
      ],
      "text/plain": [
       "  label  value\n",
       "0     A      1\n",
       "1     B      2\n",
       "2     C      3\n",
       "3     A      4\n",
       "4     B      5\n",
       "5     C      6"
      ]
     },
     "execution_count": 127,
     "metadata": {},
     "output_type": "execute_result"
    }
   ],
   "source": [
    "df = pd.DataFrame({'label': ['A', 'B', 'C', 'A', 'B', 'C'],\n",
    "                   'value': [1, 2, 3, 4, 5, 6]})\n",
    "df"
   ]
  },
  {
   "cell_type": "code",
   "execution_count": 128,
   "id": "8c2c232b",
   "metadata": {},
   "outputs": [
    {
     "data": {
      "text/html": [
       "<div>\n",
       "<style scoped>\n",
       "    .dataframe tbody tr th:only-of-type {\n",
       "        vertical-align: middle;\n",
       "    }\n",
       "\n",
       "    .dataframe tbody tr th {\n",
       "        vertical-align: top;\n",
       "    }\n",
       "\n",
       "    .dataframe thead th {\n",
       "        text-align: right;\n",
       "    }\n",
       "</style>\n",
       "<table border=\"1\" class=\"dataframe\">\n",
       "  <thead>\n",
       "    <tr style=\"text-align: right;\">\n",
       "      <th></th>\n",
       "      <th>Names</th>\n",
       "      <th>value</th>\n",
       "    </tr>\n",
       "  </thead>\n",
       "  <tbody>\n",
       "    <tr>\n",
       "      <th>0</th>\n",
       "      <td>John</td>\n",
       "      <td>a</td>\n",
       "    </tr>\n",
       "    <tr>\n",
       "      <th>1</th>\n",
       "      <td>Elizabeth</td>\n",
       "      <td>2</td>\n",
       "    </tr>\n",
       "    <tr>\n",
       "      <th>2</th>\n",
       "      <td>Favor</td>\n",
       "      <td>b</td>\n",
       "    </tr>\n",
       "    <tr>\n",
       "      <th>3</th>\n",
       "      <td>Joy</td>\n",
       "      <td>4</td>\n",
       "    </tr>\n",
       "    <tr>\n",
       "      <th>4</th>\n",
       "      <td>Paul</td>\n",
       "      <td>c</td>\n",
       "    </tr>\n",
       "    <tr>\n",
       "      <th>5</th>\n",
       "      <td>Matthew</td>\n",
       "      <td>6</td>\n",
       "    </tr>\n",
       "    <tr>\n",
       "      <th>6</th>\n",
       "      <td>Joseph</td>\n",
       "      <td>d</td>\n",
       "    </tr>\n",
       "  </tbody>\n",
       "</table>\n",
       "</div>"
      ],
      "text/plain": [
       "       Names value\n",
       "0       John     a\n",
       "1  Elizabeth     2\n",
       "2      Favor     b\n",
       "3        Joy     4\n",
       "4       Paul     c\n",
       "5    Matthew     6\n",
       "6     Joseph     d"
      ]
     },
     "execution_count": 128,
     "metadata": {},
     "output_type": "execute_result"
    }
   ],
   "source": [
    "df = pd.DataFrame({'Names': ['John', 'Elizabeth', 'Favor', 'Joy', 'Paul', 'Matthew', 'Joseph'],\n",
    "                   'value': ['a', 2, 'b', 4, 'c', 6, 'd']})\n",
    "df"
   ]
  },
  {
   "cell_type": "code",
   "execution_count": 129,
   "id": "b69ac77f",
   "metadata": {},
   "outputs": [
    {
     "data": {
      "text/plain": [
       "0    a\n",
       "1    2\n",
       "2    b\n",
       "3    4\n",
       "4    c\n",
       "5    6\n",
       "6    d\n",
       "Name: value, dtype: object"
      ]
     },
     "execution_count": 129,
     "metadata": {},
     "output_type": "execute_result"
    }
   ],
   "source": [
    "df['value']"
   ]
  },
  {
   "cell_type": "code",
   "execution_count": 130,
   "id": "3e421b02",
   "metadata": {},
   "outputs": [
    {
     "data": {
      "text/html": [
       "<div>\n",
       "<style scoped>\n",
       "    .dataframe tbody tr th:only-of-type {\n",
       "        vertical-align: middle;\n",
       "    }\n",
       "\n",
       "    .dataframe tbody tr th {\n",
       "        vertical-align: top;\n",
       "    }\n",
       "\n",
       "    .dataframe thead th {\n",
       "        text-align: right;\n",
       "    }\n",
       "</style>\n",
       "<table border=\"1\" class=\"dataframe\">\n",
       "  <thead>\n",
       "    <tr style=\"text-align: right;\">\n",
       "      <th></th>\n",
       "      <th>Name</th>\n",
       "      <th>Email</th>\n",
       "      <th>Password</th>\n",
       "      <th>Country</th>\n",
       "    </tr>\n",
       "  </thead>\n",
       "  <tbody>\n",
       "    <tr>\n",
       "      <th>Location 1</th>\n",
       "      <td>Jackson</td>\n",
       "      <td>salamjay16@gmail.com</td>\n",
       "      <td>idan5jack</td>\n",
       "      <td>Toronto</td>\n",
       "    </tr>\n",
       "    <tr>\n",
       "      <th>Location 2</th>\n",
       "      <td>Abdulsalam</td>\n",
       "      <td>salamjayboss19@gmail.com</td>\n",
       "      <td>abdulsalam</td>\n",
       "      <td>Qatar</td>\n",
       "    </tr>\n",
       "    <tr>\n",
       "      <th>Location 3</th>\n",
       "      <td>Ibrahim</td>\n",
       "      <td>ibrahimolamilekan01@gmail.com</td>\n",
       "      <td>ibreezy</td>\n",
       "      <td>Nigeria</td>\n",
       "    </tr>\n",
       "    <tr>\n",
       "      <th>Location 3</th>\n",
       "      <td>Jay</td>\n",
       "      <td>Jaypeslovers20@gmail.com</td>\n",
       "      <td>peslovers20</td>\n",
       "      <td>Nigeria</td>\n",
       "    </tr>\n",
       "    <tr>\n",
       "      <th>Location 4</th>\n",
       "      <td>Musa</td>\n",
       "      <td>Musaayomide17@gmail.com</td>\n",
       "      <td>shaddy</td>\n",
       "      <td>Japan</td>\n",
       "    </tr>\n",
       "  </tbody>\n",
       "</table>\n",
       "</div>"
      ],
      "text/plain": [
       "                  Name                          Email     Password  Country\n",
       "Location 1     Jackson           salamjay16@gmail.com    idan5jack  Toronto\n",
       "Location 2  Abdulsalam       salamjayboss19@gmail.com   abdulsalam    Qatar\n",
       "Location 3     Ibrahim  ibrahimolamilekan01@gmail.com      ibreezy  Nigeria\n",
       "Location 3         Jay       Jaypeslovers20@gmail.com  peslovers20  Nigeria\n",
       "Location 4        Musa        Musaayomide17@gmail.com       shaddy    Japan"
      ]
     },
     "execution_count": 130,
     "metadata": {},
     "output_type": "execute_result"
    }
   ],
   "source": [
    "d_1 = pd.Series({'Name': 'Jackson',\n",
    "                    'Email': 'salamjay16@gmail.com',\n",
    "                    'Password': 'idan5jack',\n",
    "                    'Country': 'Toronto'})\n",
    "\n",
    "d_2 = pd.Series({'Name': 'Abdulsalam',\n",
    "                    'Email': 'salamjayboss19@gmail.com',\n",
    "                    'Password': 'abdulsalam',\n",
    "                    'Country': 'Qatar'})\n",
    "\n",
    "d_3 = pd.Series({'Name': 'Ibrahim',\n",
    "                    'Email': 'ibrahimolamilekan01@gmail.com',\n",
    "                    'Password': 'ibreezy',\n",
    "                    'Country': 'Nigeria'})\n",
    "\n",
    "d_4 = pd.Series({'Name': 'Jay',\n",
    "                    'Email': 'Jaypeslovers20@gmail.com',\n",
    "                    'Password': 'peslovers20',\n",
    "                    'Country': 'Nigeria'})\n",
    "\n",
    "d_5= pd.Series({'Name': 'Musa',\n",
    "                    'Email': 'Musaayomide17@gmail.com',\n",
    "                    'Password': 'shaddy',\n",
    "                    'Country': 'Japan'})\n",
    "\n",
    "df = pd.DataFrame([d_1, d_2, d_3, d_4, d_5], index=['Location 1', 'Location 2', 'Location 3', 'Location 3', 'Location 4'])\n",
    "df"
   ]
  },
  {
   "cell_type": "markdown",
   "id": "db460a84",
   "metadata": {},
   "source": [
    "we hv 2 location3 here because of their country{they have the same country}"
   ]
  },
  {
   "cell_type": "code",
   "execution_count": 131,
   "id": "7f7d7f41",
   "metadata": {},
   "outputs": [],
   "source": [
    "# df = pd.DataFrame([d_1, d_2, d_3, d_4, d_5])\n",
    "# df"
   ]
  },
  {
   "cell_type": "markdown",
   "id": "00490f18",
   "metadata": {},
   "source": [
    "Now let's querry this DataFrame"
   ]
  },
  {
   "cell_type": "code",
   "execution_count": 132,
   "id": "ca917fa2",
   "metadata": {},
   "outputs": [
    {
     "data": {
      "text/plain": [
       "Name                     Jackson\n",
       "Email       salamjay16@gmail.com\n",
       "Password               idan5jack\n",
       "Country                  Toronto\n",
       "Name: Location 1, dtype: object"
      ]
     },
     "execution_count": 132,
     "metadata": {},
     "output_type": "execute_result"
    }
   ],
   "source": [
    "df.loc['Location 1']"
   ]
  },
  {
   "cell_type": "code",
   "execution_count": 133,
   "id": "e7815bec",
   "metadata": {},
   "outputs": [
    {
     "data": {
      "text/plain": [
       "'salamjay16@gmail.com'"
      ]
     },
     "execution_count": 133,
     "metadata": {},
     "output_type": "execute_result"
    }
   ],
   "source": [
    "df.loc['Location 1', 'Email']"
   ]
  },
  {
   "cell_type": "code",
   "execution_count": 134,
   "id": "0ff3d587",
   "metadata": {},
   "outputs": [
    {
     "data": {
      "text/html": [
       "<div>\n",
       "<style scoped>\n",
       "    .dataframe tbody tr th:only-of-type {\n",
       "        vertical-align: middle;\n",
       "    }\n",
       "\n",
       "    .dataframe tbody tr th {\n",
       "        vertical-align: top;\n",
       "    }\n",
       "\n",
       "    .dataframe thead th {\n",
       "        text-align: right;\n",
       "    }\n",
       "</style>\n",
       "<table border=\"1\" class=\"dataframe\">\n",
       "  <thead>\n",
       "    <tr style=\"text-align: right;\">\n",
       "      <th></th>\n",
       "      <th>Location 1</th>\n",
       "      <th>Location 2</th>\n",
       "      <th>Location 3</th>\n",
       "      <th>Location 3</th>\n",
       "      <th>Location 4</th>\n",
       "    </tr>\n",
       "  </thead>\n",
       "  <tbody>\n",
       "    <tr>\n",
       "      <th>Name</th>\n",
       "      <td>Jackson</td>\n",
       "      <td>Abdulsalam</td>\n",
       "      <td>Ibrahim</td>\n",
       "      <td>Jay</td>\n",
       "      <td>Musa</td>\n",
       "    </tr>\n",
       "    <tr>\n",
       "      <th>Email</th>\n",
       "      <td>salamjay16@gmail.com</td>\n",
       "      <td>salamjayboss19@gmail.com</td>\n",
       "      <td>ibrahimolamilekan01@gmail.com</td>\n",
       "      <td>Jaypeslovers20@gmail.com</td>\n",
       "      <td>Musaayomide17@gmail.com</td>\n",
       "    </tr>\n",
       "    <tr>\n",
       "      <th>Password</th>\n",
       "      <td>idan5jack</td>\n",
       "      <td>abdulsalam</td>\n",
       "      <td>ibreezy</td>\n",
       "      <td>peslovers20</td>\n",
       "      <td>shaddy</td>\n",
       "    </tr>\n",
       "    <tr>\n",
       "      <th>Country</th>\n",
       "      <td>Toronto</td>\n",
       "      <td>Qatar</td>\n",
       "      <td>Nigeria</td>\n",
       "      <td>Nigeria</td>\n",
       "      <td>Japan</td>\n",
       "    </tr>\n",
       "  </tbody>\n",
       "</table>\n",
       "</div>"
      ],
      "text/plain": [
       "                    Location 1                Location 2  \\\n",
       "Name                   Jackson                Abdulsalam   \n",
       "Email     salamjay16@gmail.com  salamjayboss19@gmail.com   \n",
       "Password             idan5jack                abdulsalam   \n",
       "Country                Toronto                     Qatar   \n",
       "\n",
       "                             Location 3                Location 3  \\\n",
       "Name                            Ibrahim                       Jay   \n",
       "Email     ibrahimolamilekan01@gmail.com  Jaypeslovers20@gmail.com   \n",
       "Password                        ibreezy               peslovers20   \n",
       "Country                         Nigeria                   Nigeria   \n",
       "\n",
       "                       Location 4  \n",
       "Name                         Musa  \n",
       "Email     Musaayomide17@gmail.com  \n",
       "Password                   shaddy  \n",
       "Country                     Japan  "
      ]
     },
     "execution_count": 134,
     "metadata": {},
     "output_type": "execute_result"
    }
   ],
   "source": [
    "df.T"
   ]
  },
  {
   "cell_type": "code",
   "execution_count": 135,
   "id": "e997e626",
   "metadata": {},
   "outputs": [
    {
     "data": {
      "text/plain": [
       "Location 1       Jackson\n",
       "Location 2    Abdulsalam\n",
       "Location 3       Ibrahim\n",
       "Location 3           Jay\n",
       "Location 4          Musa\n",
       "Name: Name, dtype: object"
      ]
     },
     "execution_count": 135,
     "metadata": {},
     "output_type": "execute_result"
    }
   ],
   "source": [
    "df.T.loc['Name']"
   ]
  },
  {
   "cell_type": "code",
   "execution_count": 136,
   "id": "4ac9f269",
   "metadata": {},
   "outputs": [
    {
     "data": {
      "text/html": [
       "<div>\n",
       "<style scoped>\n",
       "    .dataframe tbody tr th:only-of-type {\n",
       "        vertical-align: middle;\n",
       "    }\n",
       "\n",
       "    .dataframe tbody tr th {\n",
       "        vertical-align: top;\n",
       "    }\n",
       "\n",
       "    .dataframe thead th {\n",
       "        text-align: right;\n",
       "    }\n",
       "</style>\n",
       "<table border=\"1\" class=\"dataframe\">\n",
       "  <thead>\n",
       "    <tr style=\"text-align: right;\">\n",
       "      <th></th>\n",
       "      <th>Name</th>\n",
       "      <th>Password</th>\n",
       "    </tr>\n",
       "  </thead>\n",
       "  <tbody>\n",
       "    <tr>\n",
       "      <th>Location 1</th>\n",
       "      <td>Jackson</td>\n",
       "      <td>idan5jack</td>\n",
       "    </tr>\n",
       "    <tr>\n",
       "      <th>Location 2</th>\n",
       "      <td>Abdulsalam</td>\n",
       "      <td>abdulsalam</td>\n",
       "    </tr>\n",
       "    <tr>\n",
       "      <th>Location 3</th>\n",
       "      <td>Ibrahim</td>\n",
       "      <td>ibreezy</td>\n",
       "    </tr>\n",
       "    <tr>\n",
       "      <th>Location 3</th>\n",
       "      <td>Jay</td>\n",
       "      <td>peslovers20</td>\n",
       "    </tr>\n",
       "    <tr>\n",
       "      <th>Location 4</th>\n",
       "      <td>Musa</td>\n",
       "      <td>shaddy</td>\n",
       "    </tr>\n",
       "  </tbody>\n",
       "</table>\n",
       "</div>"
      ],
      "text/plain": [
       "                  Name     Password\n",
       "Location 1     Jackson    idan5jack\n",
       "Location 2  Abdulsalam   abdulsalam\n",
       "Location 3     Ibrahim      ibreezy\n",
       "Location 3         Jay  peslovers20\n",
       "Location 4        Musa       shaddy"
      ]
     },
     "execution_count": 136,
     "metadata": {},
     "output_type": "execute_result"
    }
   ],
   "source": [
    "df.loc[:, ['Name', 'Password']]  #get the name & password of all the rows"
   ]
  },
  {
   "cell_type": "code",
   "execution_count": 137,
   "id": "73de43c2",
   "metadata": {},
   "outputs": [
    {
     "data": {
      "text/html": [
       "<div>\n",
       "<style scoped>\n",
       "    .dataframe tbody tr th:only-of-type {\n",
       "        vertical-align: middle;\n",
       "    }\n",
       "\n",
       "    .dataframe tbody tr th {\n",
       "        vertical-align: top;\n",
       "    }\n",
       "\n",
       "    .dataframe thead th {\n",
       "        text-align: right;\n",
       "    }\n",
       "</style>\n",
       "<table border=\"1\" class=\"dataframe\">\n",
       "  <thead>\n",
       "    <tr style=\"text-align: right;\">\n",
       "      <th></th>\n",
       "      <th>Name</th>\n",
       "      <th>Country</th>\n",
       "    </tr>\n",
       "  </thead>\n",
       "  <tbody>\n",
       "    <tr>\n",
       "      <th>Location 1</th>\n",
       "      <td>Jackson</td>\n",
       "      <td>Toronto</td>\n",
       "    </tr>\n",
       "    <tr>\n",
       "      <th>Location 2</th>\n",
       "      <td>Abdulsalam</td>\n",
       "      <td>Qatar</td>\n",
       "    </tr>\n",
       "    <tr>\n",
       "      <th>Location 3</th>\n",
       "      <td>Ibrahim</td>\n",
       "      <td>Nigeria</td>\n",
       "    </tr>\n",
       "    <tr>\n",
       "      <th>Location 3</th>\n",
       "      <td>Jay</td>\n",
       "      <td>Nigeria</td>\n",
       "    </tr>\n",
       "    <tr>\n",
       "      <th>Location 4</th>\n",
       "      <td>Musa</td>\n",
       "      <td>Japan</td>\n",
       "    </tr>\n",
       "  </tbody>\n",
       "</table>\n",
       "</div>"
      ],
      "text/plain": [
       "                  Name  Country\n",
       "Location 1     Jackson  Toronto\n",
       "Location 2  Abdulsalam    Qatar\n",
       "Location 3     Ibrahim  Nigeria\n",
       "Location 3         Jay  Nigeria\n",
       "Location 4        Musa    Japan"
      ]
     },
     "execution_count": 137,
     "metadata": {},
     "output_type": "execute_result"
    }
   ],
   "source": [
    "df.loc[:, ['Name', 'Country']]  #get the name & password of all the rows"
   ]
  },
  {
   "cell_type": "markdown",
   "id": "6211edea",
   "metadata": {},
   "source": [
    "Dropping a column from a DataFrame using .drop"
   ]
  },
  {
   "cell_type": "code",
   "execution_count": 138,
   "id": "396ec82f",
   "metadata": {},
   "outputs": [
    {
     "data": {
      "text/html": [
       "<div>\n",
       "<style scoped>\n",
       "    .dataframe tbody tr th:only-of-type {\n",
       "        vertical-align: middle;\n",
       "    }\n",
       "\n",
       "    .dataframe tbody tr th {\n",
       "        vertical-align: top;\n",
       "    }\n",
       "\n",
       "    .dataframe thead th {\n",
       "        text-align: right;\n",
       "    }\n",
       "</style>\n",
       "<table border=\"1\" class=\"dataframe\">\n",
       "  <thead>\n",
       "    <tr style=\"text-align: right;\">\n",
       "      <th></th>\n",
       "      <th>Name</th>\n",
       "      <th>Email</th>\n",
       "      <th>Password</th>\n",
       "      <th>Country</th>\n",
       "    </tr>\n",
       "  </thead>\n",
       "  <tbody>\n",
       "    <tr>\n",
       "      <th>Location 1</th>\n",
       "      <td>Jackson</td>\n",
       "      <td>salamjay16@gmail.com</td>\n",
       "      <td>idan5jack</td>\n",
       "      <td>Toronto</td>\n",
       "    </tr>\n",
       "    <tr>\n",
       "      <th>Location 2</th>\n",
       "      <td>Abdulsalam</td>\n",
       "      <td>salamjayboss19@gmail.com</td>\n",
       "      <td>abdulsalam</td>\n",
       "      <td>Qatar</td>\n",
       "    </tr>\n",
       "    <tr>\n",
       "      <th>Location 3</th>\n",
       "      <td>Ibrahim</td>\n",
       "      <td>ibrahimolamilekan01@gmail.com</td>\n",
       "      <td>ibreezy</td>\n",
       "      <td>Nigeria</td>\n",
       "    </tr>\n",
       "    <tr>\n",
       "      <th>Location 3</th>\n",
       "      <td>Jay</td>\n",
       "      <td>Jaypeslovers20@gmail.com</td>\n",
       "      <td>peslovers20</td>\n",
       "      <td>Nigeria</td>\n",
       "    </tr>\n",
       "    <tr>\n",
       "      <th>Location 4</th>\n",
       "      <td>Musa</td>\n",
       "      <td>Musaayomide17@gmail.com</td>\n",
       "      <td>shaddy</td>\n",
       "      <td>Japan</td>\n",
       "    </tr>\n",
       "  </tbody>\n",
       "</table>\n",
       "</div>"
      ],
      "text/plain": [
       "                  Name                          Email     Password  Country\n",
       "Location 1     Jackson           salamjay16@gmail.com    idan5jack  Toronto\n",
       "Location 2  Abdulsalam       salamjayboss19@gmail.com   abdulsalam    Qatar\n",
       "Location 3     Ibrahim  ibrahimolamilekan01@gmail.com      ibreezy  Nigeria\n",
       "Location 3         Jay       Jaypeslovers20@gmail.com  peslovers20  Nigeria\n",
       "Location 4        Musa        Musaayomide17@gmail.com       shaddy    Japan"
      ]
     },
     "execution_count": 138,
     "metadata": {},
     "output_type": "execute_result"
    }
   ],
   "source": [
    "df"
   ]
  },
  {
   "cell_type": "code",
   "execution_count": 139,
   "id": "56842613",
   "metadata": {},
   "outputs": [
    {
     "data": {
      "text/html": [
       "<div>\n",
       "<style scoped>\n",
       "    .dataframe tbody tr th:only-of-type {\n",
       "        vertical-align: middle;\n",
       "    }\n",
       "\n",
       "    .dataframe tbody tr th {\n",
       "        vertical-align: top;\n",
       "    }\n",
       "\n",
       "    .dataframe thead th {\n",
       "        text-align: right;\n",
       "    }\n",
       "</style>\n",
       "<table border=\"1\" class=\"dataframe\">\n",
       "  <thead>\n",
       "    <tr style=\"text-align: right;\">\n",
       "      <th></th>\n",
       "      <th>Location 1</th>\n",
       "      <th>Location 2</th>\n",
       "      <th>Location 3</th>\n",
       "      <th>Location 3</th>\n",
       "      <th>Location 4</th>\n",
       "    </tr>\n",
       "  </thead>\n",
       "  <tbody>\n",
       "    <tr>\n",
       "      <th>Name</th>\n",
       "      <td>Jackson</td>\n",
       "      <td>Abdulsalam</td>\n",
       "      <td>Ibrahim</td>\n",
       "      <td>Jay</td>\n",
       "      <td>Musa</td>\n",
       "    </tr>\n",
       "    <tr>\n",
       "      <th>Email</th>\n",
       "      <td>salamjay16@gmail.com</td>\n",
       "      <td>salamjayboss19@gmail.com</td>\n",
       "      <td>ibrahimolamilekan01@gmail.com</td>\n",
       "      <td>Jaypeslovers20@gmail.com</td>\n",
       "      <td>Musaayomide17@gmail.com</td>\n",
       "    </tr>\n",
       "    <tr>\n",
       "      <th>Password</th>\n",
       "      <td>idan5jack</td>\n",
       "      <td>abdulsalam</td>\n",
       "      <td>ibreezy</td>\n",
       "      <td>peslovers20</td>\n",
       "      <td>shaddy</td>\n",
       "    </tr>\n",
       "    <tr>\n",
       "      <th>Country</th>\n",
       "      <td>Toronto</td>\n",
       "      <td>Qatar</td>\n",
       "      <td>Nigeria</td>\n",
       "      <td>Nigeria</td>\n",
       "      <td>Japan</td>\n",
       "    </tr>\n",
       "  </tbody>\n",
       "</table>\n",
       "</div>"
      ],
      "text/plain": [
       "                    Location 1                Location 2  \\\n",
       "Name                   Jackson                Abdulsalam   \n",
       "Email     salamjay16@gmail.com  salamjayboss19@gmail.com   \n",
       "Password             idan5jack                abdulsalam   \n",
       "Country                Toronto                     Qatar   \n",
       "\n",
       "                             Location 3                Location 3  \\\n",
       "Name                            Ibrahim                       Jay   \n",
       "Email     ibrahimolamilekan01@gmail.com  Jaypeslovers20@gmail.com   \n",
       "Password                        ibreezy               peslovers20   \n",
       "Country                         Nigeria                   Nigeria   \n",
       "\n",
       "                       Location 4  \n",
       "Name                         Musa  \n",
       "Email     Musaayomide17@gmail.com  \n",
       "Password                   shaddy  \n",
       "Country                     Japan  "
      ]
     },
     "execution_count": 139,
     "metadata": {},
     "output_type": "execute_result"
    }
   ],
   "source": [
    "df.T"
   ]
  },
  {
   "cell_type": "code",
   "execution_count": 140,
   "id": "583b3816",
   "metadata": {},
   "outputs": [
    {
     "data": {
      "text/html": [
       "<div>\n",
       "<style scoped>\n",
       "    .dataframe tbody tr th:only-of-type {\n",
       "        vertical-align: middle;\n",
       "    }\n",
       "\n",
       "    .dataframe tbody tr th {\n",
       "        vertical-align: top;\n",
       "    }\n",
       "\n",
       "    .dataframe thead th {\n",
       "        text-align: right;\n",
       "    }\n",
       "</style>\n",
       "<table border=\"1\" class=\"dataframe\">\n",
       "  <thead>\n",
       "    <tr style=\"text-align: right;\">\n",
       "      <th></th>\n",
       "      <th>Name</th>\n",
       "      <th>Email</th>\n",
       "      <th>Password</th>\n",
       "      <th>Country</th>\n",
       "    </tr>\n",
       "  </thead>\n",
       "  <tbody>\n",
       "    <tr>\n",
       "      <th>Location 1</th>\n",
       "      <td>Jackson</td>\n",
       "      <td>salamjay16@gmail.com</td>\n",
       "      <td>idan5jack</td>\n",
       "      <td>Toronto</td>\n",
       "    </tr>\n",
       "    <tr>\n",
       "      <th>Location 2</th>\n",
       "      <td>Abdulsalam</td>\n",
       "      <td>salamjayboss19@gmail.com</td>\n",
       "      <td>abdulsalam</td>\n",
       "      <td>Qatar</td>\n",
       "    </tr>\n",
       "    <tr>\n",
       "      <th>Location 4</th>\n",
       "      <td>Musa</td>\n",
       "      <td>Musaayomide17@gmail.com</td>\n",
       "      <td>shaddy</td>\n",
       "      <td>Japan</td>\n",
       "    </tr>\n",
       "  </tbody>\n",
       "</table>\n",
       "</div>"
      ],
      "text/plain": [
       "                  Name                     Email    Password  Country\n",
       "Location 1     Jackson      salamjay16@gmail.com   idan5jack  Toronto\n",
       "Location 2  Abdulsalam  salamjayboss19@gmail.com  abdulsalam    Qatar\n",
       "Location 4        Musa   Musaayomide17@gmail.com      shaddy    Japan"
      ]
     },
     "execution_count": 140,
     "metadata": {},
     "output_type": "execute_result"
    }
   ],
   "source": [
    "df.drop(['Location 3']) #drops the called row[index] by default without affecting the DataFrame"
   ]
  },
  {
   "cell_type": "code",
   "execution_count": 141,
   "id": "0db39ce6",
   "metadata": {},
   "outputs": [],
   "source": [
    "# df.drop(['Location 2'], inplace=True) #drops the called row[index] by default BUT affectS the DataFrame"
   ]
  },
  {
   "cell_type": "code",
   "execution_count": 142,
   "id": "5e5b2048",
   "metadata": {},
   "outputs": [
    {
     "data": {
      "text/html": [
       "<div>\n",
       "<style scoped>\n",
       "    .dataframe tbody tr th:only-of-type {\n",
       "        vertical-align: middle;\n",
       "    }\n",
       "\n",
       "    .dataframe tbody tr th {\n",
       "        vertical-align: top;\n",
       "    }\n",
       "\n",
       "    .dataframe thead th {\n",
       "        text-align: right;\n",
       "    }\n",
       "</style>\n",
       "<table border=\"1\" class=\"dataframe\">\n",
       "  <thead>\n",
       "    <tr style=\"text-align: right;\">\n",
       "      <th></th>\n",
       "      <th>Email</th>\n",
       "      <th>Password</th>\n",
       "      <th>Country</th>\n",
       "    </tr>\n",
       "  </thead>\n",
       "  <tbody>\n",
       "    <tr>\n",
       "      <th>Location 1</th>\n",
       "      <td>salamjay16@gmail.com</td>\n",
       "      <td>idan5jack</td>\n",
       "      <td>Toronto</td>\n",
       "    </tr>\n",
       "    <tr>\n",
       "      <th>Location 2</th>\n",
       "      <td>salamjayboss19@gmail.com</td>\n",
       "      <td>abdulsalam</td>\n",
       "      <td>Qatar</td>\n",
       "    </tr>\n",
       "    <tr>\n",
       "      <th>Location 3</th>\n",
       "      <td>ibrahimolamilekan01@gmail.com</td>\n",
       "      <td>ibreezy</td>\n",
       "      <td>Nigeria</td>\n",
       "    </tr>\n",
       "    <tr>\n",
       "      <th>Location 3</th>\n",
       "      <td>Jaypeslovers20@gmail.com</td>\n",
       "      <td>peslovers20</td>\n",
       "      <td>Nigeria</td>\n",
       "    </tr>\n",
       "    <tr>\n",
       "      <th>Location 4</th>\n",
       "      <td>Musaayomide17@gmail.com</td>\n",
       "      <td>shaddy</td>\n",
       "      <td>Japan</td>\n",
       "    </tr>\n",
       "  </tbody>\n",
       "</table>\n",
       "</div>"
      ],
      "text/plain": [
       "                                    Email     Password  Country\n",
       "Location 1           salamjay16@gmail.com    idan5jack  Toronto\n",
       "Location 2       salamjayboss19@gmail.com   abdulsalam    Qatar\n",
       "Location 3  ibrahimolamilekan01@gmail.com      ibreezy  Nigeria\n",
       "Location 3       Jaypeslovers20@gmail.com  peslovers20  Nigeria\n",
       "Location 4        Musaayomide17@gmail.com       shaddy    Japan"
      ]
     },
     "execution_count": 142,
     "metadata": {},
     "output_type": "execute_result"
    }
   ],
   "source": [
    "df.drop(['Name'], axis = 1) # with axis=1, it drops the column[index 1] instead of Row"
   ]
  },
  {
   "cell_type": "markdown",
   "id": "2b942cc6",
   "metadata": {},
   "source": [
    "DataFrame Indexing & Loading"
   ]
  },
  {
   "cell_type": "code",
   "execution_count": 143,
   "id": "db365f7c",
   "metadata": {},
   "outputs": [
    {
     "data": {
      "text/html": [
       "<div>\n",
       "<style scoped>\n",
       "    .dataframe tbody tr th:only-of-type {\n",
       "        vertical-align: middle;\n",
       "    }\n",
       "\n",
       "    .dataframe tbody tr th {\n",
       "        vertical-align: top;\n",
       "    }\n",
       "\n",
       "    .dataframe thead th {\n",
       "        text-align: right;\n",
       "    }\n",
       "</style>\n",
       "<table border=\"1\" class=\"dataframe\">\n",
       "  <thead>\n",
       "    <tr style=\"text-align: right;\">\n",
       "      <th></th>\n",
       "      <th>Name</th>\n",
       "      <th>Email</th>\n",
       "      <th>Password</th>\n",
       "      <th>Country</th>\n",
       "    </tr>\n",
       "  </thead>\n",
       "  <tbody>\n",
       "    <tr>\n",
       "      <th>Location 1</th>\n",
       "      <td>Jackson</td>\n",
       "      <td>salamjay16@gmail.com</td>\n",
       "      <td>idan5jack</td>\n",
       "      <td>Toronto</td>\n",
       "    </tr>\n",
       "    <tr>\n",
       "      <th>Location 2</th>\n",
       "      <td>Abdulsalam</td>\n",
       "      <td>salamjayboss19@gmail.com</td>\n",
       "      <td>abdulsalam</td>\n",
       "      <td>Qatar</td>\n",
       "    </tr>\n",
       "    <tr>\n",
       "      <th>Location 3</th>\n",
       "      <td>Ibrahim</td>\n",
       "      <td>ibrahimolamilekan01@gmail.com</td>\n",
       "      <td>ibreezy</td>\n",
       "      <td>Nigeria</td>\n",
       "    </tr>\n",
       "    <tr>\n",
       "      <th>Location 3</th>\n",
       "      <td>Jay</td>\n",
       "      <td>Jaypeslovers20@gmail.com</td>\n",
       "      <td>peslovers20</td>\n",
       "      <td>Nigeria</td>\n",
       "    </tr>\n",
       "    <tr>\n",
       "      <th>Location 4</th>\n",
       "      <td>Musa</td>\n",
       "      <td>Musaayomide17@gmail.com</td>\n",
       "      <td>shaddy</td>\n",
       "      <td>Japan</td>\n",
       "    </tr>\n",
       "  </tbody>\n",
       "</table>\n",
       "</div>"
      ],
      "text/plain": [
       "                  Name                          Email     Password  Country\n",
       "Location 1     Jackson           salamjay16@gmail.com    idan5jack  Toronto\n",
       "Location 2  Abdulsalam       salamjayboss19@gmail.com   abdulsalam    Qatar\n",
       "Location 3     Ibrahim  ibrahimolamilekan01@gmail.com      ibreezy  Nigeria\n",
       "Location 3         Jay       Jaypeslovers20@gmail.com  peslovers20  Nigeria\n",
       "Location 4        Musa        Musaayomide17@gmail.com       shaddy    Japan"
      ]
     },
     "execution_count": 143,
     "metadata": {},
     "output_type": "execute_result"
    }
   ],
   "source": [
    "df"
   ]
  },
  {
   "cell_type": "code",
   "execution_count": 144,
   "id": "c7ef96ad",
   "metadata": {},
   "outputs": [
    {
     "data": {
      "text/plain": [
       "Location 1       Jackson\n",
       "Location 2    Abdulsalam\n",
       "Location 3       Ibrahim\n",
       "Location 3           Jay\n",
       "Location 4          Musa\n",
       "Name: Name, dtype: object"
      ]
     },
     "execution_count": 144,
     "metadata": {},
     "output_type": "execute_result"
    }
   ],
   "source": [
    "all_name = df['Name']\n",
    "all_name"
   ]
  },
  {
   "cell_type": "code",
   "execution_count": 145,
   "id": "70b30b43",
   "metadata": {},
   "outputs": [
    {
     "data": {
      "text/plain": [
       "Location 1      idan5jack\n",
       "Location 2     abdulsalam\n",
       "Location 3        ibreezy\n",
       "Location 3    peslovers20\n",
       "Location 4         shaddy\n",
       "Name: Password, dtype: object"
      ]
     },
     "execution_count": 145,
     "metadata": {},
     "output_type": "execute_result"
    }
   ],
   "source": [
    "all_password = df['Password']\n",
    "all_password"
   ]
  },
  {
   "cell_type": "code",
   "execution_count": 146,
   "id": "dd8d4fc1",
   "metadata": {},
   "outputs": [
    {
     "data": {
      "text/plain": [
       "Location 3        ibreezy\n",
       "Location 3    peslovers20\n",
       "Name: Password, dtype: object"
      ]
     },
     "execution_count": 146,
     "metadata": {},
     "output_type": "execute_result"
    }
   ],
   "source": [
    "password_1 = df['Password'].loc['Location 3']\n",
    "password_1"
   ]
  },
  {
   "cell_type": "markdown",
   "id": "6493538b",
   "metadata": {},
   "source": [
    "# Reading DataSet with pandas"
   ]
  },
  {
   "cell_type": "code",
   "execution_count": 147,
   "id": "d0ba2cc0",
   "metadata": {},
   "outputs": [],
   "source": [
    "import pandas as pd"
   ]
  },
  {
   "cell_type": "code",
   "execution_count": 148,
   "id": "677d3cbd",
   "metadata": {},
   "outputs": [],
   "source": [
    "df = pd.read_csv('olympics.csv')"
   ]
  },
  {
   "cell_type": "code",
   "execution_count": 149,
   "id": "1cee55c9",
   "metadata": {},
   "outputs": [
    {
     "data": {
      "text/html": [
       "<div>\n",
       "<style scoped>\n",
       "    .dataframe tbody tr th:only-of-type {\n",
       "        vertical-align: middle;\n",
       "    }\n",
       "\n",
       "    .dataframe tbody tr th {\n",
       "        vertical-align: top;\n",
       "    }\n",
       "\n",
       "    .dataframe thead th {\n",
       "        text-align: right;\n",
       "    }\n",
       "</style>\n",
       "<table border=\"1\" class=\"dataframe\">\n",
       "  <thead>\n",
       "    <tr style=\"text-align: right;\">\n",
       "      <th></th>\n",
       "      <th>0</th>\n",
       "      <th>1</th>\n",
       "      <th>2</th>\n",
       "      <th>3</th>\n",
       "      <th>4</th>\n",
       "      <th>5</th>\n",
       "      <th>6</th>\n",
       "      <th>7</th>\n",
       "      <th>8</th>\n",
       "      <th>9</th>\n",
       "      <th>10</th>\n",
       "      <th>11</th>\n",
       "      <th>12</th>\n",
       "      <th>13</th>\n",
       "      <th>14</th>\n",
       "      <th>15</th>\n",
       "    </tr>\n",
       "  </thead>\n",
       "  <tbody>\n",
       "    <tr>\n",
       "      <th>0</th>\n",
       "      <td>NaN</td>\n",
       "      <td>№ Summer</td>\n",
       "      <td>01 !</td>\n",
       "      <td>02 !</td>\n",
       "      <td>03 !</td>\n",
       "      <td>Total</td>\n",
       "      <td>№ Winter</td>\n",
       "      <td>01 !</td>\n",
       "      <td>02 !</td>\n",
       "      <td>03 !</td>\n",
       "      <td>Total</td>\n",
       "      <td>№ Games</td>\n",
       "      <td>01 !</td>\n",
       "      <td>02 !</td>\n",
       "      <td>03 !</td>\n",
       "      <td>Combined total</td>\n",
       "    </tr>\n",
       "    <tr>\n",
       "      <th>1</th>\n",
       "      <td>Afghanistan (AFG)</td>\n",
       "      <td>13</td>\n",
       "      <td>0</td>\n",
       "      <td>0</td>\n",
       "      <td>2</td>\n",
       "      <td>2</td>\n",
       "      <td>0</td>\n",
       "      <td>0</td>\n",
       "      <td>0</td>\n",
       "      <td>0</td>\n",
       "      <td>0</td>\n",
       "      <td>13</td>\n",
       "      <td>0</td>\n",
       "      <td>0</td>\n",
       "      <td>2</td>\n",
       "      <td>2</td>\n",
       "    </tr>\n",
       "    <tr>\n",
       "      <th>2</th>\n",
       "      <td>Algeria (ALG)</td>\n",
       "      <td>12</td>\n",
       "      <td>5</td>\n",
       "      <td>2</td>\n",
       "      <td>8</td>\n",
       "      <td>15</td>\n",
       "      <td>3</td>\n",
       "      <td>0</td>\n",
       "      <td>0</td>\n",
       "      <td>0</td>\n",
       "      <td>0</td>\n",
       "      <td>15</td>\n",
       "      <td>5</td>\n",
       "      <td>2</td>\n",
       "      <td>8</td>\n",
       "      <td>15</td>\n",
       "    </tr>\n",
       "    <tr>\n",
       "      <th>3</th>\n",
       "      <td>Argentina (ARG)</td>\n",
       "      <td>23</td>\n",
       "      <td>18</td>\n",
       "      <td>24</td>\n",
       "      <td>28</td>\n",
       "      <td>70</td>\n",
       "      <td>18</td>\n",
       "      <td>0</td>\n",
       "      <td>0</td>\n",
       "      <td>0</td>\n",
       "      <td>0</td>\n",
       "      <td>41</td>\n",
       "      <td>18</td>\n",
       "      <td>24</td>\n",
       "      <td>28</td>\n",
       "      <td>70</td>\n",
       "    </tr>\n",
       "    <tr>\n",
       "      <th>4</th>\n",
       "      <td>Armenia (ARM)</td>\n",
       "      <td>5</td>\n",
       "      <td>1</td>\n",
       "      <td>2</td>\n",
       "      <td>9</td>\n",
       "      <td>12</td>\n",
       "      <td>6</td>\n",
       "      <td>0</td>\n",
       "      <td>0</td>\n",
       "      <td>0</td>\n",
       "      <td>0</td>\n",
       "      <td>11</td>\n",
       "      <td>1</td>\n",
       "      <td>2</td>\n",
       "      <td>9</td>\n",
       "      <td>12</td>\n",
       "    </tr>\n",
       "    <tr>\n",
       "      <th>5</th>\n",
       "      <td>Australasia (ANZ) [ANZ]</td>\n",
       "      <td>2</td>\n",
       "      <td>3</td>\n",
       "      <td>4</td>\n",
       "      <td>5</td>\n",
       "      <td>12</td>\n",
       "      <td>0</td>\n",
       "      <td>0</td>\n",
       "      <td>0</td>\n",
       "      <td>0</td>\n",
       "      <td>0</td>\n",
       "      <td>2</td>\n",
       "      <td>3</td>\n",
       "      <td>4</td>\n",
       "      <td>5</td>\n",
       "      <td>12</td>\n",
       "    </tr>\n",
       "    <tr>\n",
       "      <th>6</th>\n",
       "      <td>Australia (AUS) [AUS] [Z]</td>\n",
       "      <td>25</td>\n",
       "      <td>139</td>\n",
       "      <td>152</td>\n",
       "      <td>177</td>\n",
       "      <td>468</td>\n",
       "      <td>18</td>\n",
       "      <td>5</td>\n",
       "      <td>3</td>\n",
       "      <td>4</td>\n",
       "      <td>12</td>\n",
       "      <td>43</td>\n",
       "      <td>144</td>\n",
       "      <td>155</td>\n",
       "      <td>181</td>\n",
       "      <td>480</td>\n",
       "    </tr>\n",
       "    <tr>\n",
       "      <th>7</th>\n",
       "      <td>Austria (AUT)</td>\n",
       "      <td>26</td>\n",
       "      <td>18</td>\n",
       "      <td>33</td>\n",
       "      <td>35</td>\n",
       "      <td>86</td>\n",
       "      <td>22</td>\n",
       "      <td>59</td>\n",
       "      <td>78</td>\n",
       "      <td>81</td>\n",
       "      <td>218</td>\n",
       "      <td>48</td>\n",
       "      <td>77</td>\n",
       "      <td>111</td>\n",
       "      <td>116</td>\n",
       "      <td>304</td>\n",
       "    </tr>\n",
       "    <tr>\n",
       "      <th>8</th>\n",
       "      <td>Azerbaijan (AZE)</td>\n",
       "      <td>5</td>\n",
       "      <td>6</td>\n",
       "      <td>5</td>\n",
       "      <td>15</td>\n",
       "      <td>26</td>\n",
       "      <td>5</td>\n",
       "      <td>0</td>\n",
       "      <td>0</td>\n",
       "      <td>0</td>\n",
       "      <td>0</td>\n",
       "      <td>10</td>\n",
       "      <td>6</td>\n",
       "      <td>5</td>\n",
       "      <td>15</td>\n",
       "      <td>26</td>\n",
       "    </tr>\n",
       "    <tr>\n",
       "      <th>9</th>\n",
       "      <td>Bahamas (BAH)</td>\n",
       "      <td>15</td>\n",
       "      <td>5</td>\n",
       "      <td>2</td>\n",
       "      <td>5</td>\n",
       "      <td>12</td>\n",
       "      <td>0</td>\n",
       "      <td>0</td>\n",
       "      <td>0</td>\n",
       "      <td>0</td>\n",
       "      <td>0</td>\n",
       "      <td>15</td>\n",
       "      <td>5</td>\n",
       "      <td>2</td>\n",
       "      <td>5</td>\n",
       "      <td>12</td>\n",
       "    </tr>\n",
       "  </tbody>\n",
       "</table>\n",
       "</div>"
      ],
      "text/plain": [
       "                           0         1     2     3     4      5         6  \\\n",
       "0                        NaN  № Summer  01 !  02 !  03 !  Total  № Winter   \n",
       "1          Afghanistan (AFG)        13     0     0     2      2         0   \n",
       "2              Algeria (ALG)        12     5     2     8     15         3   \n",
       "3            Argentina (ARG)        23    18    24    28     70        18   \n",
       "4              Armenia (ARM)         5     1     2     9     12         6   \n",
       "5    Australasia (ANZ) [ANZ]         2     3     4     5     12         0   \n",
       "6  Australia (AUS) [AUS] [Z]        25   139   152   177    468        18   \n",
       "7              Austria (AUT)        26    18    33    35     86        22   \n",
       "8           Azerbaijan (AZE)         5     6     5    15     26         5   \n",
       "9              Bahamas (BAH)        15     5     2     5     12         0   \n",
       "\n",
       "      7     8     9     10       11    12    13    14              15  \n",
       "0  01 !  02 !  03 !  Total  № Games  01 !  02 !  03 !  Combined total  \n",
       "1     0     0     0      0       13     0     0     2               2  \n",
       "2     0     0     0      0       15     5     2     8              15  \n",
       "3     0     0     0      0       41    18    24    28              70  \n",
       "4     0     0     0      0       11     1     2     9              12  \n",
       "5     0     0     0      0        2     3     4     5              12  \n",
       "6     5     3     4     12       43   144   155   181             480  \n",
       "7    59    78    81    218       48    77   111   116             304  \n",
       "8     0     0     0      0       10     6     5    15              26  \n",
       "9     0     0     0      0       15     5     2     5              12  "
      ]
     },
     "execution_count": 149,
     "metadata": {},
     "output_type": "execute_result"
    }
   ],
   "source": [
    "df.head(10)"
   ]
  },
  {
   "cell_type": "code",
   "execution_count": 150,
   "id": "b07af7b9",
   "metadata": {},
   "outputs": [
    {
     "data": {
      "text/plain": [
       "(148, 16)"
      ]
     },
     "execution_count": 150,
     "metadata": {},
     "output_type": "execute_result"
    }
   ],
   "source": [
    "df.shape"
   ]
  },
  {
   "cell_type": "code",
   "execution_count": 151,
   "id": "c5ad6f97",
   "metadata": {},
   "outputs": [],
   "source": [
    "df = pd.read_csv('olympics.csv', index_col = 0, skiprows=1)"
   ]
  },
  {
   "cell_type": "markdown",
   "id": "4c0dd688",
   "metadata": {},
   "source": [
    "index_col = 0 wiil take column 0 to an index & skiprows=1 skips the first row[0 - 15]"
   ]
  },
  {
   "cell_type": "code",
   "execution_count": 152,
   "id": "b3d6355a",
   "metadata": {},
   "outputs": [
    {
     "data": {
      "text/html": [
       "<div>\n",
       "<style scoped>\n",
       "    .dataframe tbody tr th:only-of-type {\n",
       "        vertical-align: middle;\n",
       "    }\n",
       "\n",
       "    .dataframe tbody tr th {\n",
       "        vertical-align: top;\n",
       "    }\n",
       "\n",
       "    .dataframe thead th {\n",
       "        text-align: right;\n",
       "    }\n",
       "</style>\n",
       "<table border=\"1\" class=\"dataframe\">\n",
       "  <thead>\n",
       "    <tr style=\"text-align: right;\">\n",
       "      <th></th>\n",
       "      <th>№ Summer</th>\n",
       "      <th>01 !</th>\n",
       "      <th>02 !</th>\n",
       "      <th>03 !</th>\n",
       "      <th>Total</th>\n",
       "      <th>№ Winter</th>\n",
       "      <th>01 !.1</th>\n",
       "      <th>02 !.1</th>\n",
       "      <th>03 !.1</th>\n",
       "      <th>Total.1</th>\n",
       "      <th>№ Games</th>\n",
       "      <th>01 !.2</th>\n",
       "      <th>02 !.2</th>\n",
       "      <th>03 !.2</th>\n",
       "      <th>Combined total</th>\n",
       "    </tr>\n",
       "  </thead>\n",
       "  <tbody>\n",
       "    <tr>\n",
       "      <th>Afghanistan (AFG)</th>\n",
       "      <td>13</td>\n",
       "      <td>0</td>\n",
       "      <td>0</td>\n",
       "      <td>2</td>\n",
       "      <td>2</td>\n",
       "      <td>0</td>\n",
       "      <td>0</td>\n",
       "      <td>0</td>\n",
       "      <td>0</td>\n",
       "      <td>0</td>\n",
       "      <td>13</td>\n",
       "      <td>0</td>\n",
       "      <td>0</td>\n",
       "      <td>2</td>\n",
       "      <td>2</td>\n",
       "    </tr>\n",
       "    <tr>\n",
       "      <th>Algeria (ALG)</th>\n",
       "      <td>12</td>\n",
       "      <td>5</td>\n",
       "      <td>2</td>\n",
       "      <td>8</td>\n",
       "      <td>15</td>\n",
       "      <td>3</td>\n",
       "      <td>0</td>\n",
       "      <td>0</td>\n",
       "      <td>0</td>\n",
       "      <td>0</td>\n",
       "      <td>15</td>\n",
       "      <td>5</td>\n",
       "      <td>2</td>\n",
       "      <td>8</td>\n",
       "      <td>15</td>\n",
       "    </tr>\n",
       "    <tr>\n",
       "      <th>Argentina (ARG)</th>\n",
       "      <td>23</td>\n",
       "      <td>18</td>\n",
       "      <td>24</td>\n",
       "      <td>28</td>\n",
       "      <td>70</td>\n",
       "      <td>18</td>\n",
       "      <td>0</td>\n",
       "      <td>0</td>\n",
       "      <td>0</td>\n",
       "      <td>0</td>\n",
       "      <td>41</td>\n",
       "      <td>18</td>\n",
       "      <td>24</td>\n",
       "      <td>28</td>\n",
       "      <td>70</td>\n",
       "    </tr>\n",
       "    <tr>\n",
       "      <th>Armenia (ARM)</th>\n",
       "      <td>5</td>\n",
       "      <td>1</td>\n",
       "      <td>2</td>\n",
       "      <td>9</td>\n",
       "      <td>12</td>\n",
       "      <td>6</td>\n",
       "      <td>0</td>\n",
       "      <td>0</td>\n",
       "      <td>0</td>\n",
       "      <td>0</td>\n",
       "      <td>11</td>\n",
       "      <td>1</td>\n",
       "      <td>2</td>\n",
       "      <td>9</td>\n",
       "      <td>12</td>\n",
       "    </tr>\n",
       "    <tr>\n",
       "      <th>Australasia (ANZ) [ANZ]</th>\n",
       "      <td>2</td>\n",
       "      <td>3</td>\n",
       "      <td>4</td>\n",
       "      <td>5</td>\n",
       "      <td>12</td>\n",
       "      <td>0</td>\n",
       "      <td>0</td>\n",
       "      <td>0</td>\n",
       "      <td>0</td>\n",
       "      <td>0</td>\n",
       "      <td>2</td>\n",
       "      <td>3</td>\n",
       "      <td>4</td>\n",
       "      <td>5</td>\n",
       "      <td>12</td>\n",
       "    </tr>\n",
       "  </tbody>\n",
       "</table>\n",
       "</div>"
      ],
      "text/plain": [
       "                         № Summer  01 !  02 !  03 !  Total  № Winter  01 !.1  \\\n",
       "Afghanistan (AFG)              13     0     0     2      2         0       0   \n",
       "Algeria (ALG)                  12     5     2     8     15         3       0   \n",
       "Argentina (ARG)                23    18    24    28     70        18       0   \n",
       "Armenia (ARM)                   5     1     2     9     12         6       0   \n",
       "Australasia (ANZ) [ANZ]         2     3     4     5     12         0       0   \n",
       "\n",
       "                         02 !.1  03 !.1  Total.1  № Games  01 !.2  02 !.2  \\\n",
       "Afghanistan (AFG)             0       0        0       13       0       0   \n",
       "Algeria (ALG)                 0       0        0       15       5       2   \n",
       "Argentina (ARG)               0       0        0       41      18      24   \n",
       "Armenia (ARM)                 0       0        0       11       1       2   \n",
       "Australasia (ANZ) [ANZ]       0       0        0        2       3       4   \n",
       "\n",
       "                         03 !.2  Combined total  \n",
       "Afghanistan (AFG)             2               2  \n",
       "Algeria (ALG)                 8              15  \n",
       "Argentina (ARG)              28              70  \n",
       "Armenia (ARM)                 9              12  \n",
       "Australasia (ANZ) [ANZ]       5              12  "
      ]
     },
     "execution_count": 152,
     "metadata": {},
     "output_type": "execute_result"
    }
   ],
   "source": [
    "df.head()"
   ]
  },
  {
   "cell_type": "code",
   "execution_count": 153,
   "id": "c0f3c234",
   "metadata": {},
   "outputs": [
    {
     "data": {
      "text/plain": [
       "Index(['№ Summer', '01 !', '02 !', '03 !', 'Total', '№ Winter', '01 !.1',\n",
       "       '02 !.1', '03 !.1', 'Total.1', '№ Games', '01 !.2', '02 !.2', '03 !.2',\n",
       "       'Combined total'],\n",
       "      dtype='object')"
      ]
     },
     "execution_count": 153,
     "metadata": {},
     "output_type": "execute_result"
    }
   ],
   "source": [
    "df.columns"
   ]
  },
  {
   "cell_type": "code",
   "execution_count": 154,
   "id": "d7379b82",
   "metadata": {},
   "outputs": [
    {
     "data": {
      "text/html": [
       "<div>\n",
       "<style scoped>\n",
       "    .dataframe tbody tr th:only-of-type {\n",
       "        vertical-align: middle;\n",
       "    }\n",
       "\n",
       "    .dataframe tbody tr th {\n",
       "        vertical-align: top;\n",
       "    }\n",
       "\n",
       "    .dataframe thead th {\n",
       "        text-align: right;\n",
       "    }\n",
       "</style>\n",
       "<table border=\"1\" class=\"dataframe\">\n",
       "  <thead>\n",
       "    <tr style=\"text-align: right;\">\n",
       "      <th></th>\n",
       "      <th>for Summer</th>\n",
       "      <th>Gold</th>\n",
       "      <th>Silver</th>\n",
       "      <th>Bronze</th>\n",
       "      <th>Total</th>\n",
       "      <th>for Winter</th>\n",
       "      <th>Gold.1</th>\n",
       "      <th>Silver.1</th>\n",
       "      <th>Bronze.1</th>\n",
       "      <th>Total.1</th>\n",
       "      <th>for Games</th>\n",
       "      <th>Gold.2</th>\n",
       "      <th>Silver.2</th>\n",
       "      <th>Bronze.2</th>\n",
       "      <th>Combined total</th>\n",
       "    </tr>\n",
       "  </thead>\n",
       "  <tbody>\n",
       "    <tr>\n",
       "      <th>Afghanistan (AFG)</th>\n",
       "      <td>13</td>\n",
       "      <td>0</td>\n",
       "      <td>0</td>\n",
       "      <td>2</td>\n",
       "      <td>2</td>\n",
       "      <td>0</td>\n",
       "      <td>0</td>\n",
       "      <td>0</td>\n",
       "      <td>0</td>\n",
       "      <td>0</td>\n",
       "      <td>13</td>\n",
       "      <td>0</td>\n",
       "      <td>0</td>\n",
       "      <td>2</td>\n",
       "      <td>2</td>\n",
       "    </tr>\n",
       "    <tr>\n",
       "      <th>Algeria (ALG)</th>\n",
       "      <td>12</td>\n",
       "      <td>5</td>\n",
       "      <td>2</td>\n",
       "      <td>8</td>\n",
       "      <td>15</td>\n",
       "      <td>3</td>\n",
       "      <td>0</td>\n",
       "      <td>0</td>\n",
       "      <td>0</td>\n",
       "      <td>0</td>\n",
       "      <td>15</td>\n",
       "      <td>5</td>\n",
       "      <td>2</td>\n",
       "      <td>8</td>\n",
       "      <td>15</td>\n",
       "    </tr>\n",
       "    <tr>\n",
       "      <th>Argentina (ARG)</th>\n",
       "      <td>23</td>\n",
       "      <td>18</td>\n",
       "      <td>24</td>\n",
       "      <td>28</td>\n",
       "      <td>70</td>\n",
       "      <td>18</td>\n",
       "      <td>0</td>\n",
       "      <td>0</td>\n",
       "      <td>0</td>\n",
       "      <td>0</td>\n",
       "      <td>41</td>\n",
       "      <td>18</td>\n",
       "      <td>24</td>\n",
       "      <td>28</td>\n",
       "      <td>70</td>\n",
       "    </tr>\n",
       "    <tr>\n",
       "      <th>Armenia (ARM)</th>\n",
       "      <td>5</td>\n",
       "      <td>1</td>\n",
       "      <td>2</td>\n",
       "      <td>9</td>\n",
       "      <td>12</td>\n",
       "      <td>6</td>\n",
       "      <td>0</td>\n",
       "      <td>0</td>\n",
       "      <td>0</td>\n",
       "      <td>0</td>\n",
       "      <td>11</td>\n",
       "      <td>1</td>\n",
       "      <td>2</td>\n",
       "      <td>9</td>\n",
       "      <td>12</td>\n",
       "    </tr>\n",
       "    <tr>\n",
       "      <th>Australasia (ANZ) [ANZ]</th>\n",
       "      <td>2</td>\n",
       "      <td>3</td>\n",
       "      <td>4</td>\n",
       "      <td>5</td>\n",
       "      <td>12</td>\n",
       "      <td>0</td>\n",
       "      <td>0</td>\n",
       "      <td>0</td>\n",
       "      <td>0</td>\n",
       "      <td>0</td>\n",
       "      <td>2</td>\n",
       "      <td>3</td>\n",
       "      <td>4</td>\n",
       "      <td>5</td>\n",
       "      <td>12</td>\n",
       "    </tr>\n",
       "  </tbody>\n",
       "</table>\n",
       "</div>"
      ],
      "text/plain": [
       "                         for Summer  Gold  Silver  Bronze  Total  for Winter  \\\n",
       "Afghanistan (AFG)                13     0       0       2      2           0   \n",
       "Algeria (ALG)                    12     5       2       8     15           3   \n",
       "Argentina (ARG)                  23    18      24      28     70          18   \n",
       "Armenia (ARM)                     5     1       2       9     12           6   \n",
       "Australasia (ANZ) [ANZ]           2     3       4       5     12           0   \n",
       "\n",
       "                         Gold.1  Silver.1  Bronze.1  Total.1  for Games  \\\n",
       "Afghanistan (AFG)             0         0         0        0         13   \n",
       "Algeria (ALG)                 0         0         0        0         15   \n",
       "Argentina (ARG)               0         0         0        0         41   \n",
       "Armenia (ARM)                 0         0         0        0         11   \n",
       "Australasia (ANZ) [ANZ]       0         0         0        0          2   \n",
       "\n",
       "                         Gold.2  Silver.2  Bronze.2  Combined total  \n",
       "Afghanistan (AFG)             0         0         2               2  \n",
       "Algeria (ALG)                 5         2         8              15  \n",
       "Argentina (ARG)              18        24        28              70  \n",
       "Armenia (ARM)                 1         2         9              12  \n",
       "Australasia (ANZ) [ANZ]       3         4         5              12  "
      ]
     },
     "execution_count": 154,
     "metadata": {},
     "output_type": "execute_result"
    }
   ],
   "source": [
    "for col in df.columns:\n",
    "    if col[:2] == '01':\n",
    "        df.rename(columns = {col:'Gold' + col[4:]}, inplace = True)\n",
    "    if col[:2] == '02':\n",
    "        df.rename(columns = {col:'Silver' + col[4:]}, inplace = True)\n",
    "    if col[:2] == '03':\n",
    "        df.rename(columns = {col:'Bronze' + col[4:]}, inplace = True)\n",
    "    if col[:1] == '№':\n",
    "        df.rename(columns = {col:'for' + col[1:]}, inplace = True)\n",
    "        \n",
    "df.head()"
   ]
  },
  {
   "cell_type": "markdown",
   "id": "ca60522f",
   "metadata": {},
   "source": [
    "#    Querying the above Dataset"
   ]
  },
  {
   "cell_type": "code",
   "execution_count": 155,
   "id": "0d1ffb1b",
   "metadata": {},
   "outputs": [
    {
     "data": {
      "text/plain": [
       "Afghanistan (AFG)                               False\n",
       "Algeria (ALG)                                    True\n",
       "Argentina (ARG)                                  True\n",
       "Armenia (ARM)                                    True\n",
       "Australasia (ANZ) [ANZ]                          True\n",
       "                                                ...  \n",
       "Independent Olympic Participants (IOP) [IOP]    False\n",
       "Zambia (ZAM) [ZAM]                              False\n",
       "Zimbabwe (ZIM) [ZIM]                             True\n",
       "Mixed team (ZZX) [ZZX]                           True\n",
       "Totals                                           True\n",
       "Name: Gold, Length: 147, dtype: bool"
      ]
     },
     "execution_count": 155,
     "metadata": {},
     "output_type": "execute_result"
    }
   ],
   "source": [
    "df['Gold'] > 0"
   ]
  },
  {
   "cell_type": "code",
   "execution_count": 156,
   "id": "7ecf2b15",
   "metadata": {},
   "outputs": [
    {
     "data": {
      "text/html": [
       "<div>\n",
       "<style scoped>\n",
       "    .dataframe tbody tr th:only-of-type {\n",
       "        vertical-align: middle;\n",
       "    }\n",
       "\n",
       "    .dataframe tbody tr th {\n",
       "        vertical-align: top;\n",
       "    }\n",
       "\n",
       "    .dataframe thead th {\n",
       "        text-align: right;\n",
       "    }\n",
       "</style>\n",
       "<table border=\"1\" class=\"dataframe\">\n",
       "  <thead>\n",
       "    <tr style=\"text-align: right;\">\n",
       "      <th></th>\n",
       "      <th>for Summer</th>\n",
       "      <th>Gold</th>\n",
       "      <th>Silver</th>\n",
       "      <th>Bronze</th>\n",
       "      <th>Total</th>\n",
       "      <th>for Winter</th>\n",
       "      <th>Gold.1</th>\n",
       "      <th>Silver.1</th>\n",
       "      <th>Bronze.1</th>\n",
       "      <th>Total.1</th>\n",
       "      <th>for Games</th>\n",
       "      <th>Gold.2</th>\n",
       "      <th>Silver.2</th>\n",
       "      <th>Bronze.2</th>\n",
       "      <th>Combined total</th>\n",
       "    </tr>\n",
       "  </thead>\n",
       "  <tbody>\n",
       "    <tr>\n",
       "      <th>Algeria (ALG)</th>\n",
       "      <td>12</td>\n",
       "      <td>5</td>\n",
       "      <td>2</td>\n",
       "      <td>8</td>\n",
       "      <td>15</td>\n",
       "      <td>3</td>\n",
       "      <td>0</td>\n",
       "      <td>0</td>\n",
       "      <td>0</td>\n",
       "      <td>0</td>\n",
       "      <td>15</td>\n",
       "      <td>5</td>\n",
       "      <td>2</td>\n",
       "      <td>8</td>\n",
       "      <td>15</td>\n",
       "    </tr>\n",
       "    <tr>\n",
       "      <th>Argentina (ARG)</th>\n",
       "      <td>23</td>\n",
       "      <td>18</td>\n",
       "      <td>24</td>\n",
       "      <td>28</td>\n",
       "      <td>70</td>\n",
       "      <td>18</td>\n",
       "      <td>0</td>\n",
       "      <td>0</td>\n",
       "      <td>0</td>\n",
       "      <td>0</td>\n",
       "      <td>41</td>\n",
       "      <td>18</td>\n",
       "      <td>24</td>\n",
       "      <td>28</td>\n",
       "      <td>70</td>\n",
       "    </tr>\n",
       "    <tr>\n",
       "      <th>Armenia (ARM)</th>\n",
       "      <td>5</td>\n",
       "      <td>1</td>\n",
       "      <td>2</td>\n",
       "      <td>9</td>\n",
       "      <td>12</td>\n",
       "      <td>6</td>\n",
       "      <td>0</td>\n",
       "      <td>0</td>\n",
       "      <td>0</td>\n",
       "      <td>0</td>\n",
       "      <td>11</td>\n",
       "      <td>1</td>\n",
       "      <td>2</td>\n",
       "      <td>9</td>\n",
       "      <td>12</td>\n",
       "    </tr>\n",
       "    <tr>\n",
       "      <th>Australasia (ANZ) [ANZ]</th>\n",
       "      <td>2</td>\n",
       "      <td>3</td>\n",
       "      <td>4</td>\n",
       "      <td>5</td>\n",
       "      <td>12</td>\n",
       "      <td>0</td>\n",
       "      <td>0</td>\n",
       "      <td>0</td>\n",
       "      <td>0</td>\n",
       "      <td>0</td>\n",
       "      <td>2</td>\n",
       "      <td>3</td>\n",
       "      <td>4</td>\n",
       "      <td>5</td>\n",
       "      <td>12</td>\n",
       "    </tr>\n",
       "    <tr>\n",
       "      <th>Australia (AUS) [AUS] [Z]</th>\n",
       "      <td>25</td>\n",
       "      <td>139</td>\n",
       "      <td>152</td>\n",
       "      <td>177</td>\n",
       "      <td>468</td>\n",
       "      <td>18</td>\n",
       "      <td>5</td>\n",
       "      <td>3</td>\n",
       "      <td>4</td>\n",
       "      <td>12</td>\n",
       "      <td>43</td>\n",
       "      <td>144</td>\n",
       "      <td>155</td>\n",
       "      <td>181</td>\n",
       "      <td>480</td>\n",
       "    </tr>\n",
       "    <tr>\n",
       "      <th>Austria (AUT)</th>\n",
       "      <td>26</td>\n",
       "      <td>18</td>\n",
       "      <td>33</td>\n",
       "      <td>35</td>\n",
       "      <td>86</td>\n",
       "      <td>22</td>\n",
       "      <td>59</td>\n",
       "      <td>78</td>\n",
       "      <td>81</td>\n",
       "      <td>218</td>\n",
       "      <td>48</td>\n",
       "      <td>77</td>\n",
       "      <td>111</td>\n",
       "      <td>116</td>\n",
       "      <td>304</td>\n",
       "    </tr>\n",
       "    <tr>\n",
       "      <th>Azerbaijan (AZE)</th>\n",
       "      <td>5</td>\n",
       "      <td>6</td>\n",
       "      <td>5</td>\n",
       "      <td>15</td>\n",
       "      <td>26</td>\n",
       "      <td>5</td>\n",
       "      <td>0</td>\n",
       "      <td>0</td>\n",
       "      <td>0</td>\n",
       "      <td>0</td>\n",
       "      <td>10</td>\n",
       "      <td>6</td>\n",
       "      <td>5</td>\n",
       "      <td>15</td>\n",
       "      <td>26</td>\n",
       "    </tr>\n",
       "    <tr>\n",
       "      <th>Bahamas (BAH)</th>\n",
       "      <td>15</td>\n",
       "      <td>5</td>\n",
       "      <td>2</td>\n",
       "      <td>5</td>\n",
       "      <td>12</td>\n",
       "      <td>0</td>\n",
       "      <td>0</td>\n",
       "      <td>0</td>\n",
       "      <td>0</td>\n",
       "      <td>0</td>\n",
       "      <td>15</td>\n",
       "      <td>5</td>\n",
       "      <td>2</td>\n",
       "      <td>5</td>\n",
       "      <td>12</td>\n",
       "    </tr>\n",
       "    <tr>\n",
       "      <th>Belarus (BLR)</th>\n",
       "      <td>5</td>\n",
       "      <td>12</td>\n",
       "      <td>24</td>\n",
       "      <td>39</td>\n",
       "      <td>75</td>\n",
       "      <td>6</td>\n",
       "      <td>6</td>\n",
       "      <td>4</td>\n",
       "      <td>5</td>\n",
       "      <td>15</td>\n",
       "      <td>11</td>\n",
       "      <td>18</td>\n",
       "      <td>28</td>\n",
       "      <td>44</td>\n",
       "      <td>90</td>\n",
       "    </tr>\n",
       "    <tr>\n",
       "      <th>Belgium (BEL)</th>\n",
       "      <td>25</td>\n",
       "      <td>37</td>\n",
       "      <td>52</td>\n",
       "      <td>53</td>\n",
       "      <td>142</td>\n",
       "      <td>20</td>\n",
       "      <td>1</td>\n",
       "      <td>1</td>\n",
       "      <td>3</td>\n",
       "      <td>5</td>\n",
       "      <td>45</td>\n",
       "      <td>38</td>\n",
       "      <td>53</td>\n",
       "      <td>56</td>\n",
       "      <td>147</td>\n",
       "    </tr>\n",
       "  </tbody>\n",
       "</table>\n",
       "</div>"
      ],
      "text/plain": [
       "                           for Summer  Gold  Silver  Bronze  Total  \\\n",
       "Algeria (ALG)                      12     5       2       8     15   \n",
       "Argentina (ARG)                    23    18      24      28     70   \n",
       "Armenia (ARM)                       5     1       2       9     12   \n",
       "Australasia (ANZ) [ANZ]             2     3       4       5     12   \n",
       "Australia (AUS) [AUS] [Z]          25   139     152     177    468   \n",
       "Austria (AUT)                      26    18      33      35     86   \n",
       "Azerbaijan (AZE)                    5     6       5      15     26   \n",
       "Bahamas (BAH)                      15     5       2       5     12   \n",
       "Belarus (BLR)                       5    12      24      39     75   \n",
       "Belgium (BEL)                      25    37      52      53    142   \n",
       "\n",
       "                           for Winter  Gold.1  Silver.1  Bronze.1  Total.1  \\\n",
       "Algeria (ALG)                       3       0         0         0        0   \n",
       "Argentina (ARG)                    18       0         0         0        0   \n",
       "Armenia (ARM)                       6       0         0         0        0   \n",
       "Australasia (ANZ) [ANZ]             0       0         0         0        0   \n",
       "Australia (AUS) [AUS] [Z]          18       5         3         4       12   \n",
       "Austria (AUT)                      22      59        78        81      218   \n",
       "Azerbaijan (AZE)                    5       0         0         0        0   \n",
       "Bahamas (BAH)                       0       0         0         0        0   \n",
       "Belarus (BLR)                       6       6         4         5       15   \n",
       "Belgium (BEL)                      20       1         1         3        5   \n",
       "\n",
       "                           for Games  Gold.2  Silver.2  Bronze.2  \\\n",
       "Algeria (ALG)                     15       5         2         8   \n",
       "Argentina (ARG)                   41      18        24        28   \n",
       "Armenia (ARM)                     11       1         2         9   \n",
       "Australasia (ANZ) [ANZ]            2       3         4         5   \n",
       "Australia (AUS) [AUS] [Z]         43     144       155       181   \n",
       "Austria (AUT)                     48      77       111       116   \n",
       "Azerbaijan (AZE)                  10       6         5        15   \n",
       "Bahamas (BAH)                     15       5         2         5   \n",
       "Belarus (BLR)                     11      18        28        44   \n",
       "Belgium (BEL)                     45      38        53        56   \n",
       "\n",
       "                           Combined total  \n",
       "Algeria (ALG)                          15  \n",
       "Argentina (ARG)                        70  \n",
       "Armenia (ARM)                          12  \n",
       "Australasia (ANZ) [ANZ]                12  \n",
       "Australia (AUS) [AUS] [Z]             480  \n",
       "Austria (AUT)                         304  \n",
       "Azerbaijan (AZE)                       26  \n",
       "Bahamas (BAH)                          12  \n",
       "Belarus (BLR)                          90  \n",
       "Belgium (BEL)                         147  "
      ]
     },
     "execution_count": 156,
     "metadata": {},
     "output_type": "execute_result"
    }
   ],
   "source": [
    "only_Gold = df[df['Gold'] > 0] # automatically filter out misssing values\n",
    "only_Gold.head(10)"
   ]
  },
  {
   "cell_type": "markdown",
   "id": "a4085e1b",
   "metadata": {},
   "source": [
    "How many Teams won at least One Gold medal in the summer Olympics"
   ]
  },
  {
   "cell_type": "code",
   "execution_count": 157,
   "id": "004877f0",
   "metadata": {},
   "outputs": [
    {
     "data": {
      "text/plain": [
       "100"
      ]
     },
     "execution_count": 157,
     "metadata": {},
     "output_type": "execute_result"
    }
   ],
   "source": [
    "only_Gold['Gold'].count()"
   ]
  },
  {
   "cell_type": "code",
   "execution_count": 158,
   "id": "484b8e1e",
   "metadata": {},
   "outputs": [
    {
     "data": {
      "text/plain": [
       "147"
      ]
     },
     "execution_count": 158,
     "metadata": {},
     "output_type": "execute_result"
    }
   ],
   "source": [
    "df['Gold'].count()"
   ]
  },
  {
   "cell_type": "markdown",
   "id": "c2cbc57b",
   "metadata": {},
   "source": [
    "Teams that won at least 1 Gold in summer AND(&) winter"
   ]
  },
  {
   "cell_type": "code",
   "execution_count": 159,
   "id": "16ed5af9",
   "metadata": {},
   "outputs": [
    {
     "data": {
      "text/html": [
       "<div>\n",
       "<style scoped>\n",
       "    .dataframe tbody tr th:only-of-type {\n",
       "        vertical-align: middle;\n",
       "    }\n",
       "\n",
       "    .dataframe tbody tr th {\n",
       "        vertical-align: top;\n",
       "    }\n",
       "\n",
       "    .dataframe thead th {\n",
       "        text-align: right;\n",
       "    }\n",
       "</style>\n",
       "<table border=\"1\" class=\"dataframe\">\n",
       "  <thead>\n",
       "    <tr style=\"text-align: right;\">\n",
       "      <th></th>\n",
       "      <th>for Summer</th>\n",
       "      <th>Gold</th>\n",
       "      <th>Silver</th>\n",
       "      <th>Bronze</th>\n",
       "      <th>Total</th>\n",
       "      <th>for Winter</th>\n",
       "      <th>Gold.1</th>\n",
       "      <th>Silver.1</th>\n",
       "      <th>Bronze.1</th>\n",
       "      <th>Total.1</th>\n",
       "      <th>for Games</th>\n",
       "      <th>Gold.2</th>\n",
       "      <th>Silver.2</th>\n",
       "      <th>Bronze.2</th>\n",
       "      <th>Combined total</th>\n",
       "    </tr>\n",
       "  </thead>\n",
       "  <tbody>\n",
       "    <tr>\n",
       "      <th>Algeria (ALG)</th>\n",
       "      <td>12</td>\n",
       "      <td>5</td>\n",
       "      <td>2</td>\n",
       "      <td>8</td>\n",
       "      <td>15</td>\n",
       "      <td>3</td>\n",
       "      <td>0</td>\n",
       "      <td>0</td>\n",
       "      <td>0</td>\n",
       "      <td>0</td>\n",
       "      <td>15</td>\n",
       "      <td>5</td>\n",
       "      <td>2</td>\n",
       "      <td>8</td>\n",
       "      <td>15</td>\n",
       "    </tr>\n",
       "    <tr>\n",
       "      <th>Argentina (ARG)</th>\n",
       "      <td>23</td>\n",
       "      <td>18</td>\n",
       "      <td>24</td>\n",
       "      <td>28</td>\n",
       "      <td>70</td>\n",
       "      <td>18</td>\n",
       "      <td>0</td>\n",
       "      <td>0</td>\n",
       "      <td>0</td>\n",
       "      <td>0</td>\n",
       "      <td>41</td>\n",
       "      <td>18</td>\n",
       "      <td>24</td>\n",
       "      <td>28</td>\n",
       "      <td>70</td>\n",
       "    </tr>\n",
       "    <tr>\n",
       "      <th>Armenia (ARM)</th>\n",
       "      <td>5</td>\n",
       "      <td>1</td>\n",
       "      <td>2</td>\n",
       "      <td>9</td>\n",
       "      <td>12</td>\n",
       "      <td>6</td>\n",
       "      <td>0</td>\n",
       "      <td>0</td>\n",
       "      <td>0</td>\n",
       "      <td>0</td>\n",
       "      <td>11</td>\n",
       "      <td>1</td>\n",
       "      <td>2</td>\n",
       "      <td>9</td>\n",
       "      <td>12</td>\n",
       "    </tr>\n",
       "    <tr>\n",
       "      <th>Australasia (ANZ) [ANZ]</th>\n",
       "      <td>2</td>\n",
       "      <td>3</td>\n",
       "      <td>4</td>\n",
       "      <td>5</td>\n",
       "      <td>12</td>\n",
       "      <td>0</td>\n",
       "      <td>0</td>\n",
       "      <td>0</td>\n",
       "      <td>0</td>\n",
       "      <td>0</td>\n",
       "      <td>2</td>\n",
       "      <td>3</td>\n",
       "      <td>4</td>\n",
       "      <td>5</td>\n",
       "      <td>12</td>\n",
       "    </tr>\n",
       "    <tr>\n",
       "      <th>Australia (AUS) [AUS] [Z]</th>\n",
       "      <td>25</td>\n",
       "      <td>139</td>\n",
       "      <td>152</td>\n",
       "      <td>177</td>\n",
       "      <td>468</td>\n",
       "      <td>18</td>\n",
       "      <td>5</td>\n",
       "      <td>3</td>\n",
       "      <td>4</td>\n",
       "      <td>12</td>\n",
       "      <td>43</td>\n",
       "      <td>144</td>\n",
       "      <td>155</td>\n",
       "      <td>181</td>\n",
       "      <td>480</td>\n",
       "    </tr>\n",
       "  </tbody>\n",
       "</table>\n",
       "</div>"
      ],
      "text/plain": [
       "                           for Summer  Gold  Silver  Bronze  Total  \\\n",
       "Algeria (ALG)                      12     5       2       8     15   \n",
       "Argentina (ARG)                    23    18      24      28     70   \n",
       "Armenia (ARM)                       5     1       2       9     12   \n",
       "Australasia (ANZ) [ANZ]             2     3       4       5     12   \n",
       "Australia (AUS) [AUS] [Z]          25   139     152     177    468   \n",
       "\n",
       "                           for Winter  Gold.1  Silver.1  Bronze.1  Total.1  \\\n",
       "Algeria (ALG)                       3       0         0         0        0   \n",
       "Argentina (ARG)                    18       0         0         0        0   \n",
       "Armenia (ARM)                       6       0         0         0        0   \n",
       "Australasia (ANZ) [ANZ]             0       0         0         0        0   \n",
       "Australia (AUS) [AUS] [Z]          18       5         3         4       12   \n",
       "\n",
       "                           for Games  Gold.2  Silver.2  Bronze.2  \\\n",
       "Algeria (ALG)                     15       5         2         8   \n",
       "Argentina (ARG)                   41      18        24        28   \n",
       "Armenia (ARM)                     11       1         2         9   \n",
       "Australasia (ANZ) [ANZ]            2       3         4         5   \n",
       "Australia (AUS) [AUS] [Z]         43     144       155       181   \n",
       "\n",
       "                           Combined total  \n",
       "Algeria (ALG)                          15  \n",
       "Argentina (ARG)                        70  \n",
       "Armenia (ARM)                          12  \n",
       "Australasia (ANZ) [ANZ]                12  \n",
       "Australia (AUS) [AUS] [Z]             480  "
      ]
     },
     "execution_count": 159,
     "metadata": {},
     "output_type": "execute_result"
    }
   ],
   "source": [
    "only_Gold_SW = df[(df['Gold']) > 0 & (df['Gold.1'] > 0)]\n",
    "only_Gold_SW.head()"
   ]
  },
  {
   "cell_type": "code",
   "execution_count": 160,
   "id": "34e2edd3",
   "metadata": {},
   "outputs": [
    {
     "data": {
      "text/plain": [
       "37"
      ]
     },
     "execution_count": 160,
     "metadata": {},
     "output_type": "execute_result"
    }
   ],
   "source": [
    "len(df[(df['Gold'] > 0) & (df['Gold.1'] > 0)])"
   ]
  },
  {
   "cell_type": "markdown",
   "id": "67b73ee9",
   "metadata": {},
   "source": [
    "Teams that won at least 1 Gold in summer OR( | ) winter"
   ]
  },
  {
   "cell_type": "code",
   "execution_count": 161,
   "id": "d36c1fa6",
   "metadata": {},
   "outputs": [
    {
     "data": {
      "text/html": [
       "<div>\n",
       "<style scoped>\n",
       "    .dataframe tbody tr th:only-of-type {\n",
       "        vertical-align: middle;\n",
       "    }\n",
       "\n",
       "    .dataframe tbody tr th {\n",
       "        vertical-align: top;\n",
       "    }\n",
       "\n",
       "    .dataframe thead th {\n",
       "        text-align: right;\n",
       "    }\n",
       "</style>\n",
       "<table border=\"1\" class=\"dataframe\">\n",
       "  <thead>\n",
       "    <tr style=\"text-align: right;\">\n",
       "      <th></th>\n",
       "      <th>for Summer</th>\n",
       "      <th>Gold</th>\n",
       "      <th>Silver</th>\n",
       "      <th>Bronze</th>\n",
       "      <th>Total</th>\n",
       "      <th>for Winter</th>\n",
       "      <th>Gold.1</th>\n",
       "      <th>Silver.1</th>\n",
       "      <th>Bronze.1</th>\n",
       "      <th>Total.1</th>\n",
       "      <th>for Games</th>\n",
       "      <th>Gold.2</th>\n",
       "      <th>Silver.2</th>\n",
       "      <th>Bronze.2</th>\n",
       "      <th>Combined total</th>\n",
       "    </tr>\n",
       "  </thead>\n",
       "  <tbody>\n",
       "    <tr>\n",
       "      <th>Algeria (ALG)</th>\n",
       "      <td>12</td>\n",
       "      <td>5</td>\n",
       "      <td>2</td>\n",
       "      <td>8</td>\n",
       "      <td>15</td>\n",
       "      <td>3</td>\n",
       "      <td>0</td>\n",
       "      <td>0</td>\n",
       "      <td>0</td>\n",
       "      <td>0</td>\n",
       "      <td>15</td>\n",
       "      <td>5</td>\n",
       "      <td>2</td>\n",
       "      <td>8</td>\n",
       "      <td>15</td>\n",
       "    </tr>\n",
       "    <tr>\n",
       "      <th>Argentina (ARG)</th>\n",
       "      <td>23</td>\n",
       "      <td>18</td>\n",
       "      <td>24</td>\n",
       "      <td>28</td>\n",
       "      <td>70</td>\n",
       "      <td>18</td>\n",
       "      <td>0</td>\n",
       "      <td>0</td>\n",
       "      <td>0</td>\n",
       "      <td>0</td>\n",
       "      <td>41</td>\n",
       "      <td>18</td>\n",
       "      <td>24</td>\n",
       "      <td>28</td>\n",
       "      <td>70</td>\n",
       "    </tr>\n",
       "    <tr>\n",
       "      <th>Armenia (ARM)</th>\n",
       "      <td>5</td>\n",
       "      <td>1</td>\n",
       "      <td>2</td>\n",
       "      <td>9</td>\n",
       "      <td>12</td>\n",
       "      <td>6</td>\n",
       "      <td>0</td>\n",
       "      <td>0</td>\n",
       "      <td>0</td>\n",
       "      <td>0</td>\n",
       "      <td>11</td>\n",
       "      <td>1</td>\n",
       "      <td>2</td>\n",
       "      <td>9</td>\n",
       "      <td>12</td>\n",
       "    </tr>\n",
       "    <tr>\n",
       "      <th>Australasia (ANZ) [ANZ]</th>\n",
       "      <td>2</td>\n",
       "      <td>3</td>\n",
       "      <td>4</td>\n",
       "      <td>5</td>\n",
       "      <td>12</td>\n",
       "      <td>0</td>\n",
       "      <td>0</td>\n",
       "      <td>0</td>\n",
       "      <td>0</td>\n",
       "      <td>0</td>\n",
       "      <td>2</td>\n",
       "      <td>3</td>\n",
       "      <td>4</td>\n",
       "      <td>5</td>\n",
       "      <td>12</td>\n",
       "    </tr>\n",
       "    <tr>\n",
       "      <th>Australia (AUS) [AUS] [Z]</th>\n",
       "      <td>25</td>\n",
       "      <td>139</td>\n",
       "      <td>152</td>\n",
       "      <td>177</td>\n",
       "      <td>468</td>\n",
       "      <td>18</td>\n",
       "      <td>5</td>\n",
       "      <td>3</td>\n",
       "      <td>4</td>\n",
       "      <td>12</td>\n",
       "      <td>43</td>\n",
       "      <td>144</td>\n",
       "      <td>155</td>\n",
       "      <td>181</td>\n",
       "      <td>480</td>\n",
       "    </tr>\n",
       "  </tbody>\n",
       "</table>\n",
       "</div>"
      ],
      "text/plain": [
       "                           for Summer  Gold  Silver  Bronze  Total  \\\n",
       "Algeria (ALG)                      12     5       2       8     15   \n",
       "Argentina (ARG)                    23    18      24      28     70   \n",
       "Armenia (ARM)                       5     1       2       9     12   \n",
       "Australasia (ANZ) [ANZ]             2     3       4       5     12   \n",
       "Australia (AUS) [AUS] [Z]          25   139     152     177    468   \n",
       "\n",
       "                           for Winter  Gold.1  Silver.1  Bronze.1  Total.1  \\\n",
       "Algeria (ALG)                       3       0         0         0        0   \n",
       "Argentina (ARG)                    18       0         0         0        0   \n",
       "Armenia (ARM)                       6       0         0         0        0   \n",
       "Australasia (ANZ) [ANZ]             0       0         0         0        0   \n",
       "Australia (AUS) [AUS] [Z]          18       5         3         4       12   \n",
       "\n",
       "                           for Games  Gold.2  Silver.2  Bronze.2  \\\n",
       "Algeria (ALG)                     15       5         2         8   \n",
       "Argentina (ARG)                   41      18        24        28   \n",
       "Armenia (ARM)                     11       1         2         9   \n",
       "Australasia (ANZ) [ANZ]            2       3         4         5   \n",
       "Australia (AUS) [AUS] [Z]         43     144       155       181   \n",
       "\n",
       "                           Combined total  \n",
       "Algeria (ALG)                          15  \n",
       "Argentina (ARG)                        70  \n",
       "Armenia (ARM)                          12  \n",
       "Australasia (ANZ) [ANZ]                12  \n",
       "Australia (AUS) [AUS] [Z]             480  "
      ]
     },
     "execution_count": 161,
     "metadata": {},
     "output_type": "execute_result"
    }
   ],
   "source": [
    "only_Gold_SW = df[(df['Gold'] > 0) | (df['Gold.1'] > 0)]\n",
    "only_Gold_SW.head()"
   ]
  },
  {
   "cell_type": "code",
   "execution_count": null,
   "id": "e5dbc942",
   "metadata": {},
   "outputs": [],
   "source": []
  },
  {
   "cell_type": "markdown",
   "id": "0c5b37d2",
   "metadata": {},
   "source": [
    "# Checking for MISSING Values\n",
    "\n",
    "  1. Look for the Main dataset online\n",
    "  2. Dropping the missing values by rows or colums\n",
    "  3. Filling the missing values with mean, median, mode"
   ]
  },
  {
   "cell_type": "code",
   "execution_count": 162,
   "id": "71474262",
   "metadata": {},
   "outputs": [
    {
     "data": {
      "text/html": [
       "<div>\n",
       "<style scoped>\n",
       "    .dataframe tbody tr th:only-of-type {\n",
       "        vertical-align: middle;\n",
       "    }\n",
       "\n",
       "    .dataframe tbody tr th {\n",
       "        vertical-align: top;\n",
       "    }\n",
       "\n",
       "    .dataframe thead th {\n",
       "        text-align: right;\n",
       "    }\n",
       "</style>\n",
       "<table border=\"1\" class=\"dataframe\">\n",
       "  <thead>\n",
       "    <tr style=\"text-align: right;\">\n",
       "      <th></th>\n",
       "      <th>for Summer</th>\n",
       "      <th>Gold</th>\n",
       "      <th>Silver</th>\n",
       "      <th>Bronze</th>\n",
       "      <th>Total</th>\n",
       "      <th>for Winter</th>\n",
       "      <th>Gold.1</th>\n",
       "      <th>Silver.1</th>\n",
       "      <th>Bronze.1</th>\n",
       "      <th>Total.1</th>\n",
       "      <th>for Games</th>\n",
       "      <th>Gold.2</th>\n",
       "      <th>Silver.2</th>\n",
       "      <th>Bronze.2</th>\n",
       "      <th>Combined total</th>\n",
       "    </tr>\n",
       "  </thead>\n",
       "  <tbody>\n",
       "    <tr>\n",
       "      <th>Afghanistan (AFG)</th>\n",
       "      <td>NaN</td>\n",
       "      <td>NaN</td>\n",
       "      <td>NaN</td>\n",
       "      <td>NaN</td>\n",
       "      <td>NaN</td>\n",
       "      <td>NaN</td>\n",
       "      <td>NaN</td>\n",
       "      <td>NaN</td>\n",
       "      <td>NaN</td>\n",
       "      <td>NaN</td>\n",
       "      <td>NaN</td>\n",
       "      <td>NaN</td>\n",
       "      <td>NaN</td>\n",
       "      <td>NaN</td>\n",
       "      <td>NaN</td>\n",
       "    </tr>\n",
       "    <tr>\n",
       "      <th>Algeria (ALG)</th>\n",
       "      <td>12.0</td>\n",
       "      <td>5.0</td>\n",
       "      <td>2.0</td>\n",
       "      <td>8.0</td>\n",
       "      <td>15.0</td>\n",
       "      <td>3.0</td>\n",
       "      <td>0.0</td>\n",
       "      <td>0.0</td>\n",
       "      <td>0.0</td>\n",
       "      <td>0.0</td>\n",
       "      <td>15.0</td>\n",
       "      <td>5.0</td>\n",
       "      <td>2.0</td>\n",
       "      <td>8.0</td>\n",
       "      <td>15.0</td>\n",
       "    </tr>\n",
       "    <tr>\n",
       "      <th>Argentina (ARG)</th>\n",
       "      <td>23.0</td>\n",
       "      <td>18.0</td>\n",
       "      <td>24.0</td>\n",
       "      <td>28.0</td>\n",
       "      <td>70.0</td>\n",
       "      <td>18.0</td>\n",
       "      <td>0.0</td>\n",
       "      <td>0.0</td>\n",
       "      <td>0.0</td>\n",
       "      <td>0.0</td>\n",
       "      <td>41.0</td>\n",
       "      <td>18.0</td>\n",
       "      <td>24.0</td>\n",
       "      <td>28.0</td>\n",
       "      <td>70.0</td>\n",
       "    </tr>\n",
       "    <tr>\n",
       "      <th>Armenia (ARM)</th>\n",
       "      <td>5.0</td>\n",
       "      <td>1.0</td>\n",
       "      <td>2.0</td>\n",
       "      <td>9.0</td>\n",
       "      <td>12.0</td>\n",
       "      <td>6.0</td>\n",
       "      <td>0.0</td>\n",
       "      <td>0.0</td>\n",
       "      <td>0.0</td>\n",
       "      <td>0.0</td>\n",
       "      <td>11.0</td>\n",
       "      <td>1.0</td>\n",
       "      <td>2.0</td>\n",
       "      <td>9.0</td>\n",
       "      <td>12.0</td>\n",
       "    </tr>\n",
       "    <tr>\n",
       "      <th>Australasia (ANZ) [ANZ]</th>\n",
       "      <td>2.0</td>\n",
       "      <td>3.0</td>\n",
       "      <td>4.0</td>\n",
       "      <td>5.0</td>\n",
       "      <td>12.0</td>\n",
       "      <td>0.0</td>\n",
       "      <td>0.0</td>\n",
       "      <td>0.0</td>\n",
       "      <td>0.0</td>\n",
       "      <td>0.0</td>\n",
       "      <td>2.0</td>\n",
       "      <td>3.0</td>\n",
       "      <td>4.0</td>\n",
       "      <td>5.0</td>\n",
       "      <td>12.0</td>\n",
       "    </tr>\n",
       "  </tbody>\n",
       "</table>\n",
       "</div>"
      ],
      "text/plain": [
       "                         for Summer  Gold  Silver  Bronze  Total  for Winter  \\\n",
       "Afghanistan (AFG)               NaN   NaN     NaN     NaN    NaN         NaN   \n",
       "Algeria (ALG)                  12.0   5.0     2.0     8.0   15.0         3.0   \n",
       "Argentina (ARG)                23.0  18.0    24.0    28.0   70.0        18.0   \n",
       "Armenia (ARM)                   5.0   1.0     2.0     9.0   12.0         6.0   \n",
       "Australasia (ANZ) [ANZ]         2.0   3.0     4.0     5.0   12.0         0.0   \n",
       "\n",
       "                         Gold.1  Silver.1  Bronze.1  Total.1  for Games  \\\n",
       "Afghanistan (AFG)           NaN       NaN       NaN      NaN        NaN   \n",
       "Algeria (ALG)               0.0       0.0       0.0      0.0       15.0   \n",
       "Argentina (ARG)             0.0       0.0       0.0      0.0       41.0   \n",
       "Armenia (ARM)               0.0       0.0       0.0      0.0       11.0   \n",
       "Australasia (ANZ) [ANZ]     0.0       0.0       0.0      0.0        2.0   \n",
       "\n",
       "                         Gold.2  Silver.2  Bronze.2  Combined total  \n",
       "Afghanistan (AFG)           NaN       NaN       NaN             NaN  \n",
       "Algeria (ALG)               5.0       2.0       8.0            15.0  \n",
       "Argentina (ARG)            18.0      24.0      28.0            70.0  \n",
       "Armenia (ARM)               1.0       2.0       9.0            12.0  \n",
       "Australasia (ANZ) [ANZ]     3.0       4.0       5.0            12.0  "
      ]
     },
     "execution_count": 162,
     "metadata": {},
     "output_type": "execute_result"
    }
   ],
   "source": [
    "# querry out where gold > 0; gold won in the summer olympics only\n",
    "n_gold = df.where(df['Gold'] > 0)\n",
    "n_gold.head()"
   ]
  },
  {
   "cell_type": "markdown",
   "id": "799d8e2f",
   "metadata": {},
   "source": [
    "After loading the dataSet and checking for the statistical summary\n",
    "\n",
    "the next thing to do is to check if the dataset contains any missing values{NaN}"
   ]
  },
  {
   "cell_type": "code",
   "execution_count": 163,
   "id": "633a4eb5",
   "metadata": {},
   "outputs": [
    {
     "data": {
      "text/plain": [
       "True"
      ]
     },
     "execution_count": 163,
     "metadata": {},
     "output_type": "execute_result"
    }
   ],
   "source": [
    "n_gold.isnull().values.any()"
   ]
  },
  {
   "cell_type": "code",
   "execution_count": 164,
   "id": "f301397e",
   "metadata": {},
   "outputs": [
    {
     "data": {
      "text/plain": [
       "False"
      ]
     },
     "execution_count": 164,
     "metadata": {},
     "output_type": "execute_result"
    }
   ],
   "source": [
    "only_Gold.isnull().values.any()"
   ]
  },
  {
   "cell_type": "code",
   "execution_count": 165,
   "id": "649dee0b",
   "metadata": {},
   "outputs": [
    {
     "data": {
      "text/plain": [
       "for Summer        47\n",
       "Gold              47\n",
       "Silver            47\n",
       "Bronze            47\n",
       "Total             47\n",
       "for Winter        47\n",
       "Gold.1            47\n",
       "Silver.1          47\n",
       "Bronze.1          47\n",
       "Total.1           47\n",
       "for Games         47\n",
       "Gold.2            47\n",
       "Silver.2          47\n",
       "Bronze.2          47\n",
       "Combined total    47\n",
       "dtype: int64"
      ]
     },
     "execution_count": 165,
     "metadata": {},
     "output_type": "execute_result"
    }
   ],
   "source": [
    "# print out all the columns with its corresponding number of missing value\n",
    "n_gold.isnull().sum()"
   ]
  },
  {
   "cell_type": "markdown",
   "id": "440e6aba",
   "metadata": {},
   "source": [
    "Dropping Missing Values using .dropna"
   ]
  },
  {
   "cell_type": "code",
   "execution_count": 166,
   "id": "16568ef5",
   "metadata": {},
   "outputs": [
    {
     "data": {
      "text/html": [
       "<div>\n",
       "<style scoped>\n",
       "    .dataframe tbody tr th:only-of-type {\n",
       "        vertical-align: middle;\n",
       "    }\n",
       "\n",
       "    .dataframe tbody tr th {\n",
       "        vertical-align: top;\n",
       "    }\n",
       "\n",
       "    .dataframe thead th {\n",
       "        text-align: right;\n",
       "    }\n",
       "</style>\n",
       "<table border=\"1\" class=\"dataframe\">\n",
       "  <thead>\n",
       "    <tr style=\"text-align: right;\">\n",
       "      <th></th>\n",
       "      <th>for Summer</th>\n",
       "      <th>Gold</th>\n",
       "      <th>Silver</th>\n",
       "      <th>Bronze</th>\n",
       "      <th>Total</th>\n",
       "      <th>for Winter</th>\n",
       "      <th>Gold.1</th>\n",
       "      <th>Silver.1</th>\n",
       "      <th>Bronze.1</th>\n",
       "      <th>Total.1</th>\n",
       "      <th>for Games</th>\n",
       "      <th>Gold.2</th>\n",
       "      <th>Silver.2</th>\n",
       "      <th>Bronze.2</th>\n",
       "      <th>Combined total</th>\n",
       "    </tr>\n",
       "  </thead>\n",
       "  <tbody>\n",
       "    <tr>\n",
       "      <th>Algeria (ALG)</th>\n",
       "      <td>12.0</td>\n",
       "      <td>5.0</td>\n",
       "      <td>2.0</td>\n",
       "      <td>8.0</td>\n",
       "      <td>15.0</td>\n",
       "      <td>3.0</td>\n",
       "      <td>0.0</td>\n",
       "      <td>0.0</td>\n",
       "      <td>0.0</td>\n",
       "      <td>0.0</td>\n",
       "      <td>15.0</td>\n",
       "      <td>5.0</td>\n",
       "      <td>2.0</td>\n",
       "      <td>8.0</td>\n",
       "      <td>15.0</td>\n",
       "    </tr>\n",
       "    <tr>\n",
       "      <th>Argentina (ARG)</th>\n",
       "      <td>23.0</td>\n",
       "      <td>18.0</td>\n",
       "      <td>24.0</td>\n",
       "      <td>28.0</td>\n",
       "      <td>70.0</td>\n",
       "      <td>18.0</td>\n",
       "      <td>0.0</td>\n",
       "      <td>0.0</td>\n",
       "      <td>0.0</td>\n",
       "      <td>0.0</td>\n",
       "      <td>41.0</td>\n",
       "      <td>18.0</td>\n",
       "      <td>24.0</td>\n",
       "      <td>28.0</td>\n",
       "      <td>70.0</td>\n",
       "    </tr>\n",
       "    <tr>\n",
       "      <th>Armenia (ARM)</th>\n",
       "      <td>5.0</td>\n",
       "      <td>1.0</td>\n",
       "      <td>2.0</td>\n",
       "      <td>9.0</td>\n",
       "      <td>12.0</td>\n",
       "      <td>6.0</td>\n",
       "      <td>0.0</td>\n",
       "      <td>0.0</td>\n",
       "      <td>0.0</td>\n",
       "      <td>0.0</td>\n",
       "      <td>11.0</td>\n",
       "      <td>1.0</td>\n",
       "      <td>2.0</td>\n",
       "      <td>9.0</td>\n",
       "      <td>12.0</td>\n",
       "    </tr>\n",
       "    <tr>\n",
       "      <th>Australasia (ANZ) [ANZ]</th>\n",
       "      <td>2.0</td>\n",
       "      <td>3.0</td>\n",
       "      <td>4.0</td>\n",
       "      <td>5.0</td>\n",
       "      <td>12.0</td>\n",
       "      <td>0.0</td>\n",
       "      <td>0.0</td>\n",
       "      <td>0.0</td>\n",
       "      <td>0.0</td>\n",
       "      <td>0.0</td>\n",
       "      <td>2.0</td>\n",
       "      <td>3.0</td>\n",
       "      <td>4.0</td>\n",
       "      <td>5.0</td>\n",
       "      <td>12.0</td>\n",
       "    </tr>\n",
       "    <tr>\n",
       "      <th>Australia (AUS) [AUS] [Z]</th>\n",
       "      <td>25.0</td>\n",
       "      <td>139.0</td>\n",
       "      <td>152.0</td>\n",
       "      <td>177.0</td>\n",
       "      <td>468.0</td>\n",
       "      <td>18.0</td>\n",
       "      <td>5.0</td>\n",
       "      <td>3.0</td>\n",
       "      <td>4.0</td>\n",
       "      <td>12.0</td>\n",
       "      <td>43.0</td>\n",
       "      <td>144.0</td>\n",
       "      <td>155.0</td>\n",
       "      <td>181.0</td>\n",
       "      <td>480.0</td>\n",
       "    </tr>\n",
       "    <tr>\n",
       "      <th>...</th>\n",
       "      <td>...</td>\n",
       "      <td>...</td>\n",
       "      <td>...</td>\n",
       "      <td>...</td>\n",
       "      <td>...</td>\n",
       "      <td>...</td>\n",
       "      <td>...</td>\n",
       "      <td>...</td>\n",
       "      <td>...</td>\n",
       "      <td>...</td>\n",
       "      <td>...</td>\n",
       "      <td>...</td>\n",
       "      <td>...</td>\n",
       "      <td>...</td>\n",
       "      <td>...</td>\n",
       "    </tr>\n",
       "    <tr>\n",
       "      <th>Venezuela (VEN)</th>\n",
       "      <td>17.0</td>\n",
       "      <td>2.0</td>\n",
       "      <td>2.0</td>\n",
       "      <td>8.0</td>\n",
       "      <td>12.0</td>\n",
       "      <td>4.0</td>\n",
       "      <td>0.0</td>\n",
       "      <td>0.0</td>\n",
       "      <td>0.0</td>\n",
       "      <td>0.0</td>\n",
       "      <td>21.0</td>\n",
       "      <td>2.0</td>\n",
       "      <td>2.0</td>\n",
       "      <td>8.0</td>\n",
       "      <td>12.0</td>\n",
       "    </tr>\n",
       "    <tr>\n",
       "      <th>Yugoslavia (YUG) [YUG]</th>\n",
       "      <td>16.0</td>\n",
       "      <td>26.0</td>\n",
       "      <td>29.0</td>\n",
       "      <td>28.0</td>\n",
       "      <td>83.0</td>\n",
       "      <td>14.0</td>\n",
       "      <td>0.0</td>\n",
       "      <td>3.0</td>\n",
       "      <td>1.0</td>\n",
       "      <td>4.0</td>\n",
       "      <td>30.0</td>\n",
       "      <td>26.0</td>\n",
       "      <td>32.0</td>\n",
       "      <td>29.0</td>\n",
       "      <td>87.0</td>\n",
       "    </tr>\n",
       "    <tr>\n",
       "      <th>Zimbabwe (ZIM) [ZIM]</th>\n",
       "      <td>12.0</td>\n",
       "      <td>3.0</td>\n",
       "      <td>4.0</td>\n",
       "      <td>1.0</td>\n",
       "      <td>8.0</td>\n",
       "      <td>1.0</td>\n",
       "      <td>0.0</td>\n",
       "      <td>0.0</td>\n",
       "      <td>0.0</td>\n",
       "      <td>0.0</td>\n",
       "      <td>13.0</td>\n",
       "      <td>3.0</td>\n",
       "      <td>4.0</td>\n",
       "      <td>1.0</td>\n",
       "      <td>8.0</td>\n",
       "    </tr>\n",
       "    <tr>\n",
       "      <th>Mixed team (ZZX) [ZZX]</th>\n",
       "      <td>3.0</td>\n",
       "      <td>8.0</td>\n",
       "      <td>5.0</td>\n",
       "      <td>4.0</td>\n",
       "      <td>17.0</td>\n",
       "      <td>0.0</td>\n",
       "      <td>0.0</td>\n",
       "      <td>0.0</td>\n",
       "      <td>0.0</td>\n",
       "      <td>0.0</td>\n",
       "      <td>3.0</td>\n",
       "      <td>8.0</td>\n",
       "      <td>5.0</td>\n",
       "      <td>4.0</td>\n",
       "      <td>17.0</td>\n",
       "    </tr>\n",
       "    <tr>\n",
       "      <th>Totals</th>\n",
       "      <td>27.0</td>\n",
       "      <td>4809.0</td>\n",
       "      <td>4775.0</td>\n",
       "      <td>5130.0</td>\n",
       "      <td>14714.0</td>\n",
       "      <td>22.0</td>\n",
       "      <td>959.0</td>\n",
       "      <td>958.0</td>\n",
       "      <td>948.0</td>\n",
       "      <td>2865.0</td>\n",
       "      <td>49.0</td>\n",
       "      <td>5768.0</td>\n",
       "      <td>5733.0</td>\n",
       "      <td>6078.0</td>\n",
       "      <td>17579.0</td>\n",
       "    </tr>\n",
       "  </tbody>\n",
       "</table>\n",
       "<p>100 rows × 15 columns</p>\n",
       "</div>"
      ],
      "text/plain": [
       "                           for Summer    Gold  Silver  Bronze    Total  \\\n",
       "Algeria (ALG)                    12.0     5.0     2.0     8.0     15.0   \n",
       "Argentina (ARG)                  23.0    18.0    24.0    28.0     70.0   \n",
       "Armenia (ARM)                     5.0     1.0     2.0     9.0     12.0   \n",
       "Australasia (ANZ) [ANZ]           2.0     3.0     4.0     5.0     12.0   \n",
       "Australia (AUS) [AUS] [Z]        25.0   139.0   152.0   177.0    468.0   \n",
       "...                               ...     ...     ...     ...      ...   \n",
       "Venezuela (VEN)                  17.0     2.0     2.0     8.0     12.0   \n",
       "Yugoslavia (YUG) [YUG]           16.0    26.0    29.0    28.0     83.0   \n",
       "Zimbabwe (ZIM) [ZIM]             12.0     3.0     4.0     1.0      8.0   \n",
       "Mixed team (ZZX) [ZZX]            3.0     8.0     5.0     4.0     17.0   \n",
       "Totals                           27.0  4809.0  4775.0  5130.0  14714.0   \n",
       "\n",
       "                           for Winter  Gold.1  Silver.1  Bronze.1  Total.1  \\\n",
       "Algeria (ALG)                     3.0     0.0       0.0       0.0      0.0   \n",
       "Argentina (ARG)                  18.0     0.0       0.0       0.0      0.0   \n",
       "Armenia (ARM)                     6.0     0.0       0.0       0.0      0.0   \n",
       "Australasia (ANZ) [ANZ]           0.0     0.0       0.0       0.0      0.0   \n",
       "Australia (AUS) [AUS] [Z]        18.0     5.0       3.0       4.0     12.0   \n",
       "...                               ...     ...       ...       ...      ...   \n",
       "Venezuela (VEN)                   4.0     0.0       0.0       0.0      0.0   \n",
       "Yugoslavia (YUG) [YUG]           14.0     0.0       3.0       1.0      4.0   \n",
       "Zimbabwe (ZIM) [ZIM]              1.0     0.0       0.0       0.0      0.0   \n",
       "Mixed team (ZZX) [ZZX]            0.0     0.0       0.0       0.0      0.0   \n",
       "Totals                           22.0   959.0     958.0     948.0   2865.0   \n",
       "\n",
       "                           for Games  Gold.2  Silver.2  Bronze.2  \\\n",
       "Algeria (ALG)                   15.0     5.0       2.0       8.0   \n",
       "Argentina (ARG)                 41.0    18.0      24.0      28.0   \n",
       "Armenia (ARM)                   11.0     1.0       2.0       9.0   \n",
       "Australasia (ANZ) [ANZ]          2.0     3.0       4.0       5.0   \n",
       "Australia (AUS) [AUS] [Z]       43.0   144.0     155.0     181.0   \n",
       "...                              ...     ...       ...       ...   \n",
       "Venezuela (VEN)                 21.0     2.0       2.0       8.0   \n",
       "Yugoslavia (YUG) [YUG]          30.0    26.0      32.0      29.0   \n",
       "Zimbabwe (ZIM) [ZIM]            13.0     3.0       4.0       1.0   \n",
       "Mixed team (ZZX) [ZZX]           3.0     8.0       5.0       4.0   \n",
       "Totals                          49.0  5768.0    5733.0    6078.0   \n",
       "\n",
       "                           Combined total  \n",
       "Algeria (ALG)                        15.0  \n",
       "Argentina (ARG)                      70.0  \n",
       "Armenia (ARM)                        12.0  \n",
       "Australasia (ANZ) [ANZ]              12.0  \n",
       "Australia (AUS) [AUS] [Z]           480.0  \n",
       "...                                   ...  \n",
       "Venezuela (VEN)                      12.0  \n",
       "Yugoslavia (YUG) [YUG]               87.0  \n",
       "Zimbabwe (ZIM) [ZIM]                  8.0  \n",
       "Mixed team (ZZX) [ZZX]               17.0  \n",
       "Totals                            17579.0  \n",
       "\n",
       "[100 rows x 15 columns]"
      ]
     },
     "execution_count": 166,
     "metadata": {},
     "output_type": "execute_result"
    }
   ],
   "source": [
    "dropbyRow = n_gold.dropna(axis = 0)  #drop by Row\n",
    "dropbyRow"
   ]
  },
  {
   "cell_type": "code",
   "execution_count": 167,
   "id": "410afb60",
   "metadata": {},
   "outputs": [
    {
     "data": {
      "text/plain": [
       "100"
      ]
     },
     "execution_count": 167,
     "metadata": {},
     "output_type": "execute_result"
    }
   ],
   "source": [
    "len(dropbyRow)"
   ]
  },
  {
   "cell_type": "code",
   "execution_count": 168,
   "id": "114034ea",
   "metadata": {},
   "outputs": [
    {
     "data": {
      "text/html": [
       "<div>\n",
       "<style scoped>\n",
       "    .dataframe tbody tr th:only-of-type {\n",
       "        vertical-align: middle;\n",
       "    }\n",
       "\n",
       "    .dataframe tbody tr th {\n",
       "        vertical-align: top;\n",
       "    }\n",
       "\n",
       "    .dataframe thead th {\n",
       "        text-align: right;\n",
       "    }\n",
       "</style>\n",
       "<table border=\"1\" class=\"dataframe\">\n",
       "  <thead>\n",
       "    <tr style=\"text-align: right;\">\n",
       "      <th></th>\n",
       "      <th>for Summer</th>\n",
       "      <th>Gold</th>\n",
       "      <th>Silver</th>\n",
       "      <th>Bronze</th>\n",
       "      <th>Total</th>\n",
       "      <th>for Winter</th>\n",
       "      <th>Gold.1</th>\n",
       "      <th>Silver.1</th>\n",
       "      <th>Bronze.1</th>\n",
       "      <th>Total.1</th>\n",
       "      <th>for Games</th>\n",
       "      <th>Gold.2</th>\n",
       "      <th>Silver.2</th>\n",
       "      <th>Bronze.2</th>\n",
       "      <th>Combined total</th>\n",
       "    </tr>\n",
       "  </thead>\n",
       "  <tbody>\n",
       "    <tr>\n",
       "      <th>Afghanistan (AFG)</th>\n",
       "      <td>NaN</td>\n",
       "      <td>NaN</td>\n",
       "      <td>NaN</td>\n",
       "      <td>NaN</td>\n",
       "      <td>NaN</td>\n",
       "      <td>NaN</td>\n",
       "      <td>NaN</td>\n",
       "      <td>NaN</td>\n",
       "      <td>NaN</td>\n",
       "      <td>NaN</td>\n",
       "      <td>NaN</td>\n",
       "      <td>NaN</td>\n",
       "      <td>NaN</td>\n",
       "      <td>NaN</td>\n",
       "      <td>NaN</td>\n",
       "    </tr>\n",
       "    <tr>\n",
       "      <th>Algeria (ALG)</th>\n",
       "      <td>12.0</td>\n",
       "      <td>5.0</td>\n",
       "      <td>2.0</td>\n",
       "      <td>8.0</td>\n",
       "      <td>15.0</td>\n",
       "      <td>3.0</td>\n",
       "      <td>0.0</td>\n",
       "      <td>0.0</td>\n",
       "      <td>0.0</td>\n",
       "      <td>0.0</td>\n",
       "      <td>15.0</td>\n",
       "      <td>5.0</td>\n",
       "      <td>2.0</td>\n",
       "      <td>8.0</td>\n",
       "      <td>15.0</td>\n",
       "    </tr>\n",
       "    <tr>\n",
       "      <th>Argentina (ARG)</th>\n",
       "      <td>23.0</td>\n",
       "      <td>18.0</td>\n",
       "      <td>24.0</td>\n",
       "      <td>28.0</td>\n",
       "      <td>70.0</td>\n",
       "      <td>18.0</td>\n",
       "      <td>0.0</td>\n",
       "      <td>0.0</td>\n",
       "      <td>0.0</td>\n",
       "      <td>0.0</td>\n",
       "      <td>41.0</td>\n",
       "      <td>18.0</td>\n",
       "      <td>24.0</td>\n",
       "      <td>28.0</td>\n",
       "      <td>70.0</td>\n",
       "    </tr>\n",
       "    <tr>\n",
       "      <th>Armenia (ARM)</th>\n",
       "      <td>5.0</td>\n",
       "      <td>1.0</td>\n",
       "      <td>2.0</td>\n",
       "      <td>9.0</td>\n",
       "      <td>12.0</td>\n",
       "      <td>6.0</td>\n",
       "      <td>0.0</td>\n",
       "      <td>0.0</td>\n",
       "      <td>0.0</td>\n",
       "      <td>0.0</td>\n",
       "      <td>11.0</td>\n",
       "      <td>1.0</td>\n",
       "      <td>2.0</td>\n",
       "      <td>9.0</td>\n",
       "      <td>12.0</td>\n",
       "    </tr>\n",
       "    <tr>\n",
       "      <th>Australasia (ANZ) [ANZ]</th>\n",
       "      <td>2.0</td>\n",
       "      <td>3.0</td>\n",
       "      <td>4.0</td>\n",
       "      <td>5.0</td>\n",
       "      <td>12.0</td>\n",
       "      <td>0.0</td>\n",
       "      <td>0.0</td>\n",
       "      <td>0.0</td>\n",
       "      <td>0.0</td>\n",
       "      <td>0.0</td>\n",
       "      <td>2.0</td>\n",
       "      <td>3.0</td>\n",
       "      <td>4.0</td>\n",
       "      <td>5.0</td>\n",
       "      <td>12.0</td>\n",
       "    </tr>\n",
       "    <tr>\n",
       "      <th>...</th>\n",
       "      <td>...</td>\n",
       "      <td>...</td>\n",
       "      <td>...</td>\n",
       "      <td>...</td>\n",
       "      <td>...</td>\n",
       "      <td>...</td>\n",
       "      <td>...</td>\n",
       "      <td>...</td>\n",
       "      <td>...</td>\n",
       "      <td>...</td>\n",
       "      <td>...</td>\n",
       "      <td>...</td>\n",
       "      <td>...</td>\n",
       "      <td>...</td>\n",
       "      <td>...</td>\n",
       "    </tr>\n",
       "    <tr>\n",
       "      <th>Independent Olympic Participants (IOP) [IOP]</th>\n",
       "      <td>NaN</td>\n",
       "      <td>NaN</td>\n",
       "      <td>NaN</td>\n",
       "      <td>NaN</td>\n",
       "      <td>NaN</td>\n",
       "      <td>NaN</td>\n",
       "      <td>NaN</td>\n",
       "      <td>NaN</td>\n",
       "      <td>NaN</td>\n",
       "      <td>NaN</td>\n",
       "      <td>NaN</td>\n",
       "      <td>NaN</td>\n",
       "      <td>NaN</td>\n",
       "      <td>NaN</td>\n",
       "      <td>NaN</td>\n",
       "    </tr>\n",
       "    <tr>\n",
       "      <th>Zambia (ZAM) [ZAM]</th>\n",
       "      <td>NaN</td>\n",
       "      <td>NaN</td>\n",
       "      <td>NaN</td>\n",
       "      <td>NaN</td>\n",
       "      <td>NaN</td>\n",
       "      <td>NaN</td>\n",
       "      <td>NaN</td>\n",
       "      <td>NaN</td>\n",
       "      <td>NaN</td>\n",
       "      <td>NaN</td>\n",
       "      <td>NaN</td>\n",
       "      <td>NaN</td>\n",
       "      <td>NaN</td>\n",
       "      <td>NaN</td>\n",
       "      <td>NaN</td>\n",
       "    </tr>\n",
       "    <tr>\n",
       "      <th>Zimbabwe (ZIM) [ZIM]</th>\n",
       "      <td>12.0</td>\n",
       "      <td>3.0</td>\n",
       "      <td>4.0</td>\n",
       "      <td>1.0</td>\n",
       "      <td>8.0</td>\n",
       "      <td>1.0</td>\n",
       "      <td>0.0</td>\n",
       "      <td>0.0</td>\n",
       "      <td>0.0</td>\n",
       "      <td>0.0</td>\n",
       "      <td>13.0</td>\n",
       "      <td>3.0</td>\n",
       "      <td>4.0</td>\n",
       "      <td>1.0</td>\n",
       "      <td>8.0</td>\n",
       "    </tr>\n",
       "    <tr>\n",
       "      <th>Mixed team (ZZX) [ZZX]</th>\n",
       "      <td>3.0</td>\n",
       "      <td>8.0</td>\n",
       "      <td>5.0</td>\n",
       "      <td>4.0</td>\n",
       "      <td>17.0</td>\n",
       "      <td>0.0</td>\n",
       "      <td>0.0</td>\n",
       "      <td>0.0</td>\n",
       "      <td>0.0</td>\n",
       "      <td>0.0</td>\n",
       "      <td>3.0</td>\n",
       "      <td>8.0</td>\n",
       "      <td>5.0</td>\n",
       "      <td>4.0</td>\n",
       "      <td>17.0</td>\n",
       "    </tr>\n",
       "    <tr>\n",
       "      <th>Totals</th>\n",
       "      <td>27.0</td>\n",
       "      <td>4809.0</td>\n",
       "      <td>4775.0</td>\n",
       "      <td>5130.0</td>\n",
       "      <td>14714.0</td>\n",
       "      <td>22.0</td>\n",
       "      <td>959.0</td>\n",
       "      <td>958.0</td>\n",
       "      <td>948.0</td>\n",
       "      <td>2865.0</td>\n",
       "      <td>49.0</td>\n",
       "      <td>5768.0</td>\n",
       "      <td>5733.0</td>\n",
       "      <td>6078.0</td>\n",
       "      <td>17579.0</td>\n",
       "    </tr>\n",
       "  </tbody>\n",
       "</table>\n",
       "<p>147 rows × 15 columns</p>\n",
       "</div>"
      ],
      "text/plain": [
       "                                              for Summer    Gold  Silver  \\\n",
       "Afghanistan (AFG)                                    NaN     NaN     NaN   \n",
       "Algeria (ALG)                                       12.0     5.0     2.0   \n",
       "Argentina (ARG)                                     23.0    18.0    24.0   \n",
       "Armenia (ARM)                                        5.0     1.0     2.0   \n",
       "Australasia (ANZ) [ANZ]                              2.0     3.0     4.0   \n",
       "...                                                  ...     ...     ...   \n",
       "Independent Olympic Participants (IOP) [IOP]         NaN     NaN     NaN   \n",
       "Zambia (ZAM) [ZAM]                                   NaN     NaN     NaN   \n",
       "Zimbabwe (ZIM) [ZIM]                                12.0     3.0     4.0   \n",
       "Mixed team (ZZX) [ZZX]                               3.0     8.0     5.0   \n",
       "Totals                                              27.0  4809.0  4775.0   \n",
       "\n",
       "                                              Bronze    Total  for Winter  \\\n",
       "Afghanistan (AFG)                                NaN      NaN         NaN   \n",
       "Algeria (ALG)                                    8.0     15.0         3.0   \n",
       "Argentina (ARG)                                 28.0     70.0        18.0   \n",
       "Armenia (ARM)                                    9.0     12.0         6.0   \n",
       "Australasia (ANZ) [ANZ]                          5.0     12.0         0.0   \n",
       "...                                              ...      ...         ...   \n",
       "Independent Olympic Participants (IOP) [IOP]     NaN      NaN         NaN   \n",
       "Zambia (ZAM) [ZAM]                               NaN      NaN         NaN   \n",
       "Zimbabwe (ZIM) [ZIM]                             1.0      8.0         1.0   \n",
       "Mixed team (ZZX) [ZZX]                           4.0     17.0         0.0   \n",
       "Totals                                        5130.0  14714.0        22.0   \n",
       "\n",
       "                                              Gold.1  Silver.1  Bronze.1  \\\n",
       "Afghanistan (AFG)                                NaN       NaN       NaN   \n",
       "Algeria (ALG)                                    0.0       0.0       0.0   \n",
       "Argentina (ARG)                                  0.0       0.0       0.0   \n",
       "Armenia (ARM)                                    0.0       0.0       0.0   \n",
       "Australasia (ANZ) [ANZ]                          0.0       0.0       0.0   \n",
       "...                                              ...       ...       ...   \n",
       "Independent Olympic Participants (IOP) [IOP]     NaN       NaN       NaN   \n",
       "Zambia (ZAM) [ZAM]                               NaN       NaN       NaN   \n",
       "Zimbabwe (ZIM) [ZIM]                             0.0       0.0       0.0   \n",
       "Mixed team (ZZX) [ZZX]                           0.0       0.0       0.0   \n",
       "Totals                                         959.0     958.0     948.0   \n",
       "\n",
       "                                              Total.1  for Games  Gold.2  \\\n",
       "Afghanistan (AFG)                                 NaN        NaN     NaN   \n",
       "Algeria (ALG)                                     0.0       15.0     5.0   \n",
       "Argentina (ARG)                                   0.0       41.0    18.0   \n",
       "Armenia (ARM)                                     0.0       11.0     1.0   \n",
       "Australasia (ANZ) [ANZ]                           0.0        2.0     3.0   \n",
       "...                                               ...        ...     ...   \n",
       "Independent Olympic Participants (IOP) [IOP]      NaN        NaN     NaN   \n",
       "Zambia (ZAM) [ZAM]                                NaN        NaN     NaN   \n",
       "Zimbabwe (ZIM) [ZIM]                              0.0       13.0     3.0   \n",
       "Mixed team (ZZX) [ZZX]                            0.0        3.0     8.0   \n",
       "Totals                                         2865.0       49.0  5768.0   \n",
       "\n",
       "                                              Silver.2  Bronze.2  \\\n",
       "Afghanistan (AFG)                                  NaN       NaN   \n",
       "Algeria (ALG)                                      2.0       8.0   \n",
       "Argentina (ARG)                                   24.0      28.0   \n",
       "Armenia (ARM)                                      2.0       9.0   \n",
       "Australasia (ANZ) [ANZ]                            4.0       5.0   \n",
       "...                                                ...       ...   \n",
       "Independent Olympic Participants (IOP) [IOP]       NaN       NaN   \n",
       "Zambia (ZAM) [ZAM]                                 NaN       NaN   \n",
       "Zimbabwe (ZIM) [ZIM]                               4.0       1.0   \n",
       "Mixed team (ZZX) [ZZX]                             5.0       4.0   \n",
       "Totals                                          5733.0    6078.0   \n",
       "\n",
       "                                              Combined total  \n",
       "Afghanistan (AFG)                                        NaN  \n",
       "Algeria (ALG)                                           15.0  \n",
       "Argentina (ARG)                                         70.0  \n",
       "Armenia (ARM)                                           12.0  \n",
       "Australasia (ANZ) [ANZ]                                 12.0  \n",
       "...                                                      ...  \n",
       "Independent Olympic Participants (IOP) [IOP]             NaN  \n",
       "Zambia (ZAM) [ZAM]                                       NaN  \n",
       "Zimbabwe (ZIM) [ZIM]                                     8.0  \n",
       "Mixed team (ZZX) [ZZX]                                  17.0  \n",
       "Totals                                               17579.0  \n",
       "\n",
       "[147 rows x 15 columns]"
      ]
     },
     "execution_count": 168,
     "metadata": {},
     "output_type": "execute_result"
    }
   ],
   "source": [
    "n_gold"
   ]
  },
  {
   "cell_type": "markdown",
   "id": "a918af85",
   "metadata": {},
   "source": [
    "as you can see the n_gold still remain the same even dropping its missing \n",
    "\n",
    "because we didn't use inplace= True"
   ]
  },
  {
   "cell_type": "code",
   "execution_count": 169,
   "id": "dbf598ef",
   "metadata": {},
   "outputs": [
    {
     "data": {
      "text/html": [
       "<div>\n",
       "<style scoped>\n",
       "    .dataframe tbody tr th:only-of-type {\n",
       "        vertical-align: middle;\n",
       "    }\n",
       "\n",
       "    .dataframe tbody tr th {\n",
       "        vertical-align: top;\n",
       "    }\n",
       "\n",
       "    .dataframe thead th {\n",
       "        text-align: right;\n",
       "    }\n",
       "</style>\n",
       "<table border=\"1\" class=\"dataframe\">\n",
       "  <thead>\n",
       "    <tr style=\"text-align: right;\">\n",
       "      <th></th>\n",
       "    </tr>\n",
       "  </thead>\n",
       "  <tbody>\n",
       "    <tr>\n",
       "      <th>Afghanistan (AFG)</th>\n",
       "    </tr>\n",
       "    <tr>\n",
       "      <th>Algeria (ALG)</th>\n",
       "    </tr>\n",
       "    <tr>\n",
       "      <th>Argentina (ARG)</th>\n",
       "    </tr>\n",
       "    <tr>\n",
       "      <th>Armenia (ARM)</th>\n",
       "    </tr>\n",
       "    <tr>\n",
       "      <th>Australasia (ANZ) [ANZ]</th>\n",
       "    </tr>\n",
       "    <tr>\n",
       "      <th>...</th>\n",
       "    </tr>\n",
       "    <tr>\n",
       "      <th>Independent Olympic Participants (IOP) [IOP]</th>\n",
       "    </tr>\n",
       "    <tr>\n",
       "      <th>Zambia (ZAM) [ZAM]</th>\n",
       "    </tr>\n",
       "    <tr>\n",
       "      <th>Zimbabwe (ZIM) [ZIM]</th>\n",
       "    </tr>\n",
       "    <tr>\n",
       "      <th>Mixed team (ZZX) [ZZX]</th>\n",
       "    </tr>\n",
       "    <tr>\n",
       "      <th>Totals</th>\n",
       "    </tr>\n",
       "  </tbody>\n",
       "</table>\n",
       "<p>147 rows × 0 columns</p>\n",
       "</div>"
      ],
      "text/plain": [
       "Empty DataFrame\n",
       "Columns: []\n",
       "Index: [Afghanistan (AFG), Algeria (ALG), Argentina (ARG), Armenia (ARM), Australasia (ANZ) [ANZ], Australia (AUS) [AUS] [Z], Austria (AUT), Azerbaijan (AZE), Bahamas (BAH), Bahrain (BRN), Barbados (BAR) [BAR], Belarus (BLR), Belgium (BEL), Bermuda (BER), Bohemia (BOH) [BOH] [Z], Botswana (BOT), Brazil (BRA), British West Indies (BWI) [BWI], Bulgaria (BUL) [H], Burundi (BDI), Cameroon (CMR), Canada (CAN), Chile (CHI) [I], China (CHN) [CHN], Colombia (COL), Costa Rica (CRC), Ivory Coast (CIV) [CIV], Croatia (CRO), Cuba (CUB) [Z], Cyprus (CYP), Czech Republic (CZE) [CZE], Czechoslovakia (TCH) [TCH], Denmark (DEN) [Z], Djibouti (DJI) [B], Dominican Republic (DOM), Ecuador (ECU), Egypt (EGY) [EGY] [Z], Eritrea (ERI), Estonia (EST), Ethiopia (ETH), Finland (FIN), France (FRA) [O] [P] [Z], Gabon (GAB), Georgia (GEO), Germany (GER) [GER] [Z], United Team of Germany (EUA) [EUA], East Germany (GDR) [GDR], West Germany (FRG) [FRG], Ghana (GHA) [GHA], Great Britain (GBR) [GBR] [Z], Greece (GRE) [Z], Grenada (GRN), Guatemala (GUA), Guyana (GUY) [GUY], Haiti (HAI) [J], Hong Kong (HKG) [HKG], Hungary (HUN), Iceland (ISL), India (IND) [F], Indonesia (INA), Iran (IRI) [K], Iraq (IRQ), Ireland (IRL), Israel (ISR), Italy (ITA) [M] [S], Jamaica (JAM) [JAM], Japan (JPN), Kazakhstan (KAZ), Kenya (KEN), North Korea (PRK), South Korea (KOR), Kuwait (KUW), Kyrgyzstan (KGZ), Latvia (LAT), Lebanon (LIB), Liechtenstein (LIE), Lithuania (LTU), Luxembourg (LUX) [O], Macedonia (MKD), Malaysia (MAS) [MAS], Mauritius (MRI), Mexico (MEX), Moldova (MDA), Mongolia (MGL), Montenegro (MNE), Morocco (MAR), Mozambique (MOZ), Namibia (NAM), Netherlands (NED) [Z], Netherlands Antilles (AHO) [AHO] [I], New Zealand (NZL) [NZL], Niger (NIG), Nigeria (NGR), Norway (NOR) [Q], Pakistan (PAK), Panama (PAN), Paraguay (PAR), Peru (PER) [L], Philippines (PHI), Poland (POL), ...]\n",
       "\n",
       "[147 rows x 0 columns]"
      ]
     },
     "execution_count": 169,
     "metadata": {},
     "output_type": "execute_result"
    }
   ],
   "source": [
    "dropbyColumn = n_gold.dropna(axis = 1)  #drop by Row\n",
    "dropbyColumn"
   ]
  },
  {
   "cell_type": "markdown",
   "id": "76d57593",
   "metadata": {},
   "source": [
    "Filling missing Values"
   ]
  },
  {
   "cell_type": "code",
   "execution_count": 170,
   "id": "4f77bf9f",
   "metadata": {},
   "outputs": [
    {
     "data": {
      "text/plain": [
       "for Summer         13.476190\n",
       "Gold               65.428571\n",
       "Silver             64.965986\n",
       "Bronze             69.795918\n",
       "Total             200.190476\n",
       "for Winter          6.700680\n",
       "Gold.1             13.047619\n",
       "Silver.1           13.034014\n",
       "Bronze.1           12.897959\n",
       "Total.1            38.979592\n",
       "for Games          20.176871\n",
       "Gold.2             78.476190\n",
       "Silver.2           78.000000\n",
       "Bronze.2           82.693878\n",
       "Combined total    239.170068\n",
       "dtype: float64"
      ]
     },
     "execution_count": 170,
     "metadata": {},
     "output_type": "execute_result"
    }
   ],
   "source": [
    "df.mean()"
   ]
  },
  {
   "cell_type": "code",
   "execution_count": 171,
   "id": "2dcc91ad",
   "metadata": {},
   "outputs": [
    {
     "data": {
      "text/html": [
       "<div>\n",
       "<style scoped>\n",
       "    .dataframe tbody tr th:only-of-type {\n",
       "        vertical-align: middle;\n",
       "    }\n",
       "\n",
       "    .dataframe tbody tr th {\n",
       "        vertical-align: top;\n",
       "    }\n",
       "\n",
       "    .dataframe thead th {\n",
       "        text-align: right;\n",
       "    }\n",
       "</style>\n",
       "<table border=\"1\" class=\"dataframe\">\n",
       "  <thead>\n",
       "    <tr style=\"text-align: right;\">\n",
       "      <th></th>\n",
       "      <th>for Summer</th>\n",
       "      <th>Gold</th>\n",
       "      <th>Silver</th>\n",
       "      <th>Bronze</th>\n",
       "      <th>Total</th>\n",
       "      <th>for Winter</th>\n",
       "      <th>Gold.1</th>\n",
       "      <th>Silver.1</th>\n",
       "      <th>Bronze.1</th>\n",
       "      <th>Total.1</th>\n",
       "      <th>for Games</th>\n",
       "      <th>Gold.2</th>\n",
       "      <th>Silver.2</th>\n",
       "      <th>Bronze.2</th>\n",
       "      <th>Combined total</th>\n",
       "    </tr>\n",
       "  </thead>\n",
       "  <tbody>\n",
       "    <tr>\n",
       "      <th>Afghanistan (AFG)</th>\n",
       "      <td>13.47619</td>\n",
       "      <td>65.428571</td>\n",
       "      <td>64.965986</td>\n",
       "      <td>69.795918</td>\n",
       "      <td>200.190476</td>\n",
       "      <td>6.70068</td>\n",
       "      <td>13.047619</td>\n",
       "      <td>13.034014</td>\n",
       "      <td>12.897959</td>\n",
       "      <td>38.979592</td>\n",
       "      <td>20.176871</td>\n",
       "      <td>78.47619</td>\n",
       "      <td>78.0</td>\n",
       "      <td>82.693878</td>\n",
       "      <td>239.170068</td>\n",
       "    </tr>\n",
       "    <tr>\n",
       "      <th>Algeria (ALG)</th>\n",
       "      <td>12.00000</td>\n",
       "      <td>5.000000</td>\n",
       "      <td>2.000000</td>\n",
       "      <td>8.000000</td>\n",
       "      <td>15.000000</td>\n",
       "      <td>3.00000</td>\n",
       "      <td>0.000000</td>\n",
       "      <td>0.000000</td>\n",
       "      <td>0.000000</td>\n",
       "      <td>0.000000</td>\n",
       "      <td>15.000000</td>\n",
       "      <td>5.00000</td>\n",
       "      <td>2.0</td>\n",
       "      <td>8.000000</td>\n",
       "      <td>15.000000</td>\n",
       "    </tr>\n",
       "    <tr>\n",
       "      <th>Argentina (ARG)</th>\n",
       "      <td>23.00000</td>\n",
       "      <td>18.000000</td>\n",
       "      <td>24.000000</td>\n",
       "      <td>28.000000</td>\n",
       "      <td>70.000000</td>\n",
       "      <td>18.00000</td>\n",
       "      <td>0.000000</td>\n",
       "      <td>0.000000</td>\n",
       "      <td>0.000000</td>\n",
       "      <td>0.000000</td>\n",
       "      <td>41.000000</td>\n",
       "      <td>18.00000</td>\n",
       "      <td>24.0</td>\n",
       "      <td>28.000000</td>\n",
       "      <td>70.000000</td>\n",
       "    </tr>\n",
       "    <tr>\n",
       "      <th>Armenia (ARM)</th>\n",
       "      <td>5.00000</td>\n",
       "      <td>1.000000</td>\n",
       "      <td>2.000000</td>\n",
       "      <td>9.000000</td>\n",
       "      <td>12.000000</td>\n",
       "      <td>6.00000</td>\n",
       "      <td>0.000000</td>\n",
       "      <td>0.000000</td>\n",
       "      <td>0.000000</td>\n",
       "      <td>0.000000</td>\n",
       "      <td>11.000000</td>\n",
       "      <td>1.00000</td>\n",
       "      <td>2.0</td>\n",
       "      <td>9.000000</td>\n",
       "      <td>12.000000</td>\n",
       "    </tr>\n",
       "    <tr>\n",
       "      <th>Australasia (ANZ) [ANZ]</th>\n",
       "      <td>2.00000</td>\n",
       "      <td>3.000000</td>\n",
       "      <td>4.000000</td>\n",
       "      <td>5.000000</td>\n",
       "      <td>12.000000</td>\n",
       "      <td>0.00000</td>\n",
       "      <td>0.000000</td>\n",
       "      <td>0.000000</td>\n",
       "      <td>0.000000</td>\n",
       "      <td>0.000000</td>\n",
       "      <td>2.000000</td>\n",
       "      <td>3.00000</td>\n",
       "      <td>4.0</td>\n",
       "      <td>5.000000</td>\n",
       "      <td>12.000000</td>\n",
       "    </tr>\n",
       "  </tbody>\n",
       "</table>\n",
       "</div>"
      ],
      "text/plain": [
       "                         for Summer       Gold     Silver     Bronze  \\\n",
       "Afghanistan (AFG)          13.47619  65.428571  64.965986  69.795918   \n",
       "Algeria (ALG)              12.00000   5.000000   2.000000   8.000000   \n",
       "Argentina (ARG)            23.00000  18.000000  24.000000  28.000000   \n",
       "Armenia (ARM)               5.00000   1.000000   2.000000   9.000000   \n",
       "Australasia (ANZ) [ANZ]     2.00000   3.000000   4.000000   5.000000   \n",
       "\n",
       "                              Total  for Winter     Gold.1   Silver.1  \\\n",
       "Afghanistan (AFG)        200.190476     6.70068  13.047619  13.034014   \n",
       "Algeria (ALG)             15.000000     3.00000   0.000000   0.000000   \n",
       "Argentina (ARG)           70.000000    18.00000   0.000000   0.000000   \n",
       "Armenia (ARM)             12.000000     6.00000   0.000000   0.000000   \n",
       "Australasia (ANZ) [ANZ]   12.000000     0.00000   0.000000   0.000000   \n",
       "\n",
       "                          Bronze.1    Total.1  for Games    Gold.2  Silver.2  \\\n",
       "Afghanistan (AFG)        12.897959  38.979592  20.176871  78.47619      78.0   \n",
       "Algeria (ALG)             0.000000   0.000000  15.000000   5.00000       2.0   \n",
       "Argentina (ARG)           0.000000   0.000000  41.000000  18.00000      24.0   \n",
       "Armenia (ARM)             0.000000   0.000000  11.000000   1.00000       2.0   \n",
       "Australasia (ANZ) [ANZ]   0.000000   0.000000   2.000000   3.00000       4.0   \n",
       "\n",
       "                          Bronze.2  Combined total  \n",
       "Afghanistan (AFG)        82.693878      239.170068  \n",
       "Algeria (ALG)             8.000000       15.000000  \n",
       "Argentina (ARG)          28.000000       70.000000  \n",
       "Armenia (ARM)             9.000000       12.000000  \n",
       "Australasia (ANZ) [ANZ]   5.000000       12.000000  "
      ]
     },
     "execution_count": 171,
     "metadata": {},
     "output_type": "execute_result"
    }
   ],
   "source": [
    "drop_fillna_mean = n_gold.fillna(df.mean()) # Filling missing values with mean\n",
    "drop_fillna_mean.head()"
   ]
  },
  {
   "cell_type": "code",
   "execution_count": 172,
   "id": "9e18c918",
   "metadata": {},
   "outputs": [
    {
     "data": {
      "text/plain": [
       "for Summer        13.0\n",
       "Gold               3.0\n",
       "Silver             4.0\n",
       "Bronze             6.0\n",
       "Total             12.0\n",
       "for Winter         5.0\n",
       "Gold.1             0.0\n",
       "Silver.1           0.0\n",
       "Bronze.1           0.0\n",
       "Total.1            0.0\n",
       "for Games         15.0\n",
       "Gold.2             3.0\n",
       "Silver.2           4.0\n",
       "Bronze.2           7.0\n",
       "Combined total    12.0\n",
       "dtype: float64"
      ]
     },
     "execution_count": 172,
     "metadata": {},
     "output_type": "execute_result"
    }
   ],
   "source": [
    "df.median()"
   ]
  },
  {
   "cell_type": "code",
   "execution_count": 173,
   "id": "450f984d",
   "metadata": {},
   "outputs": [
    {
     "data": {
      "text/html": [
       "<div>\n",
       "<style scoped>\n",
       "    .dataframe tbody tr th:only-of-type {\n",
       "        vertical-align: middle;\n",
       "    }\n",
       "\n",
       "    .dataframe tbody tr th {\n",
       "        vertical-align: top;\n",
       "    }\n",
       "\n",
       "    .dataframe thead th {\n",
       "        text-align: right;\n",
       "    }\n",
       "</style>\n",
       "<table border=\"1\" class=\"dataframe\">\n",
       "  <thead>\n",
       "    <tr style=\"text-align: right;\">\n",
       "      <th></th>\n",
       "      <th>for Summer</th>\n",
       "      <th>Gold</th>\n",
       "      <th>Silver</th>\n",
       "      <th>Bronze</th>\n",
       "      <th>Total</th>\n",
       "      <th>for Winter</th>\n",
       "      <th>Gold.1</th>\n",
       "      <th>Silver.1</th>\n",
       "      <th>Bronze.1</th>\n",
       "      <th>Total.1</th>\n",
       "      <th>for Games</th>\n",
       "      <th>Gold.2</th>\n",
       "      <th>Silver.2</th>\n",
       "      <th>Bronze.2</th>\n",
       "      <th>Combined total</th>\n",
       "    </tr>\n",
       "  </thead>\n",
       "  <tbody>\n",
       "    <tr>\n",
       "      <th>Afghanistan (AFG)</th>\n",
       "      <td>13.0</td>\n",
       "      <td>3.0</td>\n",
       "      <td>4.0</td>\n",
       "      <td>6.0</td>\n",
       "      <td>12.0</td>\n",
       "      <td>5.0</td>\n",
       "      <td>0.0</td>\n",
       "      <td>0.0</td>\n",
       "      <td>0.0</td>\n",
       "      <td>0.0</td>\n",
       "      <td>15.0</td>\n",
       "      <td>3.0</td>\n",
       "      <td>4.0</td>\n",
       "      <td>7.0</td>\n",
       "      <td>12.0</td>\n",
       "    </tr>\n",
       "    <tr>\n",
       "      <th>Algeria (ALG)</th>\n",
       "      <td>12.0</td>\n",
       "      <td>5.0</td>\n",
       "      <td>2.0</td>\n",
       "      <td>8.0</td>\n",
       "      <td>15.0</td>\n",
       "      <td>3.0</td>\n",
       "      <td>0.0</td>\n",
       "      <td>0.0</td>\n",
       "      <td>0.0</td>\n",
       "      <td>0.0</td>\n",
       "      <td>15.0</td>\n",
       "      <td>5.0</td>\n",
       "      <td>2.0</td>\n",
       "      <td>8.0</td>\n",
       "      <td>15.0</td>\n",
       "    </tr>\n",
       "    <tr>\n",
       "      <th>Argentina (ARG)</th>\n",
       "      <td>23.0</td>\n",
       "      <td>18.0</td>\n",
       "      <td>24.0</td>\n",
       "      <td>28.0</td>\n",
       "      <td>70.0</td>\n",
       "      <td>18.0</td>\n",
       "      <td>0.0</td>\n",
       "      <td>0.0</td>\n",
       "      <td>0.0</td>\n",
       "      <td>0.0</td>\n",
       "      <td>41.0</td>\n",
       "      <td>18.0</td>\n",
       "      <td>24.0</td>\n",
       "      <td>28.0</td>\n",
       "      <td>70.0</td>\n",
       "    </tr>\n",
       "    <tr>\n",
       "      <th>Armenia (ARM)</th>\n",
       "      <td>5.0</td>\n",
       "      <td>1.0</td>\n",
       "      <td>2.0</td>\n",
       "      <td>9.0</td>\n",
       "      <td>12.0</td>\n",
       "      <td>6.0</td>\n",
       "      <td>0.0</td>\n",
       "      <td>0.0</td>\n",
       "      <td>0.0</td>\n",
       "      <td>0.0</td>\n",
       "      <td>11.0</td>\n",
       "      <td>1.0</td>\n",
       "      <td>2.0</td>\n",
       "      <td>9.0</td>\n",
       "      <td>12.0</td>\n",
       "    </tr>\n",
       "    <tr>\n",
       "      <th>Australasia (ANZ) [ANZ]</th>\n",
       "      <td>2.0</td>\n",
       "      <td>3.0</td>\n",
       "      <td>4.0</td>\n",
       "      <td>5.0</td>\n",
       "      <td>12.0</td>\n",
       "      <td>0.0</td>\n",
       "      <td>0.0</td>\n",
       "      <td>0.0</td>\n",
       "      <td>0.0</td>\n",
       "      <td>0.0</td>\n",
       "      <td>2.0</td>\n",
       "      <td>3.0</td>\n",
       "      <td>4.0</td>\n",
       "      <td>5.0</td>\n",
       "      <td>12.0</td>\n",
       "    </tr>\n",
       "  </tbody>\n",
       "</table>\n",
       "</div>"
      ],
      "text/plain": [
       "                         for Summer  Gold  Silver  Bronze  Total  for Winter  \\\n",
       "Afghanistan (AFG)              13.0   3.0     4.0     6.0   12.0         5.0   \n",
       "Algeria (ALG)                  12.0   5.0     2.0     8.0   15.0         3.0   \n",
       "Argentina (ARG)                23.0  18.0    24.0    28.0   70.0        18.0   \n",
       "Armenia (ARM)                   5.0   1.0     2.0     9.0   12.0         6.0   \n",
       "Australasia (ANZ) [ANZ]         2.0   3.0     4.0     5.0   12.0         0.0   \n",
       "\n",
       "                         Gold.1  Silver.1  Bronze.1  Total.1  for Games  \\\n",
       "Afghanistan (AFG)           0.0       0.0       0.0      0.0       15.0   \n",
       "Algeria (ALG)               0.0       0.0       0.0      0.0       15.0   \n",
       "Argentina (ARG)             0.0       0.0       0.0      0.0       41.0   \n",
       "Armenia (ARM)               0.0       0.0       0.0      0.0       11.0   \n",
       "Australasia (ANZ) [ANZ]     0.0       0.0       0.0      0.0        2.0   \n",
       "\n",
       "                         Gold.2  Silver.2  Bronze.2  Combined total  \n",
       "Afghanistan (AFG)           3.0       4.0       7.0            12.0  \n",
       "Algeria (ALG)               5.0       2.0       8.0            15.0  \n",
       "Argentina (ARG)            18.0      24.0      28.0            70.0  \n",
       "Armenia (ARM)               1.0       2.0       9.0            12.0  \n",
       "Australasia (ANZ) [ANZ]     3.0       4.0       5.0            12.0  "
      ]
     },
     "execution_count": 173,
     "metadata": {},
     "output_type": "execute_result"
    }
   ],
   "source": [
    "drop_fillna_median = n_gold.fillna(df.median()) # Filling missing values with mean\n",
    "drop_fillna_median.head()"
   ]
  },
  {
   "cell_type": "markdown",
   "id": "2cff92c5",
   "metadata": {},
   "source": [
    "# Object Oriented Programming [OOP]\n",
    "Introduction\n",
    "\n",
    "Python is an Object Oriented Programming language with almost everything in it is an Object, with it's properties and Methods"
   ]
  },
  {
   "cell_type": "markdown",
   "id": "34194877",
   "metadata": {},
   "source": [
    "1 - Class(es):is an object-like constructor or a 'Blueprints' for creating an object. The keyword \"class\" is used in creating a class"
   ]
  },
  {
   "cell_type": "code",
   "execution_count": 174,
   "id": "0ecdee13",
   "metadata": {},
   "outputs": [],
   "source": [
    "#whenever we want to define a className, the Initial letter must be in Uppercase"
   ]
  },
  {
   "cell_type": "code",
   "execution_count": 175,
   "id": "7723362e",
   "metadata": {},
   "outputs": [],
   "source": [
    "class Employee:\n",
    "    pass"
   ]
  },
  {
   "cell_type": "code",
   "execution_count": 176,
   "id": "f9a674d1",
   "metadata": {},
   "outputs": [],
   "source": [
    "class Employee:\n",
    "# class constructor[e.g __init__] holds the class properties[name, age] & we define a property inside the constructor\n",
    "    def __init__(self, name, age):  #self is a keyword that goed hand-in-hand with def \n",
    "        self.name = name\n",
    "        self.age = age"
   ]
  },
  {
   "cell_type": "code",
   "execution_count": 177,
   "id": "88a5cf50",
   "metadata": {},
   "outputs": [],
   "source": [
    "N_employee = Employee('Salam-Jay', 16)"
   ]
  },
  {
   "cell_type": "code",
   "execution_count": 178,
   "id": "cc11a207",
   "metadata": {},
   "outputs": [
    {
     "data": {
      "text/plain": [
       "'Salam-Jay'"
      ]
     },
     "execution_count": 178,
     "metadata": {},
     "output_type": "execute_result"
    }
   ],
   "source": [
    "N_employee.name"
   ]
  },
  {
   "cell_type": "code",
   "execution_count": 179,
   "id": "c0b7edf2",
   "metadata": {},
   "outputs": [
    {
     "data": {
      "text/plain": [
       "16"
      ]
     },
     "execution_count": 179,
     "metadata": {},
     "output_type": "execute_result"
    }
   ],
   "source": [
    "N_employee.age"
   ]
  },
  {
   "cell_type": "code",
   "execution_count": 180,
   "id": "c1f13c31",
   "metadata": {},
   "outputs": [],
   "source": [
    "class Employees:\n",
    "    def __init__(self, name, age, department):\n",
    "        self.name = name\n",
    "        self.age = age\n",
    "        self.department = department\n",
    "        \n",
    "    #instance Method\n",
    "    def office(self):\n",
    "        return f\"{self.name} is in {self.department} department\"  # f\" is use to concatinate[join] various object-types\n",
    "    def details(self):\n",
    "        return f\"{self.name} is {self.age} years old\"\n",
    "    def combined(self):\n",
    "        return f\"{self.name} is in {self.department} department and is {self.age} years old\""
   ]
  },
  {
   "cell_type": "code",
   "execution_count": 181,
   "id": "97ef55d9",
   "metadata": {},
   "outputs": [],
   "source": [
    "employee1 = Employees('Abdulsalam', 16, 'Electrical-Engr.')\n",
    "employee2 = Employees('Abiodun', 17, 'Electronics-Engr.')\n",
    "employee3 = Employees('Jackson', 16, 'Data-Scietist')"
   ]
  },
  {
   "cell_type": "code",
   "execution_count": 182,
   "id": "7f4994bd",
   "metadata": {},
   "outputs": [
    {
     "data": {
      "text/plain": [
       "'Abdulsalam is in Electrical-Engr. department'"
      ]
     },
     "execution_count": 182,
     "metadata": {},
     "output_type": "execute_result"
    }
   ],
   "source": [
    "employee1.office()"
   ]
  },
  {
   "cell_type": "code",
   "execution_count": 183,
   "id": "4dd28d2c",
   "metadata": {},
   "outputs": [
    {
     "data": {
      "text/plain": [
       "'Jackson is 16 years old'"
      ]
     },
     "execution_count": 183,
     "metadata": {},
     "output_type": "execute_result"
    }
   ],
   "source": [
    "employee3.details()"
   ]
  },
  {
   "cell_type": "code",
   "execution_count": 184,
   "id": "8259a10b",
   "metadata": {},
   "outputs": [
    {
     "data": {
      "text/plain": [
       "'Abiodun is in Electronics-Engr. department and is 17 years old'"
      ]
     },
     "execution_count": 184,
     "metadata": {},
     "output_type": "execute_result"
    }
   ],
   "source": [
    "employee2.combined()"
   ]
  },
  {
   "cell_type": "markdown",
   "id": "1e3225e2",
   "metadata": {},
   "source": [
    "# Inheritance in OOP"
   ]
  },
  {
   "cell_type": "markdown",
   "id": "428603be",
   "metadata": {},
   "source": [
    "Parent class and Child class"
   ]
  },
  {
   "cell_type": "code",
   "execution_count": 185,
   "id": "108e763b",
   "metadata": {},
   "outputs": [],
   "source": [
    "class Salary(Employees):\n",
    "    pass\n",
    "# child class can inherits all the parents methods & properties"
   ]
  },
  {
   "cell_type": "code",
   "execution_count": 186,
   "id": "29130bfb",
   "metadata": {},
   "outputs": [],
   "source": [
    "employee_1Salary = Salary(\"Oyinda\", 20, \"UI/UX Design\")"
   ]
  },
  {
   "cell_type": "code",
   "execution_count": 187,
   "id": "b4c4262f",
   "metadata": {},
   "outputs": [
    {
     "data": {
      "text/plain": [
       "'Oyinda'"
      ]
     },
     "execution_count": 187,
     "metadata": {},
     "output_type": "execute_result"
    }
   ],
   "source": [
    "employee_1Salary.name"
   ]
  },
  {
   "cell_type": "code",
   "execution_count": 188,
   "id": "1ff8e954",
   "metadata": {},
   "outputs": [
    {
     "data": {
      "text/plain": [
       "'UI/UX Design'"
      ]
     },
     "execution_count": 188,
     "metadata": {},
     "output_type": "execute_result"
    }
   ],
   "source": [
    "employee_1Salary.department"
   ]
  },
  {
   "cell_type": "code",
   "execution_count": null,
   "id": "563d054b",
   "metadata": {},
   "outputs": [],
   "source": []
  },
  {
   "cell_type": "code",
   "execution_count": 189,
   "id": "92fdde7e",
   "metadata": {},
   "outputs": [],
   "source": [
    "class Employer:\n",
    "    def __init__(self, name, age, department, nationality):\n",
    "        self.name = name\n",
    "        self.age = age\n",
    "        self.department = department\n",
    "        self.nationality = nationality\n",
    "        \n",
    "    #instance Method\n",
    "    def office(self):\n",
    "        return f\"{self.name} is in {self.department} department\"  # f\" is use to concatinate[join] various object-types\n",
    "    def details(self):\n",
    "        return f\"{self.name} is {self.age} years old\"\n",
    "    def birth_place(self):\n",
    "        return f\"{self.name} is {self.nationality}n \"\n",
    "    def combined(self):\n",
    "        return f\"{self.name},a {self.age} year old, works in {self.department} department and is a {self.nationality} \""
   ]
  },
  {
   "cell_type": "code",
   "execution_count": 190,
   "id": "eeea4553",
   "metadata": {},
   "outputs": [],
   "source": [
    "class Salary(Employer):\n",
    "    def nation(self):\n",
    "        return f\"{self.name} is {self.nationality}n \""
   ]
  },
  {
   "cell_type": "code",
   "execution_count": 191,
   "id": "0b5f0b30",
   "metadata": {},
   "outputs": [],
   "source": [
    "N_employerSalary = Salary(\"Oyinda\", 20, \"UI/UX Design\", \"Nigerian\")"
   ]
  },
  {
   "cell_type": "code",
   "execution_count": 192,
   "id": "6a2664ac",
   "metadata": {},
   "outputs": [
    {
     "data": {
      "text/plain": [
       "'Oyinda,a 20 year old, works in UI/UX Design department and is a Nigerian '"
      ]
     },
     "execution_count": 192,
     "metadata": {},
     "output_type": "execute_result"
    }
   ],
   "source": [
    "N_employerSalary.combined()"
   ]
  },
  {
   "cell_type": "code",
   "execution_count": 193,
   "id": "a8660efe",
   "metadata": {},
   "outputs": [
    {
     "data": {
      "text/plain": [
       "'Oyinda is Nigeriann '"
      ]
     },
     "execution_count": 193,
     "metadata": {},
     "output_type": "execute_result"
    }
   ],
   "source": [
    "N_employerSalary.nation()"
   ]
  },
  {
   "cell_type": "code",
   "execution_count": 194,
   "id": "6aba83a2",
   "metadata": {},
   "outputs": [],
   "source": [
    "employee2 = Employer(\"Tayo\", 21, 'BioChemistry', 'Nigerian')"
   ]
  },
  {
   "cell_type": "code",
   "execution_count": null,
   "id": "9ffeec69",
   "metadata": {},
   "outputs": [],
   "source": []
  },
  {
   "cell_type": "markdown",
   "id": "55566115",
   "metadata": {},
   "source": [
    "# Data Analysis"
   ]
  },
  {
   "cell_type": "markdown",
   "id": "2334aeb3",
   "metadata": {},
   "source": [
    "is the process of cleaning changing and processing raw data, and extracting actionable, relevant information that helps businesses make informed decisions. The procedure helps reduces the risks inherent in decision-making by providing useful insights and statistics, often presented in charts, images, tables, and graphs  "
   ]
  },
  {
   "cell_type": "markdown",
   "id": "59c219a0",
   "metadata": {},
   "source": [
    "Histogram: is a graphical representation that organizes a group of data points into user-specified ranges"
   ]
  },
  {
   "cell_type": "markdown",
   "id": "d3270846",
   "metadata": {},
   "source": [
    "Line Chart:is a graphical representation of an asset's historical price that connects a series of data points with a continous line; used on continous data[like price actions]"
   ]
  },
  {
   "cell_type": "markdown",
   "id": "5dfe9da3",
   "metadata": {},
   "source": [
    "Box plot: displays the five number summary of a set of data. the five number summary is the minimum, first-quartile, median[second-quartile], third-quartile and maximum; it quickly shows a summary of our dataset"
   ]
  },
  {
   "cell_type": "markdown",
   "id": "9919a359",
   "metadata": {},
   "source": [
    "Scatter Plot: is a type of data display that shows the relationship between two numerical variables; correlation between two variables"
   ]
  },
  {
   "cell_type": "code",
   "execution_count": null,
   "id": "727f87bf",
   "metadata": {},
   "outputs": [],
   "source": []
  },
  {
   "cell_type": "markdown",
   "id": "c50f1649",
   "metadata": {},
   "source": [
    "# Machine Learning"
   ]
  },
  {
   "cell_type": "markdown",
   "id": "eaa68301",
   "metadata": {},
   "source": [
    "is the study of computer programs (algorithms) that can learn by itself(after been giving an instance/example). It's a subset of Artificial Intelligence[AI] and focuses more on building systems that can learn or improve performance with data"
   ]
  },
  {
   "cell_type": "markdown",
   "id": "302d0d6f",
   "metadata": {},
   "source": [
    "Classification of ML projects"
   ]
  },
  {
   "cell_type": "markdown",
   "id": "8e199d64",
   "metadata": {},
   "source": [
    "Supervised ML: Learn to predict target values from labelled data.\n",
    "    \n",
    "- Classification(target values are discrete classes) e.g SVM[Support Vector Machine]algorithm\n",
    "\n",
    "- Regression(target values are continous values) e.g Linear Regression algorithm"
   ]
  },
  {
   "cell_type": "markdown",
   "id": "e7033538",
   "metadata": {},
   "source": [
    "Unsupervised ML: Find structure in unlabelled data.\n",
    "\n",
    "- Find groups of similar instances in the data(clustering) e.g K Means clustering\n",
    "\n",
    "- Finding unusual patterns (outlier detection) e.g plot"
   ]
  },
  {
   "cell_type": "markdown",
   "id": "bac9c3c4",
   "metadata": {},
   "source": [
    "# Machine Learning with Python"
   ]
  },
  {
   "cell_type": "code",
   "execution_count": 195,
   "id": "ebc6836b",
   "metadata": {},
   "outputs": [],
   "source": [
    "from sklearn.datasets import make_classification as mc, make_blobs as mb\n",
    "import matplotlib.pyplot as plt"
   ]
  },
  {
   "cell_type": "code",
   "execution_count": 196,
   "id": "e2e70693",
   "metadata": {},
   "outputs": [],
   "source": [
    "# sythentic dataset for simple regression\n",
    "from sklearn.datasets import make_regression as mr"
   ]
  },
  {
   "cell_type": "code",
   "execution_count": 197,
   "id": "0783b3ce",
   "metadata": {},
   "outputs": [],
   "source": [
    "#mr(n_samples = 100, n_features = 1)"
   ]
  },
  {
   "cell_type": "code",
   "execution_count": 198,
   "id": "1b362361",
   "metadata": {},
   "outputs": [
    {
     "data": {
      "image/png": "[encoded data removed]",
      "text/plain": [
       "<Figure size 432x288 with 1 Axes>"
      ]
     },
     "metadata": {
      "needs_background": "light"
     },
     "output_type": "display_data"
    }
   ],
   "source": [
    "plt.figure()  # about to show a plot\n",
    "plt.title('Sample regression problem with one input variable') #title of the plot\n",
    "x_R1, y_R1 = mr(n_samples = 100, n_features = 1, n_informative = 1, bias = 150.0, noise = 30, random_state = 0) \n",
    "                # x_R1, y_R1 are the 2 variables\n",
    "plt.scatter(x_R1, y_R1, marker = '+', s = 50) # shows a Scatterplot with s[Size]= 50 \n",
    "plt.show()\n"
   ]
  },
  {
   "cell_type": "code",
   "execution_count": null,
   "id": "5fdbb091",
   "metadata": {},
   "outputs": [],
   "source": []
  },
  {
   "cell_type": "markdown",
   "id": "9216c2e2",
   "metadata": {},
   "source": [
    "# Linear Regression"
   ]
  },
  {
   "cell_type": "code",
   "execution_count": 199,
   "id": "0398fb2c",
   "metadata": {},
   "outputs": [],
   "source": [
    "from sklearn.linear_model import LinearRegression as LiR\n",
    "from sklearn.model_selection import train_test_split as tst"
   ]
  },
  {
   "cell_type": "code",
   "execution_count": 200,
   "id": "dceb33f0",
   "metadata": {},
   "outputs": [],
   "source": [
    "x_train, x_test, y_train, y_test = tst(x_R1, y_R1, random_state = 0)\n",
    "#by default it assigns 70% to train set & 30% to test set, random_state ensure you getting the same value everytime we run the code"
   ]
  },
  {
   "cell_type": "code",
   "execution_count": 201,
   "id": "eaad780d",
   "metadata": {},
   "outputs": [],
   "source": [
    "linreg = LiR().fit(x_train, y_train)"
   ]
  },
  {
   "cell_type": "markdown",
   "id": "1794119e",
   "metadata": {},
   "source": [
    "linearRegression works with the background knowledge of \"Line Equation\" [y=mx=c] \n",
    "\n",
    "but here m which is the SLOPE is replaced with w\n",
    "\n",
    "and c which is the INTERCEPT is replaced with b[bias]"
   ]
  },
  {
   "cell_type": "code",
   "execution_count": 202,
   "id": "4ce55397",
   "metadata": {},
   "outputs": [
    {
     "name": "stdout",
     "output_type": "stream",
     "text": [
      "linear model coeff (w) is: [45.70870465]\n",
      "linear model intercept (b) is: 148.446\n"
     ]
    }
   ],
   "source": [
    "print('linear model coeff (w) is: {}'.format(linreg.coef_))\n",
    "print('linear model intercept (b) is: {:.3f}'.format(linreg.intercept_))"
   ]
  },
  {
   "cell_type": "code",
   "execution_count": 203,
   "id": "1da3c0b4",
   "metadata": {},
   "outputs": [],
   "source": [
    "# print('R squared score (training) is: {:.3f}'.format(linreg.score(x_train, y_train)))\n",
    "# print('R squared score (test) is: {:.3f}'.format(linreg.score(x_test, y_test)))"
   ]
  },
  {
   "cell_type": "code",
   "execution_count": 204,
   "id": "d1c07958",
   "metadata": {},
   "outputs": [
    {
     "data": {
      "text/plain": [
       "0.6785950771141656"
      ]
     },
     "execution_count": 204,
     "metadata": {},
     "output_type": "execute_result"
    }
   ],
   "source": [
    "linreg.score(x_train, y_train) # shows the accuracy of the training set"
   ]
  },
  {
   "cell_type": "code",
   "execution_count": 205,
   "id": "214ee178",
   "metadata": {},
   "outputs": [
    {
     "data": {
      "text/plain": [
       "0.4915961593493031"
      ]
     },
     "execution_count": 205,
     "metadata": {},
     "output_type": "execute_result"
    }
   ],
   "source": [
    "linreg.score(x_test, y_test) # shows the accuracy of the test set"
   ]
  },
  {
   "cell_type": "code",
   "execution_count": 206,
   "id": "fd1d33d1",
   "metadata": {},
   "outputs": [],
   "source": [
    "LiR?"
   ]
  },
  {
   "cell_type": "markdown",
   "id": "61800176",
   "metadata": {},
   "source": [
    "Plot to analyse our Linear Regression Model"
   ]
  },
  {
   "cell_type": "code",
   "execution_count": 207,
   "id": "247d20e9",
   "metadata": {},
   "outputs": [
    {
     "data": {
      "image/png": "[encoded data removed]",
      "text/plain": [
       "<Figure size 360x288 with 1 Axes>"
      ]
     },
     "metadata": {
      "needs_background": "light"
     },
     "output_type": "display_data"
    }
   ],
   "source": [
    "plt.figure(figsize = (5,4)) # figsize = (x=horizontal, y=vertical)\n",
    "plt.scatter(x_R1, y_R1, marker = 'o', s = 50, alpha = 0.8) #showing a scatter plot\n",
    "plt.plot(x_R1, linreg.coef_*x_R1 + linreg.intercept_, 'r-' ) # shows a line plot of y=mx+c\n",
    "    #where x,        m     * x    +      c            red colour\n",
    "plt.title('Least-squares linear regression')\n",
    "plt.xlabel('Feature value (X)')\n",
    "plt.ylabel('Target value (y)')\n",
    "plt.show()"
   ]
  },
  {
   "cell_type": "code",
   "execution_count": null,
   "id": "6deb5659",
   "metadata": {},
   "outputs": [],
   "source": []
  },
  {
   "cell_type": "markdown",
   "id": "ab85491e",
   "metadata": {},
   "source": [
    "# Logistic Regression"
   ]
  },
  {
   "cell_type": "markdown",
   "id": "252ad64a",
   "metadata": {},
   "source": [
    "is majorly used in ML for Binary Classification-[simply classify into 0 & 1 such as 2 variables e.g Boy & Girl]  \n",
    "\n",
    "we dont normally use string, we ensure to convert our dataset into integers "
   ]
  },
  {
   "cell_type": "code",
   "execution_count": 208,
   "id": "4e173224",
   "metadata": {},
   "outputs": [],
   "source": [
    "from sklearn.datasets import load_breast_cancer # as lbc"
   ]
  },
  {
   "cell_type": "code",
   "execution_count": 209,
   "id": "b823c3f2",
   "metadata": {},
   "outputs": [],
   "source": [
    "# Breast cancer datset for classification\n",
    "cancer = load_breast_cancer()\n",
    "(X_cancer, y_cancer) = load_breast_cancer(return_X_y = True)"
   ]
  },
  {
   "cell_type": "code",
   "execution_count": 210,
   "id": "642515a6",
   "metadata": {},
   "outputs": [
    {
     "data": {
      "text/plain": [
       "{'data': array([[1.799e+01, 1.038e+01, 1.228e+02, ..., 2.654e-01, 4.601e-01,\n",
       "         1.189e-01],\n",
       "        [2.057e+01, 1.777e+01, 1.329e+02, ..., 1.860e-01, 2.750e-01,\n",
       "         8.902e-02],\n",
       "        [1.969e+01, 2.125e+01, 1.300e+02, ..., 2.430e-01, 3.613e-01,\n",
       "         8.758e-02],\n",
       "        ...,\n",
       "        [1.660e+01, 2.808e+01, 1.083e+02, ..., 1.418e-01, 2.218e-01,\n",
       "         7.820e-02],\n",
       "        [2.060e+01, 2.933e+01, 1.401e+02, ..., 2.650e-01, 4.087e-01,\n",
       "         1.240e-01],\n",
       "        [7.760e+00, 2.454e+01, 4.792e+01, ..., 0.000e+00, 2.871e-01,\n",
       "         7.039e-02]]),\n",
       " 'target': array([0, 0, 0, 0, 0, 0, 0, 0, 0, 0, 0, 0, 0, 0, 0, 0, 0, 0, 0, 1, 1, 1,\n",
       "        0, 0, 0, 0, 0, 0, 0, 0, 0, 0, 0, 0, 0, 0, 0, 1, 0, 0, 0, 0, 0, 0,\n",
       "        0, 0, 1, 0, 1, 1, 1, 1, 1, 0, 0, 1, 0, 0, 1, 1, 1, 1, 0, 1, 0, 0,\n",
       "        1, 1, 1, 1, 0, 1, 0, 0, 1, 0, 1, 0, 0, 1, 1, 1, 0, 0, 1, 0, 0, 0,\n",
       "        1, 1, 1, 0, 1, 1, 0, 0, 1, 1, 1, 0, 0, 1, 1, 1, 1, 0, 1, 1, 0, 1,\n",
       "        1, 1, 1, 1, 1, 1, 1, 0, 0, 0, 1, 0, 0, 1, 1, 1, 0, 0, 1, 0, 1, 0,\n",
       "        0, 1, 0, 0, 1, 1, 0, 1, 1, 0, 1, 1, 1, 1, 0, 1, 1, 1, 1, 1, 1, 1,\n",
       "        1, 1, 0, 1, 1, 1, 1, 0, 0, 1, 0, 1, 1, 0, 0, 1, 1, 0, 0, 1, 1, 1,\n",
       "        1, 0, 1, 1, 0, 0, 0, 1, 0, 1, 0, 1, 1, 1, 0, 1, 1, 0, 0, 1, 0, 0,\n",
       "        0, 0, 1, 0, 0, 0, 1, 0, 1, 0, 1, 1, 0, 1, 0, 0, 0, 0, 1, 1, 0, 0,\n",
       "        1, 1, 1, 0, 1, 1, 1, 1, 1, 0, 0, 1, 1, 0, 1, 1, 0, 0, 1, 0, 1, 1,\n",
       "        1, 1, 0, 1, 1, 1, 1, 1, 0, 1, 0, 0, 0, 0, 0, 0, 0, 0, 0, 0, 0, 0,\n",
       "        0, 0, 1, 1, 1, 1, 1, 1, 0, 1, 0, 1, 1, 0, 1, 1, 0, 1, 0, 0, 1, 1,\n",
       "        1, 1, 1, 1, 1, 1, 1, 1, 1, 1, 1, 0, 1, 1, 0, 1, 0, 1, 1, 1, 1, 1,\n",
       "        1, 1, 1, 1, 1, 1, 1, 1, 1, 0, 1, 1, 1, 0, 1, 0, 1, 1, 1, 1, 0, 0,\n",
       "        0, 1, 1, 1, 1, 0, 1, 0, 1, 0, 1, 1, 1, 0, 1, 1, 1, 1, 1, 1, 1, 0,\n",
       "        0, 0, 1, 1, 1, 1, 1, 1, 1, 1, 1, 1, 1, 0, 0, 1, 0, 0, 0, 1, 0, 0,\n",
       "        1, 1, 1, 1, 1, 0, 1, 1, 1, 1, 1, 0, 1, 1, 1, 0, 1, 1, 0, 0, 1, 1,\n",
       "        1, 1, 1, 1, 0, 1, 1, 1, 1, 1, 1, 1, 0, 1, 1, 1, 1, 1, 0, 1, 1, 0,\n",
       "        1, 1, 1, 1, 1, 1, 1, 1, 1, 1, 1, 1, 0, 1, 0, 0, 1, 0, 1, 1, 1, 1,\n",
       "        1, 0, 1, 1, 0, 1, 0, 1, 1, 0, 1, 0, 1, 1, 1, 1, 1, 1, 1, 1, 0, 0,\n",
       "        1, 1, 1, 1, 1, 1, 0, 1, 1, 1, 1, 1, 1, 1, 1, 1, 1, 0, 1, 1, 1, 1,\n",
       "        1, 1, 1, 0, 1, 0, 1, 1, 0, 1, 1, 1, 1, 1, 0, 0, 1, 0, 1, 0, 1, 1,\n",
       "        1, 1, 1, 0, 1, 1, 0, 1, 0, 1, 0, 0, 1, 1, 1, 0, 1, 1, 1, 1, 1, 1,\n",
       "        1, 1, 1, 1, 1, 0, 1, 0, 0, 1, 1, 1, 1, 1, 1, 1, 1, 1, 1, 1, 1, 1,\n",
       "        1, 1, 1, 1, 1, 1, 1, 1, 1, 1, 1, 1, 0, 0, 0, 0, 0, 0, 1]),\n",
       " 'frame': None,\n",
       " 'target_names': array(['malignant', 'benign'], dtype='<U9'),\n",
       " 'DESCR': '.. _breast_cancer_dataset:\\n\\nBreast cancer wisconsin (diagnostic) dataset\\n--------------------------------------------\\n\\n**Data Set Characteristics:**\\n\\n    :Number of Instances: 569\\n\\n    :Number of Attributes: 30 numeric, predictive attributes and the class\\n\\n    :Attribute Information:\\n        - radius (mean of distances from center to points on the perimeter)\\n        - texture (standard deviation of gray-scale values)\\n        - perimeter\\n        - area\\n        - smoothness (local variation in radius lengths)\\n        - compactness (perimeter^2 / area - 1.0)\\n        - concavity (severity of concave portions of the contour)\\n        - concave points (number of concave portions of the contour)\\n        - symmetry\\n        - fractal dimension (\"coastline approximation\" - 1)\\n\\n        The mean, standard error, and \"worst\" or largest (mean of the three\\n        worst/largest values) of these features were computed for each image,\\n        resulting in 30 features.  For instance, field 0 is Mean Radius, field\\n        10 is Radius SE, field 20 is Worst Radius.\\n\\n        - class:\\n                - WDBC-Malignant\\n                - WDBC-Benign\\n\\n    :Summary Statistics:\\n\\n    ===================================== ====== ======\\n                                           Min    Max\\n    ===================================== ====== ======\\n    radius (mean):                        6.981  28.11\\n    texture (mean):                       9.71   39.28\\n    perimeter (mean):                     43.79  188.5\\n    area (mean):                          143.5  2501.0\\n    smoothness (mean):                    0.053  0.163\\n    compactness (mean):                   0.019  0.345\\n    concavity (mean):                     0.0    0.427\\n    concave points (mean):                0.0    0.201\\n    symmetry (mean):                      0.106  0.304\\n    fractal dimension (mean):             0.05   0.097\\n    radius (standard error):              0.112  2.873\\n    texture (standard error):             0.36   4.885\\n    perimeter (standard error):           0.757  21.98\\n    area (standard error):                6.802  542.2\\n    smoothness (standard error):          0.002  0.031\\n    compactness (standard error):         0.002  0.135\\n    concavity (standard error):           0.0    0.396\\n    concave points (standard error):      0.0    0.053\\n    symmetry (standard error):            0.008  0.079\\n    fractal dimension (standard error):   0.001  0.03\\n    radius (worst):                       7.93   36.04\\n    texture (worst):                      12.02  49.54\\n    perimeter (worst):                    50.41  251.2\\n    area (worst):                         185.2  4254.0\\n    smoothness (worst):                   0.071  0.223\\n    compactness (worst):                  0.027  1.058\\n    concavity (worst):                    0.0    1.252\\n    concave points (worst):               0.0    0.291\\n    symmetry (worst):                     0.156  0.664\\n    fractal dimension (worst):            0.055  0.208\\n    ===================================== ====== ======\\n\\n    :Missing Attribute Values: None\\n\\n    :Class Distribution: 212 - Malignant, 357 - Benign\\n\\n    :Creator:  Dr. William H. Wolberg, W. Nick Street, Olvi L. Mangasarian\\n\\n    :Donor: Nick Street\\n\\n    :Date: November, 1995\\n\\nThis is a copy of UCI ML Breast Cancer Wisconsin (Diagnostic) datasets.\\nhttps://goo.gl/U2Uwz2\\n\\nFeatures are computed from a digitized image of a fine needle\\naspirate (FNA) of a breast mass.  They describe\\ncharacteristics of the cell nuclei present in the image.\\n\\nSeparating plane described above was obtained using\\nMultisurface Method-Tree (MSM-T) [K. P. Bennett, \"Decision Tree\\nConstruction Via Linear Programming.\" Proceedings of the 4th\\nMidwest Artificial Intelligence and Cognitive Science Society,\\npp. 97-101, 1992], a classification method which uses linear\\nprogramming to construct a decision tree.  Relevant features\\nwere selected using an exhaustive search in the space of 1-4\\nfeatures and 1-3 separating planes.\\n\\nThe actual linear program used to obtain the separating plane\\nin the 3-dimensional space is that described in:\\n[K. P. Bennett and O. L. Mangasarian: \"Robust Linear\\nProgramming Discrimination of Two Linearly Inseparable Sets\",\\nOptimization Methods and Software 1, 1992, 23-34].\\n\\nThis database is also available through the UW CS ftp server:\\n\\nftp ftp.cs.wisc.edu\\ncd math-prog/cpo-dataset/machine-learn/WDBC/\\n\\n.. topic:: References\\n\\n   - W.N. Street, W.H. Wolberg and O.L. Mangasarian. Nuclear feature extraction \\n     for breast tumor diagnosis. IS&T/SPIE 1993 International Symposium on \\n     Electronic Imaging: Science and Technology, volume 1905, pages 861-870,\\n     San Jose, CA, 1993.\\n   - O.L. Mangasarian, W.N. Street and W.H. Wolberg. Breast cancer diagnosis and \\n     prognosis via linear programming. Operations Research, 43(4), pages 570-577, \\n     July-August 1995.\\n   - W.H. Wolberg, W.N. Street, and O.L. Mangasarian. Machine learning techniques\\n     to diagnose breast cancer from fine-needle aspirates. Cancer Letters 77 (1994) \\n     163-171.',\n",
       " 'feature_names': array(['mean radius', 'mean texture', 'mean perimeter', 'mean area',\n",
       "        'mean smoothness', 'mean compactness', 'mean concavity',\n",
       "        'mean concave points', 'mean symmetry', 'mean fractal dimension',\n",
       "        'radius error', 'texture error', 'perimeter error', 'area error',\n",
       "        'smoothness error', 'compactness error', 'concavity error',\n",
       "        'concave points error', 'symmetry error',\n",
       "        'fractal dimension error', 'worst radius', 'worst texture',\n",
       "        'worst perimeter', 'worst area', 'worst smoothness',\n",
       "        'worst compactness', 'worst concavity', 'worst concave points',\n",
       "        'worst symmetry', 'worst fractal dimension'], dtype='<U23'),\n",
       " 'filename': 'C:\\\\Users\\\\USER\\\\anaconda3\\\\lib\\\\site-packages\\\\sklearn\\\\datasets\\\\data\\\\breast_cancer.csv'}"
      ]
     },
     "execution_count": 210,
     "metadata": {},
     "output_type": "execute_result"
    }
   ],
   "source": [
    "cancer"
   ]
  },
  {
   "cell_type": "code",
   "execution_count": 211,
   "id": "cfb790c3",
   "metadata": {},
   "outputs": [
    {
     "data": {
      "text/plain": [
       "array([[1.799e+01, 1.038e+01, 1.228e+02, ..., 2.654e-01, 4.601e-01,\n",
       "        1.189e-01],\n",
       "       [2.057e+01, 1.777e+01, 1.329e+02, ..., 1.860e-01, 2.750e-01,\n",
       "        8.902e-02],\n",
       "       [1.969e+01, 2.125e+01, 1.300e+02, ..., 2.430e-01, 3.613e-01,\n",
       "        8.758e-02],\n",
       "       ...,\n",
       "       [1.660e+01, 2.808e+01, 1.083e+02, ..., 1.418e-01, 2.218e-01,\n",
       "        7.820e-02],\n",
       "       [2.060e+01, 2.933e+01, 1.401e+02, ..., 2.650e-01, 4.087e-01,\n",
       "        1.240e-01],\n",
       "       [7.760e+00, 2.454e+01, 4.792e+01, ..., 0.000e+00, 2.871e-01,\n",
       "        7.039e-02]])"
      ]
     },
     "execution_count": 211,
     "metadata": {},
     "output_type": "execute_result"
    }
   ],
   "source": [
    "X_cancer"
   ]
  },
  {
   "cell_type": "code",
   "execution_count": 212,
   "id": "96bb068e",
   "metadata": {},
   "outputs": [
    {
     "data": {
      "text/plain": [
       "array([0, 0, 0, 0, 0, 0, 0, 0, 0, 0, 0, 0, 0, 0, 0, 0, 0, 0, 0, 1, 1, 1,\n",
       "       0, 0, 0, 0, 0, 0, 0, 0, 0, 0, 0, 0, 0, 0, 0, 1, 0, 0, 0, 0, 0, 0,\n",
       "       0, 0, 1, 0, 1, 1, 1, 1, 1, 0, 0, 1, 0, 0, 1, 1, 1, 1, 0, 1, 0, 0,\n",
       "       1, 1, 1, 1, 0, 1, 0, 0, 1, 0, 1, 0, 0, 1, 1, 1, 0, 0, 1, 0, 0, 0,\n",
       "       1, 1, 1, 0, 1, 1, 0, 0, 1, 1, 1, 0, 0, 1, 1, 1, 1, 0, 1, 1, 0, 1,\n",
       "       1, 1, 1, 1, 1, 1, 1, 0, 0, 0, 1, 0, 0, 1, 1, 1, 0, 0, 1, 0, 1, 0,\n",
       "       0, 1, 0, 0, 1, 1, 0, 1, 1, 0, 1, 1, 1, 1, 0, 1, 1, 1, 1, 1, 1, 1,\n",
       "       1, 1, 0, 1, 1, 1, 1, 0, 0, 1, 0, 1, 1, 0, 0, 1, 1, 0, 0, 1, 1, 1,\n",
       "       1, 0, 1, 1, 0, 0, 0, 1, 0, 1, 0, 1, 1, 1, 0, 1, 1, 0, 0, 1, 0, 0,\n",
       "       0, 0, 1, 0, 0, 0, 1, 0, 1, 0, 1, 1, 0, 1, 0, 0, 0, 0, 1, 1, 0, 0,\n",
       "       1, 1, 1, 0, 1, 1, 1, 1, 1, 0, 0, 1, 1, 0, 1, 1, 0, 0, 1, 0, 1, 1,\n",
       "       1, 1, 0, 1, 1, 1, 1, 1, 0, 1, 0, 0, 0, 0, 0, 0, 0, 0, 0, 0, 0, 0,\n",
       "       0, 0, 1, 1, 1, 1, 1, 1, 0, 1, 0, 1, 1, 0, 1, 1, 0, 1, 0, 0, 1, 1,\n",
       "       1, 1, 1, 1, 1, 1, 1, 1, 1, 1, 1, 0, 1, 1, 0, 1, 0, 1, 1, 1, 1, 1,\n",
       "       1, 1, 1, 1, 1, 1, 1, 1, 1, 0, 1, 1, 1, 0, 1, 0, 1, 1, 1, 1, 0, 0,\n",
       "       0, 1, 1, 1, 1, 0, 1, 0, 1, 0, 1, 1, 1, 0, 1, 1, 1, 1, 1, 1, 1, 0,\n",
       "       0, 0, 1, 1, 1, 1, 1, 1, 1, 1, 1, 1, 1, 0, 0, 1, 0, 0, 0, 1, 0, 0,\n",
       "       1, 1, 1, 1, 1, 0, 1, 1, 1, 1, 1, 0, 1, 1, 1, 0, 1, 1, 0, 0, 1, 1,\n",
       "       1, 1, 1, 1, 0, 1, 1, 1, 1, 1, 1, 1, 0, 1, 1, 1, 1, 1, 0, 1, 1, 0,\n",
       "       1, 1, 1, 1, 1, 1, 1, 1, 1, 1, 1, 1, 0, 1, 0, 0, 1, 0, 1, 1, 1, 1,\n",
       "       1, 0, 1, 1, 0, 1, 0, 1, 1, 0, 1, 0, 1, 1, 1, 1, 1, 1, 1, 1, 0, 0,\n",
       "       1, 1, 1, 1, 1, 1, 0, 1, 1, 1, 1, 1, 1, 1, 1, 1, 1, 0, 1, 1, 1, 1,\n",
       "       1, 1, 1, 0, 1, 0, 1, 1, 0, 1, 1, 1, 1, 1, 0, 0, 1, 0, 1, 0, 1, 1,\n",
       "       1, 1, 1, 0, 1, 1, 0, 1, 0, 1, 0, 0, 1, 1, 1, 0, 1, 1, 1, 1, 1, 1,\n",
       "       1, 1, 1, 1, 1, 0, 1, 0, 0, 1, 1, 1, 1, 1, 1, 1, 1, 1, 1, 1, 1, 1,\n",
       "       1, 1, 1, 1, 1, 1, 1, 1, 1, 1, 1, 1, 0, 0, 0, 0, 0, 0, 1])"
      ]
     },
     "execution_count": 212,
     "metadata": {},
     "output_type": "execute_result"
    }
   ],
   "source": [
    "y_cancer"
   ]
  },
  {
   "cell_type": "code",
   "execution_count": 213,
   "id": "c04b94ad",
   "metadata": {},
   "outputs": [],
   "source": [
    "X_train, X_test, y_train, y_test = tst(X_cancer, y_cancer, random_state = 0)"
   ]
  },
  {
   "cell_type": "code",
   "execution_count": 214,
   "id": "fd7e35c6",
   "metadata": {},
   "outputs": [],
   "source": [
    "from sklearn.linear_model import LogisticRegression as LoR"
   ]
  },
  {
   "cell_type": "code",
   "execution_count": 215,
   "id": "80b5b2e7",
   "metadata": {},
   "outputs": [
    {
     "name": "stderr",
     "output_type": "stream",
     "text": [
      "C:\\Users\\USER\\anaconda3\\lib\\site-packages\\sklearn\\linear_model\\_logistic.py:763: ConvergenceWarning: lbfgs failed to converge (status=1):\n",
      "STOP: TOTAL NO. of ITERATIONS REACHED LIMIT.\n",
      "\n",
      "Increase the number of iterations (max_iter) or scale the data as shown in:\n",
      "    https://scikit-learn.org/stable/modules/preprocessing.html\n",
      "Please also refer to the documentation for alternative solver options:\n",
      "    https://scikit-learn.org/stable/modules/linear_model.html#logistic-regression\n",
      "  n_iter_i = _check_optimize_result(\n"
     ]
    }
   ],
   "source": [
    "clf = LoR().fit(X_train, y_train)"
   ]
  },
  {
   "cell_type": "code",
   "execution_count": 216,
   "id": "f2e050f1",
   "metadata": {},
   "outputs": [
    {
     "name": "stdout",
     "output_type": "stream",
     "text": [
      "Breast cancer dataset\n",
      "Accuracy of Logistic Regression classifier on training set is: 0.96\n",
      "Accuracy of Logistic Regression classifier on test set is: 0.96\n"
     ]
    }
   ],
   "source": [
    "print(\"Breast cancer dataset\")\n",
    "print('Accuracy of Logistic Regression classifier on training set is: {:.2f}'.format(clf.score(X_train, y_train)))\n",
    "print('Accuracy of Logistic Regression classifier on test set is: {:.2f}'.format(clf.score(X_test, y_test)))"
   ]
  },
  {
   "cell_type": "markdown",
   "id": "27bf3b72",
   "metadata": {},
   "source": [
    "OVERfit: means that your model makes not accurate predictions;train error is very small and val/test error is large\n",
    "means when your ML model has a very high accuracy ranging from 97% - 99%, and it's not good. OVERFITTING models produce good predictions for data points in the training set but perform poorly on new samples.\n",
    "\n",
    "UNDERfit: means that your model makes accurate but initially incorrect predictions;train error is large and val/test error is very small.\n",
    "UNDERFITTING occurs when the machine learning model is not well-tuned to the training set. The resulting model is not capturing the relationship between input and output well enough"
   ]
  },
  {
   "cell_type": "code",
   "execution_count": null,
   "id": "6f72efa0",
   "metadata": {},
   "outputs": [],
   "source": []
  },
  {
   "cell_type": "markdown",
   "id": "bee3456b",
   "metadata": {},
   "source": [
    "# Multi class classification using SVM "
   ]
  },
  {
   "cell_type": "code",
   "execution_count": 222,
   "id": "05822a57",
   "metadata": {},
   "outputs": [],
   "source": [
    "import pandas as pd"
   ]
  },
  {
   "cell_type": "code",
   "execution_count": 223,
   "id": "18e1819a",
   "metadata": {},
   "outputs": [],
   "source": [
    "fruits = pd.read_table('fruit_data_with_colors.txt')"
   ]
  },
  {
   "cell_type": "code",
   "execution_count": 236,
   "id": "26439d96",
   "metadata": {},
   "outputs": [
    {
     "data": {
      "text/html": [
       "<div>\n",
       "<style scoped>\n",
       "    .dataframe tbody tr th:only-of-type {\n",
       "        vertical-align: middle;\n",
       "    }\n",
       "\n",
       "    .dataframe tbody tr th {\n",
       "        vertical-align: top;\n",
       "    }\n",
       "\n",
       "    .dataframe thead th {\n",
       "        text-align: right;\n",
       "    }\n",
       "</style>\n",
       "<table border=\"1\" class=\"dataframe\">\n",
       "  <thead>\n",
       "    <tr style=\"text-align: right;\">\n",
       "      <th></th>\n",
       "      <th>fruit_label</th>\n",
       "      <th>fruit_name</th>\n",
       "      <th>fruit_subtype</th>\n",
       "      <th>mass</th>\n",
       "      <th>width</th>\n",
       "      <th>height</th>\n",
       "      <th>color_score</th>\n",
       "    </tr>\n",
       "  </thead>\n",
       "  <tbody>\n",
       "    <tr>\n",
       "      <th>0</th>\n",
       "      <td>1</td>\n",
       "      <td>apple</td>\n",
       "      <td>granny_smith</td>\n",
       "      <td>192</td>\n",
       "      <td>8.4</td>\n",
       "      <td>7.3</td>\n",
       "      <td>0.55</td>\n",
       "    </tr>\n",
       "    <tr>\n",
       "      <th>1</th>\n",
       "      <td>1</td>\n",
       "      <td>apple</td>\n",
       "      <td>granny_smith</td>\n",
       "      <td>180</td>\n",
       "      <td>8.0</td>\n",
       "      <td>6.8</td>\n",
       "      <td>0.59</td>\n",
       "    </tr>\n",
       "    <tr>\n",
       "      <th>2</th>\n",
       "      <td>1</td>\n",
       "      <td>apple</td>\n",
       "      <td>granny_smith</td>\n",
       "      <td>176</td>\n",
       "      <td>7.4</td>\n",
       "      <td>7.2</td>\n",
       "      <td>0.60</td>\n",
       "    </tr>\n",
       "    <tr>\n",
       "      <th>3</th>\n",
       "      <td>2</td>\n",
       "      <td>mandarin</td>\n",
       "      <td>mandarin</td>\n",
       "      <td>86</td>\n",
       "      <td>6.2</td>\n",
       "      <td>4.7</td>\n",
       "      <td>0.80</td>\n",
       "    </tr>\n",
       "    <tr>\n",
       "      <th>4</th>\n",
       "      <td>2</td>\n",
       "      <td>mandarin</td>\n",
       "      <td>mandarin</td>\n",
       "      <td>84</td>\n",
       "      <td>6.0</td>\n",
       "      <td>4.6</td>\n",
       "      <td>0.79</td>\n",
       "    </tr>\n",
       "    <tr>\n",
       "      <th>5</th>\n",
       "      <td>2</td>\n",
       "      <td>mandarin</td>\n",
       "      <td>mandarin</td>\n",
       "      <td>80</td>\n",
       "      <td>5.8</td>\n",
       "      <td>4.3</td>\n",
       "      <td>0.77</td>\n",
       "    </tr>\n",
       "    <tr>\n",
       "      <th>6</th>\n",
       "      <td>2</td>\n",
       "      <td>mandarin</td>\n",
       "      <td>mandarin</td>\n",
       "      <td>80</td>\n",
       "      <td>5.9</td>\n",
       "      <td>4.3</td>\n",
       "      <td>0.81</td>\n",
       "    </tr>\n",
       "    <tr>\n",
       "      <th>7</th>\n",
       "      <td>2</td>\n",
       "      <td>mandarin</td>\n",
       "      <td>mandarin</td>\n",
       "      <td>76</td>\n",
       "      <td>5.8</td>\n",
       "      <td>4.0</td>\n",
       "      <td>0.81</td>\n",
       "    </tr>\n",
       "    <tr>\n",
       "      <th>8</th>\n",
       "      <td>1</td>\n",
       "      <td>apple</td>\n",
       "      <td>braeburn</td>\n",
       "      <td>178</td>\n",
       "      <td>7.1</td>\n",
       "      <td>7.8</td>\n",
       "      <td>0.92</td>\n",
       "    </tr>\n",
       "    <tr>\n",
       "      <th>9</th>\n",
       "      <td>1</td>\n",
       "      <td>apple</td>\n",
       "      <td>braeburn</td>\n",
       "      <td>172</td>\n",
       "      <td>7.4</td>\n",
       "      <td>7.0</td>\n",
       "      <td>0.89</td>\n",
       "    </tr>\n",
       "    <tr>\n",
       "      <th>10</th>\n",
       "      <td>1</td>\n",
       "      <td>apple</td>\n",
       "      <td>braeburn</td>\n",
       "      <td>166</td>\n",
       "      <td>6.9</td>\n",
       "      <td>7.3</td>\n",
       "      <td>0.93</td>\n",
       "    </tr>\n",
       "    <tr>\n",
       "      <th>11</th>\n",
       "      <td>1</td>\n",
       "      <td>apple</td>\n",
       "      <td>braeburn</td>\n",
       "      <td>172</td>\n",
       "      <td>7.1</td>\n",
       "      <td>7.6</td>\n",
       "      <td>0.92</td>\n",
       "    </tr>\n",
       "    <tr>\n",
       "      <th>12</th>\n",
       "      <td>1</td>\n",
       "      <td>apple</td>\n",
       "      <td>braeburn</td>\n",
       "      <td>154</td>\n",
       "      <td>7.0</td>\n",
       "      <td>7.1</td>\n",
       "      <td>0.88</td>\n",
       "    </tr>\n",
       "    <tr>\n",
       "      <th>13</th>\n",
       "      <td>1</td>\n",
       "      <td>apple</td>\n",
       "      <td>golden_delicious</td>\n",
       "      <td>164</td>\n",
       "      <td>7.3</td>\n",
       "      <td>7.7</td>\n",
       "      <td>0.70</td>\n",
       "    </tr>\n",
       "    <tr>\n",
       "      <th>14</th>\n",
       "      <td>1</td>\n",
       "      <td>apple</td>\n",
       "      <td>golden_delicious</td>\n",
       "      <td>152</td>\n",
       "      <td>7.6</td>\n",
       "      <td>7.3</td>\n",
       "      <td>0.69</td>\n",
       "    </tr>\n",
       "    <tr>\n",
       "      <th>15</th>\n",
       "      <td>1</td>\n",
       "      <td>apple</td>\n",
       "      <td>golden_delicious</td>\n",
       "      <td>156</td>\n",
       "      <td>7.7</td>\n",
       "      <td>7.1</td>\n",
       "      <td>0.69</td>\n",
       "    </tr>\n",
       "    <tr>\n",
       "      <th>16</th>\n",
       "      <td>1</td>\n",
       "      <td>apple</td>\n",
       "      <td>golden_delicious</td>\n",
       "      <td>156</td>\n",
       "      <td>7.6</td>\n",
       "      <td>7.5</td>\n",
       "      <td>0.67</td>\n",
       "    </tr>\n",
       "    <tr>\n",
       "      <th>17</th>\n",
       "      <td>1</td>\n",
       "      <td>apple</td>\n",
       "      <td>golden_delicious</td>\n",
       "      <td>168</td>\n",
       "      <td>7.5</td>\n",
       "      <td>7.6</td>\n",
       "      <td>0.73</td>\n",
       "    </tr>\n",
       "    <tr>\n",
       "      <th>18</th>\n",
       "      <td>1</td>\n",
       "      <td>apple</td>\n",
       "      <td>cripps_pink</td>\n",
       "      <td>162</td>\n",
       "      <td>7.5</td>\n",
       "      <td>7.1</td>\n",
       "      <td>0.83</td>\n",
       "    </tr>\n",
       "    <tr>\n",
       "      <th>19</th>\n",
       "      <td>1</td>\n",
       "      <td>apple</td>\n",
       "      <td>cripps_pink</td>\n",
       "      <td>162</td>\n",
       "      <td>7.4</td>\n",
       "      <td>7.2</td>\n",
       "      <td>0.85</td>\n",
       "    </tr>\n",
       "    <tr>\n",
       "      <th>20</th>\n",
       "      <td>1</td>\n",
       "      <td>apple</td>\n",
       "      <td>cripps_pink</td>\n",
       "      <td>160</td>\n",
       "      <td>7.5</td>\n",
       "      <td>7.5</td>\n",
       "      <td>0.86</td>\n",
       "    </tr>\n",
       "    <tr>\n",
       "      <th>21</th>\n",
       "      <td>1</td>\n",
       "      <td>apple</td>\n",
       "      <td>cripps_pink</td>\n",
       "      <td>156</td>\n",
       "      <td>7.4</td>\n",
       "      <td>7.4</td>\n",
       "      <td>0.84</td>\n",
       "    </tr>\n",
       "    <tr>\n",
       "      <th>22</th>\n",
       "      <td>1</td>\n",
       "      <td>apple</td>\n",
       "      <td>cripps_pink</td>\n",
       "      <td>140</td>\n",
       "      <td>7.3</td>\n",
       "      <td>7.1</td>\n",
       "      <td>0.87</td>\n",
       "    </tr>\n",
       "    <tr>\n",
       "      <th>23</th>\n",
       "      <td>1</td>\n",
       "      <td>apple</td>\n",
       "      <td>cripps_pink</td>\n",
       "      <td>170</td>\n",
       "      <td>7.6</td>\n",
       "      <td>7.9</td>\n",
       "      <td>0.88</td>\n",
       "    </tr>\n",
       "    <tr>\n",
       "      <th>24</th>\n",
       "      <td>3</td>\n",
       "      <td>orange</td>\n",
       "      <td>spanish_jumbo</td>\n",
       "      <td>342</td>\n",
       "      <td>9.0</td>\n",
       "      <td>9.4</td>\n",
       "      <td>0.75</td>\n",
       "    </tr>\n",
       "    <tr>\n",
       "      <th>25</th>\n",
       "      <td>3</td>\n",
       "      <td>orange</td>\n",
       "      <td>spanish_jumbo</td>\n",
       "      <td>356</td>\n",
       "      <td>9.2</td>\n",
       "      <td>9.2</td>\n",
       "      <td>0.75</td>\n",
       "    </tr>\n",
       "    <tr>\n",
       "      <th>26</th>\n",
       "      <td>3</td>\n",
       "      <td>orange</td>\n",
       "      <td>spanish_jumbo</td>\n",
       "      <td>362</td>\n",
       "      <td>9.6</td>\n",
       "      <td>9.2</td>\n",
       "      <td>0.74</td>\n",
       "    </tr>\n",
       "    <tr>\n",
       "      <th>27</th>\n",
       "      <td>3</td>\n",
       "      <td>orange</td>\n",
       "      <td>selected_seconds</td>\n",
       "      <td>204</td>\n",
       "      <td>7.5</td>\n",
       "      <td>9.2</td>\n",
       "      <td>0.77</td>\n",
       "    </tr>\n",
       "    <tr>\n",
       "      <th>28</th>\n",
       "      <td>3</td>\n",
       "      <td>orange</td>\n",
       "      <td>selected_seconds</td>\n",
       "      <td>140</td>\n",
       "      <td>6.7</td>\n",
       "      <td>7.1</td>\n",
       "      <td>0.72</td>\n",
       "    </tr>\n",
       "    <tr>\n",
       "      <th>29</th>\n",
       "      <td>3</td>\n",
       "      <td>orange</td>\n",
       "      <td>selected_seconds</td>\n",
       "      <td>160</td>\n",
       "      <td>7.0</td>\n",
       "      <td>7.4</td>\n",
       "      <td>0.81</td>\n",
       "    </tr>\n",
       "    <tr>\n",
       "      <th>30</th>\n",
       "      <td>3</td>\n",
       "      <td>orange</td>\n",
       "      <td>selected_seconds</td>\n",
       "      <td>158</td>\n",
       "      <td>7.1</td>\n",
       "      <td>7.5</td>\n",
       "      <td>0.79</td>\n",
       "    </tr>\n",
       "    <tr>\n",
       "      <th>31</th>\n",
       "      <td>3</td>\n",
       "      <td>orange</td>\n",
       "      <td>selected_seconds</td>\n",
       "      <td>210</td>\n",
       "      <td>7.8</td>\n",
       "      <td>8.0</td>\n",
       "      <td>0.82</td>\n",
       "    </tr>\n",
       "    <tr>\n",
       "      <th>32</th>\n",
       "      <td>3</td>\n",
       "      <td>orange</td>\n",
       "      <td>selected_seconds</td>\n",
       "      <td>164</td>\n",
       "      <td>7.2</td>\n",
       "      <td>7.0</td>\n",
       "      <td>0.80</td>\n",
       "    </tr>\n",
       "    <tr>\n",
       "      <th>33</th>\n",
       "      <td>3</td>\n",
       "      <td>orange</td>\n",
       "      <td>turkey_navel</td>\n",
       "      <td>190</td>\n",
       "      <td>7.5</td>\n",
       "      <td>8.1</td>\n",
       "      <td>0.74</td>\n",
       "    </tr>\n",
       "    <tr>\n",
       "      <th>34</th>\n",
       "      <td>3</td>\n",
       "      <td>orange</td>\n",
       "      <td>turkey_navel</td>\n",
       "      <td>142</td>\n",
       "      <td>7.6</td>\n",
       "      <td>7.8</td>\n",
       "      <td>0.75</td>\n",
       "    </tr>\n",
       "    <tr>\n",
       "      <th>35</th>\n",
       "      <td>3</td>\n",
       "      <td>orange</td>\n",
       "      <td>turkey_navel</td>\n",
       "      <td>150</td>\n",
       "      <td>7.1</td>\n",
       "      <td>7.9</td>\n",
       "      <td>0.75</td>\n",
       "    </tr>\n",
       "    <tr>\n",
       "      <th>36</th>\n",
       "      <td>3</td>\n",
       "      <td>orange</td>\n",
       "      <td>turkey_navel</td>\n",
       "      <td>160</td>\n",
       "      <td>7.1</td>\n",
       "      <td>7.6</td>\n",
       "      <td>0.76</td>\n",
       "    </tr>\n",
       "    <tr>\n",
       "      <th>37</th>\n",
       "      <td>3</td>\n",
       "      <td>orange</td>\n",
       "      <td>turkey_navel</td>\n",
       "      <td>154</td>\n",
       "      <td>7.3</td>\n",
       "      <td>7.3</td>\n",
       "      <td>0.79</td>\n",
       "    </tr>\n",
       "    <tr>\n",
       "      <th>38</th>\n",
       "      <td>3</td>\n",
       "      <td>orange</td>\n",
       "      <td>turkey_navel</td>\n",
       "      <td>158</td>\n",
       "      <td>7.2</td>\n",
       "      <td>7.8</td>\n",
       "      <td>0.77</td>\n",
       "    </tr>\n",
       "    <tr>\n",
       "      <th>39</th>\n",
       "      <td>3</td>\n",
       "      <td>orange</td>\n",
       "      <td>turkey_navel</td>\n",
       "      <td>144</td>\n",
       "      <td>6.8</td>\n",
       "      <td>7.4</td>\n",
       "      <td>0.75</td>\n",
       "    </tr>\n",
       "    <tr>\n",
       "      <th>40</th>\n",
       "      <td>3</td>\n",
       "      <td>orange</td>\n",
       "      <td>turkey_navel</td>\n",
       "      <td>154</td>\n",
       "      <td>7.1</td>\n",
       "      <td>7.5</td>\n",
       "      <td>0.78</td>\n",
       "    </tr>\n",
       "    <tr>\n",
       "      <th>41</th>\n",
       "      <td>3</td>\n",
       "      <td>orange</td>\n",
       "      <td>turkey_navel</td>\n",
       "      <td>180</td>\n",
       "      <td>7.6</td>\n",
       "      <td>8.2</td>\n",
       "      <td>0.79</td>\n",
       "    </tr>\n",
       "    <tr>\n",
       "      <th>42</th>\n",
       "      <td>3</td>\n",
       "      <td>orange</td>\n",
       "      <td>turkey_navel</td>\n",
       "      <td>154</td>\n",
       "      <td>7.2</td>\n",
       "      <td>7.2</td>\n",
       "      <td>0.82</td>\n",
       "    </tr>\n",
       "    <tr>\n",
       "      <th>43</th>\n",
       "      <td>4</td>\n",
       "      <td>lemon</td>\n",
       "      <td>spanish_belsan</td>\n",
       "      <td>194</td>\n",
       "      <td>7.2</td>\n",
       "      <td>10.3</td>\n",
       "      <td>0.70</td>\n",
       "    </tr>\n",
       "    <tr>\n",
       "      <th>44</th>\n",
       "      <td>4</td>\n",
       "      <td>lemon</td>\n",
       "      <td>spanish_belsan</td>\n",
       "      <td>200</td>\n",
       "      <td>7.3</td>\n",
       "      <td>10.5</td>\n",
       "      <td>0.72</td>\n",
       "    </tr>\n",
       "    <tr>\n",
       "      <th>45</th>\n",
       "      <td>4</td>\n",
       "      <td>lemon</td>\n",
       "      <td>spanish_belsan</td>\n",
       "      <td>186</td>\n",
       "      <td>7.2</td>\n",
       "      <td>9.2</td>\n",
       "      <td>0.72</td>\n",
       "    </tr>\n",
       "    <tr>\n",
       "      <th>46</th>\n",
       "      <td>4</td>\n",
       "      <td>lemon</td>\n",
       "      <td>spanish_belsan</td>\n",
       "      <td>216</td>\n",
       "      <td>7.3</td>\n",
       "      <td>10.2</td>\n",
       "      <td>0.71</td>\n",
       "    </tr>\n",
       "    <tr>\n",
       "      <th>47</th>\n",
       "      <td>4</td>\n",
       "      <td>lemon</td>\n",
       "      <td>spanish_belsan</td>\n",
       "      <td>196</td>\n",
       "      <td>7.3</td>\n",
       "      <td>9.7</td>\n",
       "      <td>0.72</td>\n",
       "    </tr>\n",
       "    <tr>\n",
       "      <th>48</th>\n",
       "      <td>4</td>\n",
       "      <td>lemon</td>\n",
       "      <td>spanish_belsan</td>\n",
       "      <td>174</td>\n",
       "      <td>7.3</td>\n",
       "      <td>10.1</td>\n",
       "      <td>0.72</td>\n",
       "    </tr>\n",
       "    <tr>\n",
       "      <th>49</th>\n",
       "      <td>4</td>\n",
       "      <td>lemon</td>\n",
       "      <td>unknown</td>\n",
       "      <td>132</td>\n",
       "      <td>5.8</td>\n",
       "      <td>8.7</td>\n",
       "      <td>0.73</td>\n",
       "    </tr>\n",
       "  </tbody>\n",
       "</table>\n",
       "</div>"
      ],
      "text/plain": [
       "    fruit_label fruit_name     fruit_subtype  mass  width  height  color_score\n",
       "0             1      apple      granny_smith   192    8.4     7.3         0.55\n",
       "1             1      apple      granny_smith   180    8.0     6.8         0.59\n",
       "2             1      apple      granny_smith   176    7.4     7.2         0.60\n",
       "3             2   mandarin          mandarin    86    6.2     4.7         0.80\n",
       "4             2   mandarin          mandarin    84    6.0     4.6         0.79\n",
       "5             2   mandarin          mandarin    80    5.8     4.3         0.77\n",
       "6             2   mandarin          mandarin    80    5.9     4.3         0.81\n",
       "7             2   mandarin          mandarin    76    5.8     4.0         0.81\n",
       "8             1      apple          braeburn   178    7.1     7.8         0.92\n",
       "9             1      apple          braeburn   172    7.4     7.0         0.89\n",
       "10            1      apple          braeburn   166    6.9     7.3         0.93\n",
       "11            1      apple          braeburn   172    7.1     7.6         0.92\n",
       "12            1      apple          braeburn   154    7.0     7.1         0.88\n",
       "13            1      apple  golden_delicious   164    7.3     7.7         0.70\n",
       "14            1      apple  golden_delicious   152    7.6     7.3         0.69\n",
       "15            1      apple  golden_delicious   156    7.7     7.1         0.69\n",
       "16            1      apple  golden_delicious   156    7.6     7.5         0.67\n",
       "17            1      apple  golden_delicious   168    7.5     7.6         0.73\n",
       "18            1      apple       cripps_pink   162    7.5     7.1         0.83\n",
       "19            1      apple       cripps_pink   162    7.4     7.2         0.85\n",
       "20            1      apple       cripps_pink   160    7.5     7.5         0.86\n",
       "21            1      apple       cripps_pink   156    7.4     7.4         0.84\n",
       "22            1      apple       cripps_pink   140    7.3     7.1         0.87\n",
       "23            1      apple       cripps_pink   170    7.6     7.9         0.88\n",
       "24            3     orange     spanish_jumbo   342    9.0     9.4         0.75\n",
       "25            3     orange     spanish_jumbo   356    9.2     9.2         0.75\n",
       "26            3     orange     spanish_jumbo   362    9.6     9.2         0.74\n",
       "27            3     orange  selected_seconds   204    7.5     9.2         0.77\n",
       "28            3     orange  selected_seconds   140    6.7     7.1         0.72\n",
       "29            3     orange  selected_seconds   160    7.0     7.4         0.81\n",
       "30            3     orange  selected_seconds   158    7.1     7.5         0.79\n",
       "31            3     orange  selected_seconds   210    7.8     8.0         0.82\n",
       "32            3     orange  selected_seconds   164    7.2     7.0         0.80\n",
       "33            3     orange      turkey_navel   190    7.5     8.1         0.74\n",
       "34            3     orange      turkey_navel   142    7.6     7.8         0.75\n",
       "35            3     orange      turkey_navel   150    7.1     7.9         0.75\n",
       "36            3     orange      turkey_navel   160    7.1     7.6         0.76\n",
       "37            3     orange      turkey_navel   154    7.3     7.3         0.79\n",
       "38            3     orange      turkey_navel   158    7.2     7.8         0.77\n",
       "39            3     orange      turkey_navel   144    6.8     7.4         0.75\n",
       "40            3     orange      turkey_navel   154    7.1     7.5         0.78\n",
       "41            3     orange      turkey_navel   180    7.6     8.2         0.79\n",
       "42            3     orange      turkey_navel   154    7.2     7.2         0.82\n",
       "43            4      lemon    spanish_belsan   194    7.2    10.3         0.70\n",
       "44            4      lemon    spanish_belsan   200    7.3    10.5         0.72\n",
       "45            4      lemon    spanish_belsan   186    7.2     9.2         0.72\n",
       "46            4      lemon    spanish_belsan   216    7.3    10.2         0.71\n",
       "47            4      lemon    spanish_belsan   196    7.3     9.7         0.72\n",
       "48            4      lemon    spanish_belsan   174    7.3    10.1         0.72\n",
       "49            4      lemon           unknown   132    5.8     8.7         0.73"
      ]
     },
     "execution_count": 236,
     "metadata": {},
     "output_type": "execute_result"
    }
   ],
   "source": [
    "fruits.head(50)"
   ]
  },
  {
   "cell_type": "code",
   "execution_count": 225,
   "id": "7b04967b",
   "metadata": {},
   "outputs": [
    {
     "data": {
      "text/html": [
       "<div>\n",
       "<style scoped>\n",
       "    .dataframe tbody tr th:only-of-type {\n",
       "        vertical-align: middle;\n",
       "    }\n",
       "\n",
       "    .dataframe tbody tr th {\n",
       "        vertical-align: top;\n",
       "    }\n",
       "\n",
       "    .dataframe thead th {\n",
       "        text-align: right;\n",
       "    }\n",
       "</style>\n",
       "<table border=\"1\" class=\"dataframe\">\n",
       "  <thead>\n",
       "    <tr style=\"text-align: right;\">\n",
       "      <th></th>\n",
       "      <th>fruit_label</th>\n",
       "      <th>mass</th>\n",
       "      <th>width</th>\n",
       "      <th>height</th>\n",
       "      <th>color_score</th>\n",
       "    </tr>\n",
       "  </thead>\n",
       "  <tbody>\n",
       "    <tr>\n",
       "      <th>count</th>\n",
       "      <td>59.000000</td>\n",
       "      <td>59.000000</td>\n",
       "      <td>59.000000</td>\n",
       "      <td>59.000000</td>\n",
       "      <td>59.000000</td>\n",
       "    </tr>\n",
       "    <tr>\n",
       "      <th>mean</th>\n",
       "      <td>2.542373</td>\n",
       "      <td>163.118644</td>\n",
       "      <td>7.105085</td>\n",
       "      <td>7.693220</td>\n",
       "      <td>0.762881</td>\n",
       "    </tr>\n",
       "    <tr>\n",
       "      <th>std</th>\n",
       "      <td>1.208048</td>\n",
       "      <td>55.018832</td>\n",
       "      <td>0.816938</td>\n",
       "      <td>1.361017</td>\n",
       "      <td>0.076857</td>\n",
       "    </tr>\n",
       "    <tr>\n",
       "      <th>min</th>\n",
       "      <td>1.000000</td>\n",
       "      <td>76.000000</td>\n",
       "      <td>5.800000</td>\n",
       "      <td>4.000000</td>\n",
       "      <td>0.550000</td>\n",
       "    </tr>\n",
       "    <tr>\n",
       "      <th>25%</th>\n",
       "      <td>1.000000</td>\n",
       "      <td>140.000000</td>\n",
       "      <td>6.600000</td>\n",
       "      <td>7.200000</td>\n",
       "      <td>0.720000</td>\n",
       "    </tr>\n",
       "    <tr>\n",
       "      <th>50%</th>\n",
       "      <td>3.000000</td>\n",
       "      <td>158.000000</td>\n",
       "      <td>7.200000</td>\n",
       "      <td>7.600000</td>\n",
       "      <td>0.750000</td>\n",
       "    </tr>\n",
       "    <tr>\n",
       "      <th>75%</th>\n",
       "      <td>4.000000</td>\n",
       "      <td>177.000000</td>\n",
       "      <td>7.500000</td>\n",
       "      <td>8.200000</td>\n",
       "      <td>0.810000</td>\n",
       "    </tr>\n",
       "    <tr>\n",
       "      <th>max</th>\n",
       "      <td>4.000000</td>\n",
       "      <td>362.000000</td>\n",
       "      <td>9.600000</td>\n",
       "      <td>10.500000</td>\n",
       "      <td>0.930000</td>\n",
       "    </tr>\n",
       "  </tbody>\n",
       "</table>\n",
       "</div>"
      ],
      "text/plain": [
       "       fruit_label        mass      width     height  color_score\n",
       "count    59.000000   59.000000  59.000000  59.000000    59.000000\n",
       "mean      2.542373  163.118644   7.105085   7.693220     0.762881\n",
       "std       1.208048   55.018832   0.816938   1.361017     0.076857\n",
       "min       1.000000   76.000000   5.800000   4.000000     0.550000\n",
       "25%       1.000000  140.000000   6.600000   7.200000     0.720000\n",
       "50%       3.000000  158.000000   7.200000   7.600000     0.750000\n",
       "75%       4.000000  177.000000   7.500000   8.200000     0.810000\n",
       "max       4.000000  362.000000   9.600000  10.500000     0.930000"
      ]
     },
     "execution_count": 225,
     "metadata": {},
     "output_type": "execute_result"
    }
   ],
   "source": [
    "fruits.describe()"
   ]
  },
  {
   "cell_type": "code",
   "execution_count": 226,
   "id": "5fc8edc6",
   "metadata": {},
   "outputs": [
    {
     "data": {
      "text/plain": [
       "fruit_label      0\n",
       "fruit_name       0\n",
       "fruit_subtype    0\n",
       "mass             0\n",
       "width            0\n",
       "height           0\n",
       "color_score      0\n",
       "dtype: int64"
      ]
     },
     "execution_count": 226,
     "metadata": {},
     "output_type": "execute_result"
    }
   ],
   "source": [
    "fruits.isnull().sum()"
   ]
  },
  {
   "cell_type": "code",
   "execution_count": 232,
   "id": "568a593c",
   "metadata": {},
   "outputs": [
    {
     "data": {
      "text/plain": [
       "0        apple\n",
       "1        apple\n",
       "2        apple\n",
       "3     mandarin\n",
       "4     mandarin\n",
       "5     mandarin\n",
       "6     mandarin\n",
       "7     mandarin\n",
       "8        apple\n",
       "9        apple\n",
       "10       apple\n",
       "11       apple\n",
       "12       apple\n",
       "13       apple\n",
       "14       apple\n",
       "15       apple\n",
       "16       apple\n",
       "17       apple\n",
       "18       apple\n",
       "19       apple\n",
       "20       apple\n",
       "21       apple\n",
       "22       apple\n",
       "23       apple\n",
       "24      orange\n",
       "25      orange\n",
       "26      orange\n",
       "27      orange\n",
       "28      orange\n",
       "29      orange\n",
       "30      orange\n",
       "31      orange\n",
       "32      orange\n",
       "33      orange\n",
       "34      orange\n",
       "35      orange\n",
       "36      orange\n",
       "37      orange\n",
       "38      orange\n",
       "39      orange\n",
       "40      orange\n",
       "41      orange\n",
       "42      orange\n",
       "43       lemon\n",
       "44       lemon\n",
       "45       lemon\n",
       "46       lemon\n",
       "47       lemon\n",
       "48       lemon\n",
       "49       lemon\n",
       "50       lemon\n",
       "51       lemon\n",
       "52       lemon\n",
       "53       lemon\n",
       "54       lemon\n",
       "55       lemon\n",
       "56       lemon\n",
       "57       lemon\n",
       "58       lemon\n",
       "Name: fruit_name, dtype: object"
      ]
     },
     "execution_count": 232,
     "metadata": {},
     "output_type": "execute_result"
    }
   ],
   "source": [
    "# for col in fruit_name\n",
    "all_fruits = fruits['fruit_name']\n",
    "all_fruits"
   ]
  },
  {
   "cell_type": "code",
   "execution_count": 233,
   "id": "4ca5b8cf",
   "metadata": {},
   "outputs": [
    {
     "data": {
      "text/plain": [
       "59"
      ]
     },
     "execution_count": 233,
     "metadata": {},
     "output_type": "execute_result"
    }
   ],
   "source": [
    "all_fruits.count()"
   ]
  },
  {
   "cell_type": "code",
   "execution_count": 237,
   "id": "4ad8db33",
   "metadata": {},
   "outputs": [],
   "source": [
    "featues_new_fruits = ['mass', 'width', 'height', 'color_score']\n",
    "X_fruits = fruits[featues_new_fruits]\n",
    "y_fruits = fruits['fruit_label']\n",
    "target_new_fruits = ['apple', 'mandarin', 'orange', 'lemon']"
   ]
  },
  {
   "cell_type": "code",
   "execution_count": 242,
   "id": "7cfa99fd",
   "metadata": {},
   "outputs": [],
   "source": [
    "from sklearn.svm import SVC #[Support Vector Classifier]"
   ]
  },
  {
   "cell_type": "code",
   "execution_count": 244,
   "id": "73eab55c",
   "metadata": {},
   "outputs": [],
   "source": [
    "X_train, X_test, y_train, y_test = tst(X_fruits, y_fruits, random_state = 0)"
   ]
  },
  {
   "cell_type": "code",
   "execution_count": 270,
   "id": "7260cfab",
   "metadata": {},
   "outputs": [],
   "source": [
    "clf = SVC(C =30, random_state = 100).fit(X_train, y_train) #C is penalty parameter of error term\n",
    "# the C parameter tells the SVM optimization how much you want to avoid misclassifying each training example"
   ]
  },
  {
   "cell_type": "markdown",
   "id": "46f8dfc5",
   "metadata": {},
   "source": [
    "A high value of C tells the model to give more weight to the training data, and a lower value of C will indicate the model to give complexity more weight at the cost of fitting the data"
   ]
  },
  {
   "cell_type": "markdown",
   "id": "a440d4c9",
   "metadata": {},
   "source": [
    "After choosing the value of C and a score has been gotten; A score BELOW 0.5 indicates a VERY POOR model, A score OF 0.5 means that the model is no better than predicting an OUTCOME than RANDOM chance, scores OVER 0.7 indicates a GOOD model, scores OVER 0.8 indicates a STRONG model"
   ]
  },
  {
   "cell_type": "code",
   "execution_count": 271,
   "id": "466e7d94",
   "metadata": {},
   "outputs": [
    {
     "data": {
      "text/plain": [
       "0.7045454545454546"
      ]
     },
     "execution_count": 271,
     "metadata": {},
     "output_type": "execute_result"
    }
   ],
   "source": [
    "clf.score(X_train, y_train)"
   ]
  },
  {
   "cell_type": "code",
   "execution_count": 272,
   "id": "10f4896d",
   "metadata": {},
   "outputs": [
    {
     "data": {
      "text/plain": [
       "0.4"
      ]
     },
     "execution_count": 272,
     "metadata": {},
     "output_type": "execute_result"
    }
   ],
   "source": [
    "clf.score(X_test, y_test)"
   ]
  },
  {
   "cell_type": "code",
   "execution_count": 276,
   "id": "d9cbf9ee",
   "metadata": {},
   "outputs": [
    {
     "data": {
      "text/plain": [
       "array([3, 1, 1, 1, 1, 1, 1, 3, 1, 1, 2, 1, 1, 1, 1], dtype=int64)"
      ]
     },
     "execution_count": 276,
     "metadata": {},
     "output_type": "execute_result"
    }
   ],
   "source": [
    "clf.predict(X_test)"
   ]
  },
  {
   "cell_type": "code",
   "execution_count": 18,
   "id": "23c32d95",
   "metadata": {},
   "outputs": [
    {
     "name": "stdout",
     "output_type": "stream",
     "text": [
      "64\n"
     ]
    }
   ],
   "source": [
    "import numpy as np\n",
    "f = 0\n",
    "w = np.array([1, 2, 3, 4])\n",
    "x = np.array([-1, 4, 3, 2])\n",
    "b = 40\n",
    "f = np.dot(w,x) + b\n",
    "print(f)"
   ]
  },
  {
   "cell_type": "code",
   "execution_count": 13,
   "id": "6782911c",
   "metadata": {},
   "outputs": [
    {
     "name": "stdout",
     "output_type": "stream",
     "text": [
      "NumPy 1-D np.dot((w, x) + b) = 64\n"
     ]
    }
   ],
   "source": [
    "import numpy as np\n",
    "w = np.array([1, 2, 3, 4])\n",
    "x = np.array([-1, 4, 3, 2])\n",
    "b = 40\n",
    "f = np.dot(w, x)\n",
    "a = f + b\n",
    "print(f\"NumPy 1-D np.dot((w, x) + b) = {a}\")"
   ]
  },
  {
   "cell_type": "code",
   "execution_count": 32,
   "id": "63b064ec",
   "metadata": {},
   "outputs": [
    {
     "name": "stdout",
     "output_type": "stream",
     "text": [
      "[-10  -9  -8  -7  -6  -5  -4  -3  -2]\n"
     ]
    }
   ],
   "source": [
    "a = np.arange(-10, -1)\n",
    "print(a)"
   ]
  },
  {
   "cell_type": "code",
   "execution_count": 27,
   "id": "ab201af5",
   "metadata": {},
   "outputs": [
    {
     "name": "stdout",
     "output_type": "stream",
     "text": [
      "[4.17022005e-01 7.20324493e-01 1.14374817e-04 ... 1.62642575e-01\n",
      " 8.55441337e-01 6.51160047e-01]\n",
      "[0.49884527 0.5194437  0.9480511  ... 0.99416697 0.61599986 0.41453835]\n"
     ]
    }
   ],
   "source": [
    "# np.random.seed(1)\n",
    "# a = np.random.rand(10000000)  # very large arrays\n",
    "# b = np.random.rand(10000000)\n",
    "# print(a)\n",
    "# print(b)\n"
   ]
  },
  {
   "cell_type": "code",
   "execution_count": 36,
   "id": "a7389dc5",
   "metadata": {},
   "outputs": [
    {
     "name": "stdout",
     "output_type": "stream",
     "text": [
      "NumPy 1-D np.dot((w, x) + b) = -110\n"
     ]
    }
   ],
   "source": [
    "import numpy as np\n",
    "w = np.arange(1,10)\n",
    "x = np.arange(-10, -1)\n",
    "b = 100\n",
    "f = np.dot(w, x) + b\n",
    "# a = f + b\n",
    "print(f\"NumPy 1-D np.dot((w, x) + b) = {f}\")"
   ]
  },
  {
   "cell_type": "code",
   "execution_count": 70,
   "id": "9f113662",
   "metadata": {},
   "outputs": [
    {
     "name": "stdout",
     "output_type": "stream",
     "text": [
      "np.dot(w, x) + b =  -754061468.0000\n",
      "Vectorized version duration: 19.9671 ms \n"
     ]
    }
   ],
   "source": [
    "import time\n",
    "w = np.arange(1,10000000)\n",
    "x = np.arange(-10000000, -1)\n",
    "b = 100\n",
    "\n",
    "tic = time.time()  # capture start time\n",
    "f = np.dot(w, x) + b\n",
    "toc = time.time()  # capture end time\n",
    "\n",
    "print(f\"np.dot(w, x) + b =  {f:.4f}\")\n",
    "print(f\"Vectorized version duration: {1000*(toc-tic):.4f} ms \")\n",
    "\n"
   ]
  },
  {
   "cell_type": "code",
   "execution_count": 68,
   "id": "a2a2461c",
   "metadata": {},
   "outputs": [
    {
     "name": "stdout",
     "output_type": "stream",
     "text": [
      "my_dot(w, x) = [971 976 975 974]\n"
     ]
    }
   ],
   "source": [
    "def my_dot(w, x): \n",
    "    \"\"\"\n",
    "   Compute the dot product of two vectors\n",
    " \n",
    "    Args:\n",
    "      a (ndarray (n,)):  input vector \n",
    "      b (ndarray (n,)):  input vector with same dimension as a\n",
    "    \n",
    "    Returns:\n",
    "      x (scalar): \n",
    "    \"\"\"\n",
    "    b = 1000\n",
    "    for i in range(a.shape[0]):\n",
    "        f = b + w[i] * x[i] \n",
    "    return f\n",
    "\n",
    "w = np.arange(1, 5)\n",
    "x = np.arange(-10, -5)\n",
    "print(f\"my_dot(w, x) = {my_dot(w, x) + b}\")"
   ]
  },
  {
   "cell_type": "code",
   "execution_count": 71,
   "id": "39cb3068",
   "metadata": {},
   "outputs": [
    {
     "name": "stdout",
     "output_type": "stream",
     "text": [
      "np.dot(a, b) =  2501072.5817\n",
      "Vectorized version duration: 15.0163 ms \n",
      "my_dot(a, b) =  1000.2699\n",
      "loop version duration: 6585.4089 ms \n"
     ]
    }
   ],
   "source": [
    "np.random.seed(1)\n",
    "a = np.random.rand(10000000)  # very large arrays\n",
    "b = np.random.rand(10000000)\n",
    "\n",
    "tic = time.time()  # capture start time\n",
    "c = np.dot(a, b)\n",
    "toc = time.time()  # capture end time\n",
    "\n",
    "print(f\"np.dot(a, b) =  {c:.4f}\")\n",
    "print(f\"Vectorized version duration: {1000*(toc-tic):.4f} ms \")\n",
    "\n",
    "tic = time.time()  # capture start time\n",
    "s = my_dot(a,b)\n",
    "toc = time.time()  # capture end time\n",
    "\n",
    "print(f\"my_dot(a, b) =  {s:.4f}\")\n",
    "print(f\"loop version duration: {1000*(toc-tic):.4f} ms \")\n",
    "\n",
    "del(a);del(b)  #remove these big arrays from memory"
   ]
  },
  {
   "cell_type": "code",
   "execution_count": null,
   "id": "072d908b",
   "metadata": {
    "tags": [
     "Colour types"
    ]
   },
   "outputs": [],
   "source": [
    "'vertigo' is not a valid value for name; supported values are 'Accent', 'Accent_r', 'Blues', 'Blues_r', 'BrBG', 'BrBG_r', 'BuGn', 'BuGn_r', 'BuPu', 'BuPu_r', 'CMRmap', 'CMRmap_r', 'Dark2', 'Dark2_r', 'GnBu', 'GnBu_r', 'Greens', 'Greens_r', 'Greys', 'Greys_r', 'OrRd', 'OrRd_r', 'Oranges', 'Oranges_r', 'PRGn', 'PRGn_r', 'Paired', 'Paired_r', 'Pastel1', 'Pastel1_r', 'Pastel2', 'Pastel2_r', 'PiYG', 'PiYG_r', 'PuBu', 'PuBuGn', 'PuBuGn_r', 'PuBu_r', 'PuOr', 'PuOr_r', 'PuRd', 'PuRd_r', 'Purples', 'Purples_r', 'RdBu', 'RdBu_r', 'RdGy', 'RdGy_r', 'RdPu', 'RdPu_r', 'RdYlBu', 'RdYlBu_r', 'RdYlGn', 'RdYlGn_r', 'Reds', 'Reds_r', 'Set1', 'Set1_r', 'Set2', 'Set2_r', 'Set3', 'Set3_r', 'Spectral', 'Spectral_r', 'Wistia', 'Wistia_r', 'YlGn', 'YlGnBu', 'YlGnBu_r', 'YlGn_r', 'YlOrBr', 'YlOrBr_r', 'YlOrRd', 'YlOrRd_r', 'afmhot', 'afmhot_r', 'autumn', 'autumn_r', 'binary', 'binary_r', 'bone', 'bone_r', 'brg', 'brg_r', 'bwr', 'bwr_r', 'cividis', 'cividis_r', 'cool', 'cool_r', 'coolwarm', 'coolwarm_r', 'copper', 'copper_r', 'crest', 'crest_r', 'cubehelix', 'cubehelix_r', 'flag', 'flag_r', 'flare', 'flare_r', 'gist_earth', 'gist_earth_r', 'gist_gray', 'gist_gray_r', 'gist_heat', 'gist_heat_r', 'gist_ncar', 'gist_ncar_r', 'gist_rainbow', 'gist_rainbow_r', 'gist_stern', 'gist_stern_r', 'gist_yarg', 'gist_yarg_r', 'gnuplot', 'gnuplot2', 'gnuplot2_r', 'gnuplot_r', 'gray', 'gray_r', 'hot', 'hot_r', 'hsv', 'hsv_r', 'icefire', 'icefire_r', 'inferno', 'inferno_r', 'jet', 'jet_r', 'magma', 'magma_r', 'mako', 'mako_r', 'nipy_spectral', 'nipy_spectral_r', 'ocean', 'ocean_r', 'pink', 'pink_r', 'plasma', 'plasma_r', 'prism', 'prism_r', 'rainbow', 'rainbow_r', 'rocket', 'rocket_r', 'seismic', 'seismic_r', 'spring', 'spring_r', 'summer', 'summer_r', 'tab10', 'tab10_r', 'tab20', 'tab20_r', 'tab20b', 'tab20b_r', 'tab20c', 'tab20c_r', 'terrain', 'terrain_r', 'turbo', 'turbo_r', 'twilight', 'twilight_r', 'twilight_shifted', 'twilight_shifted_r', 'viridis', 'viridis_r', 'vlag', 'vlag_r', 'winter', 'winter_r'\n"
   ]
  }
 ],
 "metadata": {
  "kernelspec": {
   "display_name": "Python 3 (ipykernel)",
   "language": "python",
   "name": "python3"
  },
  "language_info": {
   "codemirror_mode": {
    "name": "ipython",
    "version": 3
   },
   "file_extension": ".py",
   "mimetype": "text/x-python",
   "name": "python",
   "nbconvert_exporter": "python",
   "pygments_lexer": "ipython3",
   "version": "3.9.7"
  },
  "vscode": {
   "interpreter": {
    "hash": "df95319d8ce4e1d89f5365ae10992bc1f65da593082b1d264e8f529830ec2f02"
   }
  }
 },
 "nbformat": 4,
 "nbformat_minor": 5
}
